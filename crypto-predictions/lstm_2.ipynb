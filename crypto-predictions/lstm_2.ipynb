{
 "cells": [
  {
   "cell_type": "code",
   "id": "initial_id",
   "metadata": {
    "collapsed": true,
    "ExecuteTime": {
     "end_time": "2025-04-25T18:13:55.577195Z",
     "start_time": "2025-04-25T18:13:50.068164Z"
    }
   },
   "source": [
    "from sklearn.preprocessing import StandardScaler\n",
    "\n",
    "from influxdb.commands import InfluxDBQueries, DataProcessor\n",
    "import warnings\n",
    "import pandas as pd\n",
    "import tensorflow as tf\n",
    "\n",
    "tf.config.set_visible_devices([], 'GPU')\n",
    "\n",
    "warnings.simplefilter(action='ignore', category=pd.errors.SettingWithCopyWarning)"
   ],
   "outputs": [],
   "execution_count": 1
  },
  {
   "metadata": {
    "ExecuteTime": {
     "end_time": "2025-04-25T18:14:04.989387Z",
     "start_time": "2025-04-25T18:13:55.665826Z"
    }
   },
   "cell_type": "code",
   "source": [
    "df_train = InfluxDBQueries.get_data_from_influx(groupby_time='5m', pair='BTCUSDT', start=\"2024-01-01T01:00:00Z\",\n",
    "                                                stop=\"2025-01-01T01:00:00Z\")\n",
    "df_val = InfluxDBQueries.get_data_from_influx(groupby_time='5m', pair='BTCUSDT', start=\"2025-01-01T01:00:00Z\",\n",
    "                                              stop=\"2025-03-01T01:00:00Z\")\n",
    "df_test = InfluxDBQueries.get_data_from_influx(groupby_time='5m', pair='BTCUSDT', start=\"2025-03-01T01:00:00Z\",\n",
    "                                               stop=\"2025-04-01T01:00:00Z\")"
   ],
   "id": "816ea5bc961ae930",
   "outputs": [],
   "execution_count": 2
  },
  {
   "metadata": {
    "ExecuteTime": {
     "end_time": "2025-04-25T18:14:05.014621Z",
     "start_time": "2025-04-25T18:14:05.011201Z"
    }
   },
   "cell_type": "code",
   "source": "df_combined = pd.concat([df_train, df_test, df_val])",
   "id": "ca8c1a6b5d9b8744",
   "outputs": [],
   "execution_count": 3
  },
  {
   "metadata": {
    "ExecuteTime": {
     "end_time": "2025-04-25T18:14:31.622881Z",
     "start_time": "2025-04-25T18:14:05.027553Z"
    }
   },
   "cell_type": "code",
   "source": "df_combined, scaler, columns, scaler_y = DataProcessor.add_features(df_combined)",
   "id": "8af9c8ba986c3632",
   "outputs": [
    {
     "name": "stdout",
     "output_type": "stream",
     "text": [
      "DatetimeIndex(['2024-01-01 01:15:00+00:00', '2024-01-01 01:20:00+00:00',\n",
      "               '2024-01-01 01:25:00+00:00', '2024-01-01 01:30:00+00:00',\n",
      "               '2024-01-01 01:35:00+00:00', '2024-01-01 01:40:00+00:00',\n",
      "               '2024-01-01 01:45:00+00:00', '2024-01-01 01:50:00+00:00',\n",
      "               '2024-01-01 01:55:00+00:00', '2024-01-01 02:00:00+00:00',\n",
      "               ...\n",
      "               '2025-04-01 00:15:00+00:00', '2025-04-01 00:20:00+00:00',\n",
      "               '2025-04-01 00:25:00+00:00', '2025-04-01 00:30:00+00:00',\n",
      "               '2025-04-01 00:35:00+00:00', '2025-04-01 00:40:00+00:00',\n",
      "               '2025-04-01 00:45:00+00:00', '2025-04-01 00:50:00+00:00',\n",
      "               '2025-04-01 00:55:00+00:00', '2025-04-01 01:00:00+00:00'],\n",
      "              dtype='datetime64[ns, UTC]', name='time', length=131265, freq=None)\n",
      "DatetimeIndex(['2024-01-01 01:15:00+00:00', '2024-01-01 01:20:00+00:00',\n",
      "               '2024-01-01 01:25:00+00:00', '2024-01-01 01:30:00+00:00',\n",
      "               '2024-01-01 01:35:00+00:00', '2024-01-01 01:40:00+00:00',\n",
      "               '2024-01-01 01:45:00+00:00', '2024-01-01 01:50:00+00:00',\n",
      "               '2024-01-01 01:55:00+00:00', '2024-01-01 02:00:00+00:00',\n",
      "               ...\n",
      "               '2025-04-01 00:15:00+00:00', '2025-04-01 00:20:00+00:00',\n",
      "               '2025-04-01 00:25:00+00:00', '2025-04-01 00:30:00+00:00',\n",
      "               '2025-04-01 00:35:00+00:00', '2025-04-01 00:40:00+00:00',\n",
      "               '2025-04-01 00:45:00+00:00', '2025-04-01 00:50:00+00:00',\n",
      "               '2025-04-01 00:55:00+00:00', '2025-04-01 01:00:00+00:00'],\n",
      "              dtype='datetime64[ns, UTC]', name='time', length=131124, freq=None)\n",
      "DatetimeIndex(['2024-01-01 01:15:00+00:00', '2024-01-01 01:20:00+00:00',\n",
      "               '2024-01-01 01:25:00+00:00', '2024-01-01 01:30:00+00:00',\n",
      "               '2024-01-01 01:35:00+00:00', '2024-01-01 01:40:00+00:00',\n",
      "               '2024-01-01 01:45:00+00:00', '2024-01-01 01:50:00+00:00',\n",
      "               '2024-01-01 01:55:00+00:00', '2024-01-01 02:00:00+00:00',\n",
      "               ...\n",
      "               '2025-04-01 00:15:00+00:00', '2025-04-01 00:20:00+00:00',\n",
      "               '2025-04-01 00:25:00+00:00', '2025-04-01 00:30:00+00:00',\n",
      "               '2025-04-01 00:35:00+00:00', '2025-04-01 00:40:00+00:00',\n",
      "               '2025-04-01 00:45:00+00:00', '2025-04-01 00:50:00+00:00',\n",
      "               '2025-04-01 00:55:00+00:00', '2025-04-01 01:00:00+00:00'],\n",
      "              dtype='datetime64[ns, UTC]', name='time', length=131132, freq=None)\n",
      "DatetimeIndex(['2024-01-01 01:15:00+00:00', '2024-01-01 01:20:00+00:00',\n",
      "               '2024-01-01 01:25:00+00:00', '2024-01-01 01:30:00+00:00',\n",
      "               '2024-01-01 01:35:00+00:00', '2024-01-01 01:40:00+00:00',\n",
      "               '2024-01-01 01:45:00+00:00', '2024-01-01 01:50:00+00:00',\n",
      "               '2024-01-01 01:55:00+00:00', '2024-01-01 02:00:00+00:00',\n",
      "               ...\n",
      "               '2025-04-01 00:15:00+00:00', '2025-04-01 00:20:00+00:00',\n",
      "               '2025-04-01 00:25:00+00:00', '2025-04-01 00:30:00+00:00',\n",
      "               '2025-04-01 00:35:00+00:00', '2025-04-01 00:40:00+00:00',\n",
      "               '2025-04-01 00:45:00+00:00', '2025-04-01 00:50:00+00:00',\n",
      "               '2025-04-01 00:55:00+00:00', '2025-04-01 01:00:00+00:00'],\n",
      "              dtype='datetime64[ns, UTC]', name='time', length=131283, freq=None)\n",
      "131121\n",
      "131265\n"
     ]
    }
   ],
   "execution_count": 4
  },
  {
   "metadata": {
    "ExecuteTime": {
     "end_time": "2025-04-25T18:14:33.032054Z",
     "start_time": "2025-04-25T18:14:31.648364Z"
    }
   },
   "cell_type": "code",
   "source": [
    "df_train = df_combined.loc[df_combined.index.strftime('%Y-%m-%dT%H:%M:%SZ') < df_val.index[0].strftime('%Y-%m-%dT%H:%M:%SZ')]\n",
    "df_val = df_combined.loc[(df_combined.index.strftime('%Y-%m-%dT%H:%M:%SZ') >= df_val.index[0].strftime('%Y-%m-%dT%H:%M:%SZ')) &\n",
    "                         (df_combined.index.strftime('%Y-%m-%dT%H:%M:%SZ') < df_test.index[0].strftime('%Y-%m-%dT%H:%M:%SZ'))]\n",
    "df_test = df_combined.loc[df_combined.index.strftime('%Y-%m-%dT%H:%M:%SZ') >= df_test.index[0].strftime('%Y-%m-%dT%H:%M:%SZ')]"
   ],
   "id": "6d7a30e4e58d96b0",
   "outputs": [],
   "execution_count": 5
  },
  {
   "metadata": {
    "ExecuteTime": {
     "end_time": "2025-04-25T18:14:33.052749Z",
     "start_time": "2025-04-25T18:14:33.048271Z"
    }
   },
   "cell_type": "code",
   "source": "df_train['target']",
   "id": "74a76eef1ed6c492",
   "outputs": [
    {
     "data": {
      "text/plain": [
       "time\n",
       "2024-01-02 01:10:00+00:00         NaN\n",
       "2024-01-02 01:15:00+00:00         NaN\n",
       "2024-01-02 01:20:00+00:00         NaN\n",
       "2024-01-02 01:25:00+00:00         NaN\n",
       "2024-01-02 01:30:00+00:00         NaN\n",
       "                               ...   \n",
       "2025-01-01 00:40:00+00:00   -0.795257\n",
       "2025-01-01 00:45:00+00:00   -0.704135\n",
       "2025-01-01 00:50:00+00:00   -0.774324\n",
       "2025-01-01 00:55:00+00:00   -1.094592\n",
       "2025-01-01 01:00:00+00:00   -1.473444\n",
       "Name: target, Length: 104914, dtype: float64"
      ]
     },
     "execution_count": 6,
     "metadata": {},
     "output_type": "execute_result"
    }
   ],
   "execution_count": 6
  },
  {
   "metadata": {
    "ExecuteTime": {
     "end_time": "2025-04-25T18:14:33.126611Z",
     "start_time": "2025-04-25T18:14:33.099050Z"
    }
   },
   "cell_type": "code",
   "source": [
    "df_train = df_train.dropna()\n",
    "df_test = df_test.dropna()\n",
    "df_val = df_val.dropna()"
   ],
   "id": "8cac6de7119d8971",
   "outputs": [],
   "execution_count": 7
  },
  {
   "metadata": {
    "ExecuteTime": {
     "end_time": "2025-04-25T18:14:39.403311Z",
     "start_time": "2025-04-25T18:14:33.217862Z"
    }
   },
   "cell_type": "code",
   "source": "X_train, y_train= DataProcessor.make_sequences(df_train, columns_to_select=columns, window_size=288, forecast_horizon=1)",
   "id": "1c92382d2f921a27",
   "outputs": [],
   "execution_count": 8
  },
  {
   "metadata": {
    "ExecuteTime": {
     "end_time": "2025-04-25T18:14:40.468254Z",
     "start_time": "2025-04-25T18:14:40.010853Z"
    }
   },
   "cell_type": "code",
   "source": "X_val, y_val= DataProcessor.make_sequences(df_val, columns_to_select=columns, window_size=288, forecast_horizon=1)",
   "id": "bc920a5302feb933",
   "outputs": [],
   "execution_count": 9
  },
  {
   "metadata": {
    "ExecuteTime": {
     "end_time": "2025-04-25T18:14:40.519481Z",
     "start_time": "2025-04-25T18:14:40.514147Z"
    }
   },
   "cell_type": "code",
   "source": "from influxdb.commands import LSTMModel",
   "id": "c76c7d2ae004a101",
   "outputs": [],
   "execution_count": 10
  },
  {
   "metadata": {
    "ExecuteTime": {
     "end_time": "2025-04-25T18:14:41.115244Z",
     "start_time": "2025-04-25T18:14:41.101586Z"
    }
   },
   "cell_type": "code",
   "source": "X_train.shape",
   "id": "44613b67203926a2",
   "outputs": [
    {
     "data": {
      "text/plain": [
       "(104613, 288, 25)"
      ]
     },
     "execution_count": 11,
     "metadata": {},
     "output_type": "execute_result"
    }
   ],
   "execution_count": 11
  },
  {
   "metadata": {},
   "cell_type": "markdown",
   "source": [
    "Based on the previous cells in the notebook, I can see that `X_train.shape` would reveal the correct shape for the input. Looking at how the data is processed, I need to match the shape with the columns used in the LSTM model.\n",
    "\n"
   ],
   "id": "b78592204882ff2a"
  },
  {
   "metadata": {
    "ExecuteTime": {
     "end_time": "2025-04-25T18:14:42.225494Z",
     "start_time": "2025-04-25T18:14:41.184231Z"
    }
   },
   "cell_type": "code",
   "source": "lstm_forecaster = LSTMModel(input_shape=(288, len(columns)), output_steps=1, lstm_units=32)",
   "id": "d8de58fff948d11b",
   "outputs": [
    {
     "data": {
      "text/plain": [
       "\u001B[1mModel: \"sequential\"\u001B[0m\n"
      ],
      "text/html": [
       "<pre style=\"white-space:pre;overflow-x:auto;line-height:normal;font-family:Menlo,'DejaVu Sans Mono',consolas,'Courier New',monospace\"><span style=\"font-weight: bold\">Model: \"sequential\"</span>\n",
       "</pre>\n"
      ]
     },
     "metadata": {},
     "output_type": "display_data"
    },
    {
     "data": {
      "text/plain": [
       "┏━━━━━━━━━━━━━━━━━━━━━━━━━━━━━━━━━┳━━━━━━━━━━━━━━━━━━━━━━━━┳━━━━━━━━━━━━━━━┓\n",
       "┃\u001B[1m \u001B[0m\u001B[1mLayer (type)                   \u001B[0m\u001B[1m \u001B[0m┃\u001B[1m \u001B[0m\u001B[1mOutput Shape          \u001B[0m\u001B[1m \u001B[0m┃\u001B[1m \u001B[0m\u001B[1m      Param #\u001B[0m\u001B[1m \u001B[0m┃\n",
       "┡━━━━━━━━━━━━━━━━━━━━━━━━━━━━━━━━━╇━━━━━━━━━━━━━━━━━━━━━━━━╇━━━━━━━━━━━━━━━┩\n",
       "│ lstm (\u001B[38;5;33mLSTM\u001B[0m)                     │ (\u001B[38;5;45mNone\u001B[0m, \u001B[38;5;34m288\u001B[0m, \u001B[38;5;34m128\u001B[0m)       │        \u001B[38;5;34m78,848\u001B[0m │\n",
       "├─────────────────────────────────┼────────────────────────┼───────────────┤\n",
       "│ batch_normalization             │ (\u001B[38;5;45mNone\u001B[0m, \u001B[38;5;34m288\u001B[0m, \u001B[38;5;34m128\u001B[0m)       │           \u001B[38;5;34m512\u001B[0m │\n",
       "│ (\u001B[38;5;33mBatchNormalization\u001B[0m)            │                        │               │\n",
       "├─────────────────────────────────┼────────────────────────┼───────────────┤\n",
       "│ dropout (\u001B[38;5;33mDropout\u001B[0m)               │ (\u001B[38;5;45mNone\u001B[0m, \u001B[38;5;34m288\u001B[0m, \u001B[38;5;34m128\u001B[0m)       │             \u001B[38;5;34m0\u001B[0m │\n",
       "├─────────────────────────────────┼────────────────────────┼───────────────┤\n",
       "│ lstm_1 (\u001B[38;5;33mLSTM\u001B[0m)                   │ (\u001B[38;5;45mNone\u001B[0m, \u001B[38;5;34m64\u001B[0m)             │        \u001B[38;5;34m49,408\u001B[0m │\n",
       "├─────────────────────────────────┼────────────────────────┼───────────────┤\n",
       "│ batch_normalization_1           │ (\u001B[38;5;45mNone\u001B[0m, \u001B[38;5;34m64\u001B[0m)             │           \u001B[38;5;34m256\u001B[0m │\n",
       "│ (\u001B[38;5;33mBatchNormalization\u001B[0m)            │                        │               │\n",
       "├─────────────────────────────────┼────────────────────────┼───────────────┤\n",
       "│ dropout_1 (\u001B[38;5;33mDropout\u001B[0m)             │ (\u001B[38;5;45mNone\u001B[0m, \u001B[38;5;34m64\u001B[0m)             │             \u001B[38;5;34m0\u001B[0m │\n",
       "├─────────────────────────────────┼────────────────────────┼───────────────┤\n",
       "│ dense (\u001B[38;5;33mDense\u001B[0m)                   │ (\u001B[38;5;45mNone\u001B[0m, \u001B[38;5;34m32\u001B[0m)             │         \u001B[38;5;34m2,080\u001B[0m │\n",
       "├─────────────────────────────────┼────────────────────────┼───────────────┤\n",
       "│ dropout_2 (\u001B[38;5;33mDropout\u001B[0m)             │ (\u001B[38;5;45mNone\u001B[0m, \u001B[38;5;34m32\u001B[0m)             │             \u001B[38;5;34m0\u001B[0m │\n",
       "├─────────────────────────────────┼────────────────────────┼───────────────┤\n",
       "│ dense_1 (\u001B[38;5;33mDense\u001B[0m)                 │ (\u001B[38;5;45mNone\u001B[0m, \u001B[38;5;34m1\u001B[0m)              │            \u001B[38;5;34m33\u001B[0m │\n",
       "├─────────────────────────────────┼────────────────────────┼───────────────┤\n",
       "│ reshape (\u001B[38;5;33mReshape\u001B[0m)               │ (\u001B[38;5;45mNone\u001B[0m, \u001B[38;5;34m1\u001B[0m, \u001B[38;5;34m1\u001B[0m)           │             \u001B[38;5;34m0\u001B[0m │\n",
       "└─────────────────────────────────┴────────────────────────┴───────────────┘\n"
      ],
      "text/html": [
       "<pre style=\"white-space:pre;overflow-x:auto;line-height:normal;font-family:Menlo,'DejaVu Sans Mono',consolas,'Courier New',monospace\">┏━━━━━━━━━━━━━━━━━━━━━━━━━━━━━━━━━┳━━━━━━━━━━━━━━━━━━━━━━━━┳━━━━━━━━━━━━━━━┓\n",
       "┃<span style=\"font-weight: bold\"> Layer (type)                    </span>┃<span style=\"font-weight: bold\"> Output Shape           </span>┃<span style=\"font-weight: bold\">       Param # </span>┃\n",
       "┡━━━━━━━━━━━━━━━━━━━━━━━━━━━━━━━━━╇━━━━━━━━━━━━━━━━━━━━━━━━╇━━━━━━━━━━━━━━━┩\n",
       "│ lstm (<span style=\"color: #0087ff; text-decoration-color: #0087ff\">LSTM</span>)                     │ (<span style=\"color: #00d7ff; text-decoration-color: #00d7ff\">None</span>, <span style=\"color: #00af00; text-decoration-color: #00af00\">288</span>, <span style=\"color: #00af00; text-decoration-color: #00af00\">128</span>)       │        <span style=\"color: #00af00; text-decoration-color: #00af00\">78,848</span> │\n",
       "├─────────────────────────────────┼────────────────────────┼───────────────┤\n",
       "│ batch_normalization             │ (<span style=\"color: #00d7ff; text-decoration-color: #00d7ff\">None</span>, <span style=\"color: #00af00; text-decoration-color: #00af00\">288</span>, <span style=\"color: #00af00; text-decoration-color: #00af00\">128</span>)       │           <span style=\"color: #00af00; text-decoration-color: #00af00\">512</span> │\n",
       "│ (<span style=\"color: #0087ff; text-decoration-color: #0087ff\">BatchNormalization</span>)            │                        │               │\n",
       "├─────────────────────────────────┼────────────────────────┼───────────────┤\n",
       "│ dropout (<span style=\"color: #0087ff; text-decoration-color: #0087ff\">Dropout</span>)               │ (<span style=\"color: #00d7ff; text-decoration-color: #00d7ff\">None</span>, <span style=\"color: #00af00; text-decoration-color: #00af00\">288</span>, <span style=\"color: #00af00; text-decoration-color: #00af00\">128</span>)       │             <span style=\"color: #00af00; text-decoration-color: #00af00\">0</span> │\n",
       "├─────────────────────────────────┼────────────────────────┼───────────────┤\n",
       "│ lstm_1 (<span style=\"color: #0087ff; text-decoration-color: #0087ff\">LSTM</span>)                   │ (<span style=\"color: #00d7ff; text-decoration-color: #00d7ff\">None</span>, <span style=\"color: #00af00; text-decoration-color: #00af00\">64</span>)             │        <span style=\"color: #00af00; text-decoration-color: #00af00\">49,408</span> │\n",
       "├─────────────────────────────────┼────────────────────────┼───────────────┤\n",
       "│ batch_normalization_1           │ (<span style=\"color: #00d7ff; text-decoration-color: #00d7ff\">None</span>, <span style=\"color: #00af00; text-decoration-color: #00af00\">64</span>)             │           <span style=\"color: #00af00; text-decoration-color: #00af00\">256</span> │\n",
       "│ (<span style=\"color: #0087ff; text-decoration-color: #0087ff\">BatchNormalization</span>)            │                        │               │\n",
       "├─────────────────────────────────┼────────────────────────┼───────────────┤\n",
       "│ dropout_1 (<span style=\"color: #0087ff; text-decoration-color: #0087ff\">Dropout</span>)             │ (<span style=\"color: #00d7ff; text-decoration-color: #00d7ff\">None</span>, <span style=\"color: #00af00; text-decoration-color: #00af00\">64</span>)             │             <span style=\"color: #00af00; text-decoration-color: #00af00\">0</span> │\n",
       "├─────────────────────────────────┼────────────────────────┼───────────────┤\n",
       "│ dense (<span style=\"color: #0087ff; text-decoration-color: #0087ff\">Dense</span>)                   │ (<span style=\"color: #00d7ff; text-decoration-color: #00d7ff\">None</span>, <span style=\"color: #00af00; text-decoration-color: #00af00\">32</span>)             │         <span style=\"color: #00af00; text-decoration-color: #00af00\">2,080</span> │\n",
       "├─────────────────────────────────┼────────────────────────┼───────────────┤\n",
       "│ dropout_2 (<span style=\"color: #0087ff; text-decoration-color: #0087ff\">Dropout</span>)             │ (<span style=\"color: #00d7ff; text-decoration-color: #00d7ff\">None</span>, <span style=\"color: #00af00; text-decoration-color: #00af00\">32</span>)             │             <span style=\"color: #00af00; text-decoration-color: #00af00\">0</span> │\n",
       "├─────────────────────────────────┼────────────────────────┼───────────────┤\n",
       "│ dense_1 (<span style=\"color: #0087ff; text-decoration-color: #0087ff\">Dense</span>)                 │ (<span style=\"color: #00d7ff; text-decoration-color: #00d7ff\">None</span>, <span style=\"color: #00af00; text-decoration-color: #00af00\">1</span>)              │            <span style=\"color: #00af00; text-decoration-color: #00af00\">33</span> │\n",
       "├─────────────────────────────────┼────────────────────────┼───────────────┤\n",
       "│ reshape (<span style=\"color: #0087ff; text-decoration-color: #0087ff\">Reshape</span>)               │ (<span style=\"color: #00d7ff; text-decoration-color: #00d7ff\">None</span>, <span style=\"color: #00af00; text-decoration-color: #00af00\">1</span>, <span style=\"color: #00af00; text-decoration-color: #00af00\">1</span>)           │             <span style=\"color: #00af00; text-decoration-color: #00af00\">0</span> │\n",
       "└─────────────────────────────────┴────────────────────────┴───────────────┘\n",
       "</pre>\n"
      ]
     },
     "metadata": {},
     "output_type": "display_data"
    },
    {
     "data": {
      "text/plain": [
       "\u001B[1m Total params: \u001B[0m\u001B[38;5;34m131,137\u001B[0m (512.25 KB)\n"
      ],
      "text/html": [
       "<pre style=\"white-space:pre;overflow-x:auto;line-height:normal;font-family:Menlo,'DejaVu Sans Mono',consolas,'Courier New',monospace\"><span style=\"font-weight: bold\"> Total params: </span><span style=\"color: #00af00; text-decoration-color: #00af00\">131,137</span> (512.25 KB)\n",
       "</pre>\n"
      ]
     },
     "metadata": {},
     "output_type": "display_data"
    },
    {
     "data": {
      "text/plain": [
       "\u001B[1m Trainable params: \u001B[0m\u001B[38;5;34m130,753\u001B[0m (510.75 KB)\n"
      ],
      "text/html": [
       "<pre style=\"white-space:pre;overflow-x:auto;line-height:normal;font-family:Menlo,'DejaVu Sans Mono',consolas,'Courier New',monospace\"><span style=\"font-weight: bold\"> Trainable params: </span><span style=\"color: #00af00; text-decoration-color: #00af00\">130,753</span> (510.75 KB)\n",
       "</pre>\n"
      ]
     },
     "metadata": {},
     "output_type": "display_data"
    },
    {
     "data": {
      "text/plain": [
       "\u001B[1m Non-trainable params: \u001B[0m\u001B[38;5;34m384\u001B[0m (1.50 KB)\n"
      ],
      "text/html": [
       "<pre style=\"white-space:pre;overflow-x:auto;line-height:normal;font-family:Menlo,'DejaVu Sans Mono',consolas,'Courier New',monospace\"><span style=\"font-weight: bold\"> Non-trainable params: </span><span style=\"color: #00af00; text-decoration-color: #00af00\">384</span> (1.50 KB)\n",
       "</pre>\n"
      ]
     },
     "metadata": {},
     "output_type": "display_data"
    }
   ],
   "execution_count": 12
  },
  {
   "metadata": {
    "jupyter": {
     "is_executing": true
    },
    "ExecuteTime": {
     "start_time": "2025-04-25T18:14:42.405133Z"
    }
   },
   "cell_type": "code",
   "source": "lstm_forecaster.fit(X_train, y_train, X_val,y_val, epochs=200, batch_size=128, patience=10)",
   "id": "b8c12b7a03ad283b",
   "outputs": [
    {
     "name": "stdout",
     "output_type": "stream",
     "text": [
      "Training started with EarlyStopping (patience=10)...\n",
      "Epoch 1/200\n",
      "\u001B[1m818/818\u001B[0m \u001B[32m━━━━━━━━━━━━━━━━━━━━\u001B[0m\u001B[37m\u001B[0m \u001B[1m0s\u001B[0m 543ms/step - directional_accuracy: 0.5007 - loss: 1.2818 - mse: 0.6182\n",
      "Epoch 1: val_loss improved from inf to 0.80933, saving model to models/best_model.h5\n"
     ]
    },
    {
     "name": "stderr",
     "output_type": "stream",
     "text": [
      "WARNING:absl:You are saving your model as an HDF5 file via `model.save()` or `keras.saving.save_model(model)`. This file format is considered legacy. We recommend using instead the native Keras format, e.g. `model.save('my_model.keras')` or `keras.saving.save_model(model, 'my_model.keras')`. \n"
     ]
    },
    {
     "name": "stdout",
     "output_type": "stream",
     "text": [
      "\u001B[1m818/818\u001B[0m \u001B[32m━━━━━━━━━━━━━━━━━━━━\u001B[0m\u001B[37m\u001B[0m \u001B[1m474s\u001B[0m 577ms/step - directional_accuracy: 0.5007 - loss: 1.2812 - mse: 0.6179 - val_directional_accuracy: 0.5299 - val_loss: 0.8093 - val_mse: 0.1938 - learning_rate: 0.0010\n",
      "Epoch 2/200\n",
      "\u001B[1m818/818\u001B[0m \u001B[32m━━━━━━━━━━━━━━━━━━━━\u001B[0m\u001B[37m\u001B[0m \u001B[1m0s\u001B[0m 555ms/step - directional_accuracy: 0.5010 - loss: 0.4062 - mse: 0.1557\n",
      "Epoch 2: val_loss improved from 0.80933 to 0.61506, saving model to models/best_model.h5\n"
     ]
    },
    {
     "name": "stderr",
     "output_type": "stream",
     "text": [
      "WARNING:absl:You are saving your model as an HDF5 file via `model.save()` or `keras.saving.save_model(model)`. This file format is considered legacy. We recommend using instead the native Keras format, e.g. `model.save('my_model.keras')` or `keras.saving.save_model(model, 'my_model.keras')`. \n"
     ]
    },
    {
     "name": "stdout",
     "output_type": "stream",
     "text": [
      "\u001B[1m818/818\u001B[0m \u001B[32m━━━━━━━━━━━━━━━━━━━━\u001B[0m\u001B[37m\u001B[0m \u001B[1m477s\u001B[0m 583ms/step - directional_accuracy: 0.5010 - loss: 0.4062 - mse: 0.1557 - val_directional_accuracy: 0.5298 - val_loss: 0.6151 - val_mse: 0.1358 - learning_rate: 0.0010\n",
      "Epoch 3/200\n",
      "\u001B[1m818/818\u001B[0m \u001B[32m━━━━━━━━━━━━━━━━━━━━\u001B[0m\u001B[37m\u001B[0m \u001B[1m0s\u001B[0m 561ms/step - directional_accuracy: 0.5012 - loss: 0.3433 - mse: 0.1271\n",
      "Epoch 3: val_loss did not improve from 0.61506\n",
      "\u001B[1m818/818\u001B[0m \u001B[32m━━━━━━━━━━━━━━━━━━━━\u001B[0m\u001B[37m\u001B[0m \u001B[1m482s\u001B[0m 589ms/step - directional_accuracy: 0.5012 - loss: 0.3433 - mse: 0.1271 - val_directional_accuracy: 0.5293 - val_loss: 0.6189 - val_mse: 0.1443 - learning_rate: 0.0010\n",
      "Epoch 4/200\n",
      "\u001B[1m818/818\u001B[0m \u001B[32m━━━━━━━━━━━━━━━━━━━━\u001B[0m\u001B[37m\u001B[0m \u001B[1m0s\u001B[0m 579ms/step - directional_accuracy: 0.5011 - loss: 0.3222 - mse: 0.1123\n",
      "Epoch 4: val_loss improved from 0.61506 to 0.53092, saving model to models/best_model.h5\n"
     ]
    },
    {
     "name": "stderr",
     "output_type": "stream",
     "text": [
      "WARNING:absl:You are saving your model as an HDF5 file via `model.save()` or `keras.saving.save_model(model)`. This file format is considered legacy. We recommend using instead the native Keras format, e.g. `model.save('my_model.keras')` or `keras.saving.save_model(model, 'my_model.keras')`. \n"
     ]
    },
    {
     "name": "stdout",
     "output_type": "stream",
     "text": [
      "\u001B[1m818/818\u001B[0m \u001B[32m━━━━━━━━━━━━━━━━━━━━\u001B[0m\u001B[37m\u001B[0m \u001B[1m496s\u001B[0m 607ms/step - directional_accuracy: 0.5011 - loss: 0.3222 - mse: 0.1123 - val_directional_accuracy: 0.5293 - val_loss: 0.5309 - val_mse: 0.1094 - learning_rate: 0.0010\n",
      "Epoch 5/200\n",
      "\u001B[1m523/818\u001B[0m \u001B[32m━━━━━━━━━━━━\u001B[0m\u001B[37m━━━━━━━━\u001B[0m \u001B[1m2:44\u001B[0m 557ms/step - directional_accuracy: 0.5012 - loss: 0.3049 - mse: 0.1083"
     ]
    }
   ],
   "execution_count": null
  },
  {
   "metadata": {},
   "cell_type": "code",
   "outputs": [],
   "execution_count": 34,
   "source": "X_test, y_test = DataProcessor.make_sequences(df_test, columns_to_select=columns, window_size=288, forecast_horizon=1)",
   "id": "ae45ae60a4854fcf"
  },
  {
   "metadata": {
    "ExecuteTime": {
     "end_time": "2025-04-24T05:48:54.503929Z",
     "start_time": "2025-04-24T05:48:45.886825Z"
    }
   },
   "cell_type": "code",
   "source": "pred = lstm_forecaster.predict(X_test)",
   "id": "d2a386660a27b71b",
   "outputs": [
    {
     "name": "stdout",
     "output_type": "stream",
     "text": [
      "\u001B[1m100/100\u001B[0m \u001B[32m━━━━━━━━━━━━━━━━━━━━\u001B[0m\u001B[37m\u001B[0m \u001B[1m7s\u001B[0m 68ms/step\n"
     ]
    }
   ],
   "execution_count": 35
  },
  {
   "metadata": {
    "ExecuteTime": {
     "end_time": "2025-04-24T05:49:24.070344Z",
     "start_time": "2025-04-24T05:49:20.290925Z"
    }
   },
   "cell_type": "code",
   "source": "lstm_forecaster.model.evaluate(X_test, y_test)",
   "id": "66edca2ba0836f81",
   "outputs": [
    {
     "name": "stdout",
     "output_type": "stream",
     "text": [
      "\u001B[1m100/100\u001B[0m \u001B[32m━━━━━━━━━━━━━━━━━━━━\u001B[0m\u001B[37m\u001B[0m \u001B[1m4s\u001B[0m 28ms/step - directional_accuracy: 0.4861 - loss: 0.0032 - mse: 2.2232e-05\n"
     ]
    },
    {
     "data": {
      "text/plain": [
       "[0.003195805475115776, 2.2317519324133173e-05, 0.4799107015132904]"
      ]
     },
     "execution_count": 36,
     "metadata": {},
     "output_type": "execute_result"
    }
   ],
   "execution_count": 36
  },
  {
   "metadata": {},
   "cell_type": "code",
   "source": "pred[-1]",
   "id": "fa1b8d2086095979",
   "outputs": [],
   "execution_count": null
  },
  {
   "metadata": {},
   "cell_type": "code",
   "source": "df_test_pred = df_test",
   "id": "27eaafd2986c5756",
   "outputs": [],
   "execution_count": null
  },
  {
   "metadata": {},
   "cell_type": "code",
   "source": "df_test_pred = df_test.iloc[:12]",
   "id": "2aa0f03dc2e819e7",
   "outputs": [],
   "execution_count": null
  },
  {
   "metadata": {},
   "cell_type": "code",
   "source": "df_test_pred['close'] = pred[0]",
   "id": "19a78c6ed6fe07e8",
   "outputs": [],
   "execution_count": null
  },
  {
   "metadata": {},
   "cell_type": "code",
   "source": "df_test_pred[columns] = scaler.inverse_transform(df_test_pred[columns])",
   "id": "69f9a788654db418",
   "outputs": [],
   "execution_count": null
  },
  {
   "metadata": {},
   "cell_type": "code",
   "source": "df_test_pred",
   "id": "4c3b19972ffab426",
   "outputs": [],
   "execution_count": null
  },
  {
   "metadata": {},
   "cell_type": "code",
   "source": "df_test[columns] = scaler.inverse_transform(df_test[columns])",
   "id": "1da6f6ec381d1692",
   "outputs": [],
   "execution_count": null
  },
  {
   "metadata": {},
   "cell_type": "code",
   "source": "df_test",
   "id": "7e196c91fb50715d",
   "outputs": [],
   "execution_count": null
  },
  {
   "metadata": {},
   "cell_type": "code",
   "source": "import matplotlib.pyplot as plt",
   "id": "11957948e1beac4a",
   "outputs": [],
   "execution_count": null
  },
  {
   "metadata": {},
   "cell_type": "code",
   "source": [
    "plt.figure(figsize=(15, 5))\n",
    "plt.plot(df_test.iloc[:12]['close'], label='Actual')\n",
    "plt.plot(df_test_pred['close'], label='Predicted')\n",
    "plt.legend()"
   ],
   "id": "d22e0a9bc1ff9172",
   "outputs": [],
   "execution_count": null
  },
  {
   "metadata": {},
   "cell_type": "code",
   "source": "",
   "id": "9480a2bb9406a0b8",
   "outputs": [],
   "execution_count": null
  }
 ],
 "metadata": {
  "kernelspec": {
   "display_name": "Python 3",
   "language": "python",
   "name": "python3"
  },
  "language_info": {
   "codemirror_mode": {
    "name": "ipython",
    "version": 2
   },
   "file_extension": ".py",
   "mimetype": "text/x-python",
   "name": "python",
   "nbconvert_exporter": "python",
   "pygments_lexer": "ipython2",
   "version": "2.7.6"
  }
 },
 "nbformat": 4,
 "nbformat_minor": 5
}
