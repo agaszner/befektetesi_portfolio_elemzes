{
 "cells": [
  {
   "cell_type": "code",
   "id": "initial_id",
   "metadata": {
    "collapsed": true,
    "ExecuteTime": {
     "end_time": "2025-04-26T14:58:36.773834Z",
     "start_time": "2025-04-26T14:58:31.130563Z"
    }
   },
   "source": [
    "from influxdb.commands import InfluxDBQueries, DataProcessor, LSTMModel\n",
    "import warnings\n",
    "import pandas as pd\n",
    "import tensorflow as tf\n",
    "\n",
    "tf.config.set_visible_devices([], 'GPU')\n",
    "\n",
    "warnings.simplefilter(action='ignore', category=pd.errors.SettingWithCopyWarning)"
   ],
   "outputs": [],
   "execution_count": 1
  },
  {
   "metadata": {
    "ExecuteTime": {
     "end_time": "2025-04-26T14:58:43.448878Z",
     "start_time": "2025-04-26T14:58:36.877773Z"
    }
   },
   "cell_type": "code",
   "source": [
    "df_train = InfluxDBQueries.get_data_from_influx(groupby_time='5m', pair='BTCUSDT', start=\"2024-05-01T01:00:00Z\",\n",
    "                                                stop=\"2025-01-01T01:00:00Z\")\n",
    "df_val = InfluxDBQueries.get_data_from_influx(groupby_time='5m', pair='BTCUSDT', start=\"2025-01-01T01:00:00Z\",\n",
    "                                              stop=\"2025-03-01T01:00:00Z\")\n",
    "df_test = InfluxDBQueries.get_data_from_influx(groupby_time='5m', pair='BTCUSDT', start=\"2025-03-01T01:00:00Z\",\n",
    "                                               stop=\"2025-04-01T01:00:00Z\")"
   ],
   "id": "816ea5bc961ae930",
   "outputs": [],
   "execution_count": 2
  },
  {
   "metadata": {
    "ExecuteTime": {
     "end_time": "2025-04-26T14:58:43.491441Z",
     "start_time": "2025-04-26T14:58:43.484516Z"
    }
   },
   "cell_type": "code",
   "source": "df_combined = pd.concat([df_train, df_test, df_val])",
   "id": "ca8c1a6b5d9b8744",
   "outputs": [],
   "execution_count": 3
  },
  {
   "metadata": {
    "ExecuteTime": {
     "end_time": "2025-04-26T14:59:08.107546Z",
     "start_time": "2025-04-26T14:58:43.508834Z"
    }
   },
   "cell_type": "code",
   "source": "df_combined, scaler, columns, scaler_y = DataProcessor.add_features(df_combined)",
   "id": "59d006b18687724b",
   "outputs": [],
   "execution_count": 4
  },
  {
   "metadata": {
    "ExecuteTime": {
     "end_time": "2025-04-26T14:59:08.174744Z",
     "start_time": "2025-04-26T14:59:08.149366Z"
    }
   },
   "cell_type": "code",
   "source": "df_combined.dropna(inplace=True)",
   "id": "751a71abb55cdc12",
   "outputs": [],
   "execution_count": 5
  },
  {
   "metadata": {
    "ExecuteTime": {
     "end_time": "2025-04-26T15:16:37.549813Z",
     "start_time": "2025-04-26T14:59:08.221925Z"
    }
   },
   "cell_type": "code",
   "source": "columns, boruta = DataProcessor.select_features_boruta(df_combined, columns)",
   "id": "8af9c8ba986c3632",
   "outputs": [
    {
     "name": "stdout",
     "output_type": "stream",
     "text": [
      "Iteration: \t1 / 100\n",
      "Confirmed: \t0\n",
      "Tentative: \t31\n",
      "Rejected: \t0\n",
      "Iteration: \t2 / 100\n",
      "Confirmed: \t0\n",
      "Tentative: \t31\n",
      "Rejected: \t0\n",
      "Iteration: \t3 / 100\n",
      "Confirmed: \t0\n",
      "Tentative: \t31\n",
      "Rejected: \t0\n",
      "Iteration: \t4 / 100\n",
      "Confirmed: \t0\n",
      "Tentative: \t31\n",
      "Rejected: \t0\n",
      "Iteration: \t5 / 100\n",
      "Confirmed: \t0\n",
      "Tentative: \t31\n",
      "Rejected: \t0\n",
      "Iteration: \t6 / 100\n",
      "Confirmed: \t0\n",
      "Tentative: \t31\n",
      "Rejected: \t0\n",
      "Iteration: \t7 / 100\n",
      "Confirmed: \t0\n",
      "Tentative: \t31\n",
      "Rejected: \t0\n",
      "Iteration: \t8 / 100\n",
      "Confirmed: \t7\n",
      "Tentative: \t0\n",
      "Rejected: \t24\n",
      "\n",
      "\n",
      "BorutaPy finished running.\n",
      "\n",
      "Iteration: \t9 / 100\n",
      "Confirmed: \t7\n",
      "Tentative: \t0\n",
      "Rejected: \t24\n",
      "\n",
      "------ Feature Selection Results ------\n",
      "\n",
      "        Feature  Support  Ranking\n",
      "       return_1     True        1\n",
      "       return_5     True        1\n",
      " return_mean_24     True        1\n",
      "  return_std_24     True        1\n",
      "         atr_14     True        1\n",
      "      range_cur     True        1\n",
      "      range_pct     True        1\n",
      "  actual_return    False        2\n",
      "      macd_hist    False        3\n",
      "        ma_diff    False        4\n",
      "            obv    False        5\n",
      "    vol_mean_24    False        6\n",
      "         rsi_14    False        7\n",
      "           beta    False        8\n",
      "     vol_std_24    False        9\n",
      "expected_return    False        9\n",
      "  market_return    False       11\n",
      "        stoch_k    False       12\n",
      "    macd_signal    False       13\n",
      "       range_24    False       14\n",
      "        stoch_d    False       15\n",
      "           macd    False       16\n",
      "       bb_width    False       17\n",
      "   close_std_24    False       18\n",
      "       bb_lower    False       19\n",
      "          price    False       20\n",
      "       bb_upper    False       21\n",
      "       sma_fast    False       22\n",
      "    close_ma_24    False       23\n",
      "       sma_slow    False       23\n",
      "           vwap    False       25\n",
      "\n",
      "Selected features: ['return_1', 'return_5', 'return_mean_24', 'return_std_24', 'atr_14', 'range_cur', 'range_pct']\n"
     ]
    }
   ],
   "execution_count": 6
  },
  {
   "metadata": {
    "ExecuteTime": {
     "end_time": "2025-04-26T15:18:25.436625Z",
     "start_time": "2025-04-26T15:18:25.416767Z"
    }
   },
   "cell_type": "code",
   "source": "print(columns, boruta)",
   "id": "e23d2a2788e7c4da",
   "outputs": [
    {
     "name": "stdout",
     "output_type": "stream",
     "text": [
      "['return_1', 'return_5', 'return_mean_24', 'return_std_24', 'atr_14', 'range_cur', 'range_pct'] BorutaPy(estimator=RandomForestRegressor(n_estimators=78, n_jobs=-1,\n",
      "                                         random_state=RandomState(MT19937) at 0x30706A640),\n",
      "         n_estimators='auto', perc=80,\n",
      "         random_state=RandomState(MT19937) at 0x30706A640, verbose=2)\n"
     ]
    }
   ],
   "execution_count": 7
  },
  {
   "metadata": {
    "ExecuteTime": {
     "end_time": "2025-04-26T15:18:30.370430Z",
     "start_time": "2025-04-26T15:18:29.025002Z"
    }
   },
   "cell_type": "code",
   "source": [
    "df_train = df_combined.loc[df_combined.index.strftime('%Y-%m-%dT%H:%M:%SZ') < df_val.index[0].strftime('%Y-%m-%dT%H:%M:%SZ')]\n",
    "df_val = df_combined.loc[(df_combined.index.strftime('%Y-%m-%dT%H:%M:%SZ') >= df_val.index[0].strftime('%Y-%m-%dT%H:%M:%SZ')) &\n",
    "                         (df_combined.index.strftime('%Y-%m-%dT%H:%M:%SZ') < df_test.index[0].strftime('%Y-%m-%dT%H:%M:%SZ'))]\n",
    "df_test = df_combined.loc[df_combined.index.strftime('%Y-%m-%dT%H:%M:%SZ') >= df_test.index[0].strftime('%Y-%m-%dT%H:%M:%SZ')]"
   ],
   "id": "6d7a30e4e58d96b0",
   "outputs": [],
   "execution_count": 8
  },
  {
   "metadata": {
    "ExecuteTime": {
     "end_time": "2025-04-26T15:18:31.432793Z",
     "start_time": "2025-04-26T15:18:31.357943Z"
    }
   },
   "cell_type": "code",
   "source": [
    "df_train = df_train.dropna()\n",
    "df_test = df_test.dropna()\n",
    "df_val = df_val.dropna()"
   ],
   "id": "8cac6de7119d8971",
   "outputs": [],
   "execution_count": 9
  },
  {
   "metadata": {
    "ExecuteTime": {
     "end_time": "2025-04-26T15:18:33.081741Z",
     "start_time": "2025-04-26T15:18:32.572836Z"
    }
   },
   "cell_type": "code",
   "source": "X_train, y_train= DataProcessor.make_sequences(df_train, columns_to_select=columns, window_size=288, forecast_horizon=1)",
   "id": "1c92382d2f921a27",
   "outputs": [],
   "execution_count": 10
  },
  {
   "metadata": {
    "ExecuteTime": {
     "end_time": "2025-04-26T15:18:33.869301Z",
     "start_time": "2025-04-26T15:18:33.781948Z"
    }
   },
   "cell_type": "code",
   "source": "X_val, y_val= DataProcessor.make_sequences(df_val, columns_to_select=columns, window_size=288, forecast_horizon=1)",
   "id": "bc920a5302feb933",
   "outputs": [],
   "execution_count": 11
  },
  {
   "metadata": {
    "ExecuteTime": {
     "end_time": "2025-04-26T15:18:36.446097Z",
     "start_time": "2025-04-26T15:18:36.079864Z"
    }
   },
   "cell_type": "code",
   "source": "lstm_forecaster = LSTMModel(input_shape=(288, len(columns)), output_steps=1)",
   "id": "d8de58fff948d11b",
   "outputs": [
    {
     "data": {
      "text/plain": [
       "\u001B[1mModel: \"sequential\"\u001B[0m\n"
      ],
      "text/html": [
       "<pre style=\"white-space:pre;overflow-x:auto;line-height:normal;font-family:Menlo,'DejaVu Sans Mono',consolas,'Courier New',monospace\"><span style=\"font-weight: bold\">Model: \"sequential\"</span>\n",
       "</pre>\n"
      ]
     },
     "metadata": {},
     "output_type": "display_data"
    },
    {
     "data": {
      "text/plain": [
       "┏━━━━━━━━━━━━━━━━━━━━━━━━━━━━━━━━━┳━━━━━━━━━━━━━━━━━━━━━━━━┳━━━━━━━━━━━━━━━┓\n",
       "┃\u001B[1m \u001B[0m\u001B[1mLayer (type)                   \u001B[0m\u001B[1m \u001B[0m┃\u001B[1m \u001B[0m\u001B[1mOutput Shape          \u001B[0m\u001B[1m \u001B[0m┃\u001B[1m \u001B[0m\u001B[1m      Param #\u001B[0m\u001B[1m \u001B[0m┃\n",
       "┡━━━━━━━━━━━━━━━━━━━━━━━━━━━━━━━━━╇━━━━━━━━━━━━━━━━━━━━━━━━╇━━━━━━━━━━━━━━━┩\n",
       "│ conv1d (\u001B[38;5;33mConv1D\u001B[0m)                 │ (\u001B[38;5;45mNone\u001B[0m, \u001B[38;5;34m288\u001B[0m, \u001B[38;5;34m32\u001B[0m)        │           \u001B[38;5;34m704\u001B[0m │\n",
       "├─────────────────────────────────┼────────────────────────┼───────────────┤\n",
       "│ max_pooling1d (\u001B[38;5;33mMaxPooling1D\u001B[0m)    │ (\u001B[38;5;45mNone\u001B[0m, \u001B[38;5;34m144\u001B[0m, \u001B[38;5;34m32\u001B[0m)        │             \u001B[38;5;34m0\u001B[0m │\n",
       "├─────────────────────────────────┼────────────────────────┼───────────────┤\n",
       "│ batch_normalization             │ (\u001B[38;5;45mNone\u001B[0m, \u001B[38;5;34m144\u001B[0m, \u001B[38;5;34m32\u001B[0m)        │           \u001B[38;5;34m128\u001B[0m │\n",
       "│ (\u001B[38;5;33mBatchNormalization\u001B[0m)            │                        │               │\n",
       "├─────────────────────────────────┼────────────────────────┼───────────────┤\n",
       "│ dropout (\u001B[38;5;33mDropout\u001B[0m)               │ (\u001B[38;5;45mNone\u001B[0m, \u001B[38;5;34m144\u001B[0m, \u001B[38;5;34m32\u001B[0m)        │             \u001B[38;5;34m0\u001B[0m │\n",
       "├─────────────────────────────────┼────────────────────────┼───────────────┤\n",
       "│ lstm (\u001B[38;5;33mLSTM\u001B[0m)                     │ (\u001B[38;5;45mNone\u001B[0m, \u001B[38;5;34m144\u001B[0m, \u001B[38;5;34m128\u001B[0m)       │        \u001B[38;5;34m82,432\u001B[0m │\n",
       "├─────────────────────────────────┼────────────────────────┼───────────────┤\n",
       "│ batch_normalization_1           │ (\u001B[38;5;45mNone\u001B[0m, \u001B[38;5;34m144\u001B[0m, \u001B[38;5;34m128\u001B[0m)       │           \u001B[38;5;34m512\u001B[0m │\n",
       "│ (\u001B[38;5;33mBatchNormalization\u001B[0m)            │                        │               │\n",
       "├─────────────────────────────────┼────────────────────────┼───────────────┤\n",
       "│ dropout_1 (\u001B[38;5;33mDropout\u001B[0m)             │ (\u001B[38;5;45mNone\u001B[0m, \u001B[38;5;34m144\u001B[0m, \u001B[38;5;34m128\u001B[0m)       │             \u001B[38;5;34m0\u001B[0m │\n",
       "├─────────────────────────────────┼────────────────────────┼───────────────┤\n",
       "│ lstm_1 (\u001B[38;5;33mLSTM\u001B[0m)                   │ (\u001B[38;5;45mNone\u001B[0m, \u001B[38;5;34m64\u001B[0m)             │        \u001B[38;5;34m49,408\u001B[0m │\n",
       "├─────────────────────────────────┼────────────────────────┼───────────────┤\n",
       "│ batch_normalization_2           │ (\u001B[38;5;45mNone\u001B[0m, \u001B[38;5;34m64\u001B[0m)             │           \u001B[38;5;34m256\u001B[0m │\n",
       "│ (\u001B[38;5;33mBatchNormalization\u001B[0m)            │                        │               │\n",
       "├─────────────────────────────────┼────────────────────────┼───────────────┤\n",
       "│ dropout_2 (\u001B[38;5;33mDropout\u001B[0m)             │ (\u001B[38;5;45mNone\u001B[0m, \u001B[38;5;34m64\u001B[0m)             │             \u001B[38;5;34m0\u001B[0m │\n",
       "├─────────────────────────────────┼────────────────────────┼───────────────┤\n",
       "│ dense (\u001B[38;5;33mDense\u001B[0m)                   │ (\u001B[38;5;45mNone\u001B[0m, \u001B[38;5;34m32\u001B[0m)             │         \u001B[38;5;34m2,080\u001B[0m │\n",
       "├─────────────────────────────────┼────────────────────────┼───────────────┤\n",
       "│ dropout_3 (\u001B[38;5;33mDropout\u001B[0m)             │ (\u001B[38;5;45mNone\u001B[0m, \u001B[38;5;34m32\u001B[0m)             │             \u001B[38;5;34m0\u001B[0m │\n",
       "├─────────────────────────────────┼────────────────────────┼───────────────┤\n",
       "│ dense_1 (\u001B[38;5;33mDense\u001B[0m)                 │ (\u001B[38;5;45mNone\u001B[0m, \u001B[38;5;34m1\u001B[0m)              │            \u001B[38;5;34m33\u001B[0m │\n",
       "├─────────────────────────────────┼────────────────────────┼───────────────┤\n",
       "│ reshape (\u001B[38;5;33mReshape\u001B[0m)               │ (\u001B[38;5;45mNone\u001B[0m, \u001B[38;5;34m1\u001B[0m, \u001B[38;5;34m1\u001B[0m)           │             \u001B[38;5;34m0\u001B[0m │\n",
       "└─────────────────────────────────┴────────────────────────┴───────────────┘\n"
      ],
      "text/html": [
       "<pre style=\"white-space:pre;overflow-x:auto;line-height:normal;font-family:Menlo,'DejaVu Sans Mono',consolas,'Courier New',monospace\">┏━━━━━━━━━━━━━━━━━━━━━━━━━━━━━━━━━┳━━━━━━━━━━━━━━━━━━━━━━━━┳━━━━━━━━━━━━━━━┓\n",
       "┃<span style=\"font-weight: bold\"> Layer (type)                    </span>┃<span style=\"font-weight: bold\"> Output Shape           </span>┃<span style=\"font-weight: bold\">       Param # </span>┃\n",
       "┡━━━━━━━━━━━━━━━━━━━━━━━━━━━━━━━━━╇━━━━━━━━━━━━━━━━━━━━━━━━╇━━━━━━━━━━━━━━━┩\n",
       "│ conv1d (<span style=\"color: #0087ff; text-decoration-color: #0087ff\">Conv1D</span>)                 │ (<span style=\"color: #00d7ff; text-decoration-color: #00d7ff\">None</span>, <span style=\"color: #00af00; text-decoration-color: #00af00\">288</span>, <span style=\"color: #00af00; text-decoration-color: #00af00\">32</span>)        │           <span style=\"color: #00af00; text-decoration-color: #00af00\">704</span> │\n",
       "├─────────────────────────────────┼────────────────────────┼───────────────┤\n",
       "│ max_pooling1d (<span style=\"color: #0087ff; text-decoration-color: #0087ff\">MaxPooling1D</span>)    │ (<span style=\"color: #00d7ff; text-decoration-color: #00d7ff\">None</span>, <span style=\"color: #00af00; text-decoration-color: #00af00\">144</span>, <span style=\"color: #00af00; text-decoration-color: #00af00\">32</span>)        │             <span style=\"color: #00af00; text-decoration-color: #00af00\">0</span> │\n",
       "├─────────────────────────────────┼────────────────────────┼───────────────┤\n",
       "│ batch_normalization             │ (<span style=\"color: #00d7ff; text-decoration-color: #00d7ff\">None</span>, <span style=\"color: #00af00; text-decoration-color: #00af00\">144</span>, <span style=\"color: #00af00; text-decoration-color: #00af00\">32</span>)        │           <span style=\"color: #00af00; text-decoration-color: #00af00\">128</span> │\n",
       "│ (<span style=\"color: #0087ff; text-decoration-color: #0087ff\">BatchNormalization</span>)            │                        │               │\n",
       "├─────────────────────────────────┼────────────────────────┼───────────────┤\n",
       "│ dropout (<span style=\"color: #0087ff; text-decoration-color: #0087ff\">Dropout</span>)               │ (<span style=\"color: #00d7ff; text-decoration-color: #00d7ff\">None</span>, <span style=\"color: #00af00; text-decoration-color: #00af00\">144</span>, <span style=\"color: #00af00; text-decoration-color: #00af00\">32</span>)        │             <span style=\"color: #00af00; text-decoration-color: #00af00\">0</span> │\n",
       "├─────────────────────────────────┼────────────────────────┼───────────────┤\n",
       "│ lstm (<span style=\"color: #0087ff; text-decoration-color: #0087ff\">LSTM</span>)                     │ (<span style=\"color: #00d7ff; text-decoration-color: #00d7ff\">None</span>, <span style=\"color: #00af00; text-decoration-color: #00af00\">144</span>, <span style=\"color: #00af00; text-decoration-color: #00af00\">128</span>)       │        <span style=\"color: #00af00; text-decoration-color: #00af00\">82,432</span> │\n",
       "├─────────────────────────────────┼────────────────────────┼───────────────┤\n",
       "│ batch_normalization_1           │ (<span style=\"color: #00d7ff; text-decoration-color: #00d7ff\">None</span>, <span style=\"color: #00af00; text-decoration-color: #00af00\">144</span>, <span style=\"color: #00af00; text-decoration-color: #00af00\">128</span>)       │           <span style=\"color: #00af00; text-decoration-color: #00af00\">512</span> │\n",
       "│ (<span style=\"color: #0087ff; text-decoration-color: #0087ff\">BatchNormalization</span>)            │                        │               │\n",
       "├─────────────────────────────────┼────────────────────────┼───────────────┤\n",
       "│ dropout_1 (<span style=\"color: #0087ff; text-decoration-color: #0087ff\">Dropout</span>)             │ (<span style=\"color: #00d7ff; text-decoration-color: #00d7ff\">None</span>, <span style=\"color: #00af00; text-decoration-color: #00af00\">144</span>, <span style=\"color: #00af00; text-decoration-color: #00af00\">128</span>)       │             <span style=\"color: #00af00; text-decoration-color: #00af00\">0</span> │\n",
       "├─────────────────────────────────┼────────────────────────┼───────────────┤\n",
       "│ lstm_1 (<span style=\"color: #0087ff; text-decoration-color: #0087ff\">LSTM</span>)                   │ (<span style=\"color: #00d7ff; text-decoration-color: #00d7ff\">None</span>, <span style=\"color: #00af00; text-decoration-color: #00af00\">64</span>)             │        <span style=\"color: #00af00; text-decoration-color: #00af00\">49,408</span> │\n",
       "├─────────────────────────────────┼────────────────────────┼───────────────┤\n",
       "│ batch_normalization_2           │ (<span style=\"color: #00d7ff; text-decoration-color: #00d7ff\">None</span>, <span style=\"color: #00af00; text-decoration-color: #00af00\">64</span>)             │           <span style=\"color: #00af00; text-decoration-color: #00af00\">256</span> │\n",
       "│ (<span style=\"color: #0087ff; text-decoration-color: #0087ff\">BatchNormalization</span>)            │                        │               │\n",
       "├─────────────────────────────────┼────────────────────────┼───────────────┤\n",
       "│ dropout_2 (<span style=\"color: #0087ff; text-decoration-color: #0087ff\">Dropout</span>)             │ (<span style=\"color: #00d7ff; text-decoration-color: #00d7ff\">None</span>, <span style=\"color: #00af00; text-decoration-color: #00af00\">64</span>)             │             <span style=\"color: #00af00; text-decoration-color: #00af00\">0</span> │\n",
       "├─────────────────────────────────┼────────────────────────┼───────────────┤\n",
       "│ dense (<span style=\"color: #0087ff; text-decoration-color: #0087ff\">Dense</span>)                   │ (<span style=\"color: #00d7ff; text-decoration-color: #00d7ff\">None</span>, <span style=\"color: #00af00; text-decoration-color: #00af00\">32</span>)             │         <span style=\"color: #00af00; text-decoration-color: #00af00\">2,080</span> │\n",
       "├─────────────────────────────────┼────────────────────────┼───────────────┤\n",
       "│ dropout_3 (<span style=\"color: #0087ff; text-decoration-color: #0087ff\">Dropout</span>)             │ (<span style=\"color: #00d7ff; text-decoration-color: #00d7ff\">None</span>, <span style=\"color: #00af00; text-decoration-color: #00af00\">32</span>)             │             <span style=\"color: #00af00; text-decoration-color: #00af00\">0</span> │\n",
       "├─────────────────────────────────┼────────────────────────┼───────────────┤\n",
       "│ dense_1 (<span style=\"color: #0087ff; text-decoration-color: #0087ff\">Dense</span>)                 │ (<span style=\"color: #00d7ff; text-decoration-color: #00d7ff\">None</span>, <span style=\"color: #00af00; text-decoration-color: #00af00\">1</span>)              │            <span style=\"color: #00af00; text-decoration-color: #00af00\">33</span> │\n",
       "├─────────────────────────────────┼────────────────────────┼───────────────┤\n",
       "│ reshape (<span style=\"color: #0087ff; text-decoration-color: #0087ff\">Reshape</span>)               │ (<span style=\"color: #00d7ff; text-decoration-color: #00d7ff\">None</span>, <span style=\"color: #00af00; text-decoration-color: #00af00\">1</span>, <span style=\"color: #00af00; text-decoration-color: #00af00\">1</span>)           │             <span style=\"color: #00af00; text-decoration-color: #00af00\">0</span> │\n",
       "└─────────────────────────────────┴────────────────────────┴───────────────┘\n",
       "</pre>\n"
      ]
     },
     "metadata": {},
     "output_type": "display_data"
    },
    {
     "data": {
      "text/plain": [
       "\u001B[1m Total params: \u001B[0m\u001B[38;5;34m135,553\u001B[0m (529.50 KB)\n"
      ],
      "text/html": [
       "<pre style=\"white-space:pre;overflow-x:auto;line-height:normal;font-family:Menlo,'DejaVu Sans Mono',consolas,'Courier New',monospace\"><span style=\"font-weight: bold\"> Total params: </span><span style=\"color: #00af00; text-decoration-color: #00af00\">135,553</span> (529.50 KB)\n",
       "</pre>\n"
      ]
     },
     "metadata": {},
     "output_type": "display_data"
    },
    {
     "data": {
      "text/plain": [
       "\u001B[1m Trainable params: \u001B[0m\u001B[38;5;34m135,105\u001B[0m (527.75 KB)\n"
      ],
      "text/html": [
       "<pre style=\"white-space:pre;overflow-x:auto;line-height:normal;font-family:Menlo,'DejaVu Sans Mono',consolas,'Courier New',monospace\"><span style=\"font-weight: bold\"> Trainable params: </span><span style=\"color: #00af00; text-decoration-color: #00af00\">135,105</span> (527.75 KB)\n",
       "</pre>\n"
      ]
     },
     "metadata": {},
     "output_type": "display_data"
    },
    {
     "data": {
      "text/plain": [
       "\u001B[1m Non-trainable params: \u001B[0m\u001B[38;5;34m448\u001B[0m (1.75 KB)\n"
      ],
      "text/html": [
       "<pre style=\"white-space:pre;overflow-x:auto;line-height:normal;font-family:Menlo,'DejaVu Sans Mono',consolas,'Courier New',monospace\"><span style=\"font-weight: bold\"> Non-trainable params: </span><span style=\"color: #00af00; text-decoration-color: #00af00\">448</span> (1.75 KB)\n",
       "</pre>\n"
      ]
     },
     "metadata": {},
     "output_type": "display_data"
    }
   ],
   "execution_count": 14
  },
  {
   "metadata": {
    "ExecuteTime": {
     "end_time": "2025-04-26T17:09:37.635237Z",
     "start_time": "2025-04-26T15:18:39.806113Z"
    }
   },
   "cell_type": "code",
   "source": "lstm_forecaster.fit(X_train, y_train, X_val,y_val, epochs=200, batch_size=128, patience=10)",
   "id": "b8c12b7a03ad283b",
   "outputs": [
    {
     "name": "stdout",
     "output_type": "stream",
     "text": [
      "Training started with EarlyStopping (patience=10)...\n",
      "Epoch 1/200\n",
      "\u001B[1m546/546\u001B[0m \u001B[32m━━━━━━━━━━━━━━━━━━━━\u001B[0m\u001B[37m\u001B[0m \u001B[1m0s\u001B[0m 470ms/step - directional_accuracy: 0.5007 - loss: 2.4961 - mse: 1.0843\n",
      "Epoch 1: val_loss improved from inf to 2.12426, saving model to models/best_model.keras\n",
      "\u001B[1m546/546\u001B[0m \u001B[32m━━━━━━━━━━━━━━━━━━━━\u001B[0m\u001B[37m\u001B[0m \u001B[1m275s\u001B[0m 499ms/step - directional_accuracy: 0.5007 - loss: 2.4958 - mse: 1.0841 - val_directional_accuracy: 0.5092 - val_loss: 2.1243 - val_mse: 1.0161 - learning_rate: 0.0010\n",
      "Epoch 2/200\n",
      "\u001B[1m546/546\u001B[0m \u001B[32m━━━━━━━━━━━━━━━━━━━━\u001B[0m\u001B[37m\u001B[0m \u001B[1m0s\u001B[0m 485ms/step - directional_accuracy: 0.4982 - loss: 2.1471 - mse: 0.8700\n",
      "Epoch 2: val_loss improved from 2.12426 to 2.07997, saving model to models/best_model.keras\n",
      "\u001B[1m546/546\u001B[0m \u001B[32m━━━━━━━━━━━━━━━━━━━━\u001B[0m\u001B[37m\u001B[0m \u001B[1m279s\u001B[0m 512ms/step - directional_accuracy: 0.4982 - loss: 2.1471 - mse: 0.8700 - val_directional_accuracy: 0.5012 - val_loss: 2.0800 - val_mse: 1.0101 - learning_rate: 0.0010\n",
      "Epoch 3/200\n",
      "\u001B[1m546/546\u001B[0m \u001B[32m━━━━━━━━━━━━━━━━━━━━\u001B[0m\u001B[37m\u001B[0m \u001B[1m0s\u001B[0m 456ms/step - directional_accuracy: 0.5074 - loss: 2.0726 - mse: 0.8239\n",
      "Epoch 3: val_loss improved from 2.07997 to 2.01219, saving model to models/best_model.keras\n",
      "\u001B[1m546/546\u001B[0m \u001B[32m━━━━━━━━━━━━━━━━━━━━\u001B[0m\u001B[37m\u001B[0m \u001B[1m264s\u001B[0m 484ms/step - directional_accuracy: 0.5074 - loss: 2.0726 - mse: 0.8239 - val_directional_accuracy: 0.5063 - val_loss: 2.0122 - val_mse: 1.0070 - learning_rate: 0.0010\n",
      "Epoch 4/200\n",
      "\u001B[1m546/546\u001B[0m \u001B[32m━━━━━━━━━━━━━━━━━━━━\u001B[0m\u001B[37m\u001B[0m \u001B[1m0s\u001B[0m 471ms/step - directional_accuracy: 0.5101 - loss: 2.0588 - mse: 0.8150\n",
      "Epoch 4: val_loss did not improve from 2.01219\n",
      "\u001B[1m546/546\u001B[0m \u001B[32m━━━━━━━━━━━━━━━━━━━━\u001B[0m\u001B[37m\u001B[0m \u001B[1m272s\u001B[0m 498ms/step - directional_accuracy: 0.5101 - loss: 2.0588 - mse: 0.8150 - val_directional_accuracy: 0.5101 - val_loss: 2.1570 - val_mse: 1.0052 - learning_rate: 0.0010\n",
      "Epoch 5/200\n",
      "\u001B[1m546/546\u001B[0m \u001B[32m━━━━━━━━━━━━━━━━━━━━\u001B[0m\u001B[37m\u001B[0m \u001B[1m0s\u001B[0m 465ms/step - directional_accuracy: 0.5070 - loss: 2.0831 - mse: 0.8647\n",
      "Epoch 5: val_loss improved from 2.01219 to 1.95639, saving model to models/best_model.keras\n",
      "\u001B[1m546/546\u001B[0m \u001B[32m━━━━━━━━━━━━━━━━━━━━\u001B[0m\u001B[37m\u001B[0m \u001B[1m269s\u001B[0m 493ms/step - directional_accuracy: 0.5070 - loss: 2.0831 - mse: 0.8646 - val_directional_accuracy: 0.5203 - val_loss: 1.9564 - val_mse: 1.0046 - learning_rate: 0.0010\n",
      "Epoch 6/200\n",
      "\u001B[1m546/546\u001B[0m \u001B[32m━━━━━━━━━━━━━━━━━━━━\u001B[0m\u001B[37m\u001B[0m \u001B[1m0s\u001B[0m 461ms/step - directional_accuracy: 0.5139 - loss: 2.0580 - mse: 0.8086\n",
      "Epoch 6: val_loss improved from 1.95639 to 1.94895, saving model to models/best_model.keras\n",
      "\u001B[1m546/546\u001B[0m \u001B[32m━━━━━━━━━━━━━━━━━━━━\u001B[0m\u001B[37m\u001B[0m \u001B[1m267s\u001B[0m 489ms/step - directional_accuracy: 0.5139 - loss: 2.0580 - mse: 0.8086 - val_directional_accuracy: 0.5153 - val_loss: 1.9489 - val_mse: 1.0056 - learning_rate: 0.0010\n",
      "Epoch 7/200\n",
      "\u001B[1m546/546\u001B[0m \u001B[32m━━━━━━━━━━━━━━━━━━━━\u001B[0m\u001B[37m\u001B[0m \u001B[1m0s\u001B[0m 462ms/step - directional_accuracy: 0.5141 - loss: 2.0568 - mse: 0.8301\n",
      "Epoch 7: val_loss improved from 1.94895 to 1.89781, saving model to models/best_model.keras\n",
      "\u001B[1m546/546\u001B[0m \u001B[32m━━━━━━━━━━━━━━━━━━━━\u001B[0m\u001B[37m\u001B[0m \u001B[1m267s\u001B[0m 490ms/step - directional_accuracy: 0.5141 - loss: 2.0568 - mse: 0.8301 - val_directional_accuracy: 0.4997 - val_loss: 1.8978 - val_mse: 1.0053 - learning_rate: 0.0010\n",
      "Epoch 8/200\n",
      "\u001B[1m546/546\u001B[0m \u001B[32m━━━━━━━━━━━━━━━━━━━━\u001B[0m\u001B[37m\u001B[0m \u001B[1m0s\u001B[0m 465ms/step - directional_accuracy: 0.5175 - loss: 2.0200 - mse: 0.8240\n",
      "Epoch 8: val_loss did not improve from 1.89781\n",
      "\u001B[1m546/546\u001B[0m \u001B[32m━━━━━━━━━━━━━━━━━━━━\u001B[0m\u001B[37m\u001B[0m \u001B[1m269s\u001B[0m 492ms/step - directional_accuracy: 0.5175 - loss: 2.0200 - mse: 0.8241 - val_directional_accuracy: 0.5109 - val_loss: 1.9406 - val_mse: 1.0064 - learning_rate: 0.0010\n",
      "Epoch 9/200\n",
      "\u001B[1m546/546\u001B[0m \u001B[32m━━━━━━━━━━━━━━━━━━━━\u001B[0m\u001B[37m\u001B[0m \u001B[1m0s\u001B[0m 467ms/step - directional_accuracy: 0.5211 - loss: 2.0337 - mse: 0.8214\n",
      "Epoch 9: val_loss improved from 1.89781 to 1.84881, saving model to models/best_model.keras\n",
      "\u001B[1m546/546\u001B[0m \u001B[32m━━━━━━━━━━━━━━━━━━━━\u001B[0m\u001B[37m\u001B[0m \u001B[1m271s\u001B[0m 496ms/step - directional_accuracy: 0.5211 - loss: 2.0337 - mse: 0.8214 - val_directional_accuracy: 0.5077 - val_loss: 1.8488 - val_mse: 1.0053 - learning_rate: 0.0010\n",
      "Epoch 10/200\n",
      "\u001B[1m546/546\u001B[0m \u001B[32m━━━━━━━━━━━━━━━━━━━━\u001B[0m\u001B[37m\u001B[0m \u001B[1m0s\u001B[0m 462ms/step - directional_accuracy: 0.5117 - loss: 2.0504 - mse: 0.8283\n",
      "Epoch 10: val_loss improved from 1.84881 to 1.79819, saving model to models/best_model.keras\n",
      "\u001B[1m546/546\u001B[0m \u001B[32m━━━━━━━━━━━━━━━━━━━━\u001B[0m\u001B[37m\u001B[0m \u001B[1m267s\u001B[0m 489ms/step - directional_accuracy: 0.5117 - loss: 2.0504 - mse: 0.8283 - val_directional_accuracy: 0.5157 - val_loss: 1.7982 - val_mse: 1.0070 - learning_rate: 0.0010\n",
      "Epoch 11/200\n",
      "\u001B[1m546/546\u001B[0m \u001B[32m━━━━━━━━━━━━━━━━━━━━\u001B[0m\u001B[37m\u001B[0m \u001B[1m0s\u001B[0m 458ms/step - directional_accuracy: 0.5107 - loss: 2.0571 - mse: 0.8286\n",
      "Epoch 11: val_loss did not improve from 1.79819\n",
      "\u001B[1m546/546\u001B[0m \u001B[32m━━━━━━━━━━━━━━━━━━━━\u001B[0m\u001B[37m\u001B[0m \u001B[1m265s\u001B[0m 485ms/step - directional_accuracy: 0.5107 - loss: 2.0571 - mse: 0.8286 - val_directional_accuracy: 0.5140 - val_loss: 1.9600 - val_mse: 1.0053 - learning_rate: 0.0010\n",
      "Epoch 12/200\n",
      "\u001B[1m546/546\u001B[0m \u001B[32m━━━━━━━━━━━━━━━━━━━━\u001B[0m\u001B[37m\u001B[0m \u001B[1m0s\u001B[0m 460ms/step - directional_accuracy: 0.5147 - loss: 2.0475 - mse: 0.8400\n",
      "Epoch 12: val_loss did not improve from 1.79819\n",
      "\u001B[1m546/546\u001B[0m \u001B[32m━━━━━━━━━━━━━━━━━━━━\u001B[0m\u001B[37m\u001B[0m \u001B[1m266s\u001B[0m 487ms/step - directional_accuracy: 0.5147 - loss: 2.0475 - mse: 0.8400 - val_directional_accuracy: 0.5033 - val_loss: 1.8173 - val_mse: 1.0091 - learning_rate: 0.0010\n",
      "Epoch 13/200\n",
      "\u001B[1m546/546\u001B[0m \u001B[32m━━━━━━━━━━━━━━━━━━━━\u001B[0m\u001B[37m\u001B[0m \u001B[1m0s\u001B[0m 463ms/step - directional_accuracy: 0.5101 - loss: 2.0473 - mse: 0.8284\n",
      "Epoch 13: val_loss did not improve from 1.79819\n",
      "\u001B[1m546/546\u001B[0m \u001B[32m━━━━━━━━━━━━━━━━━━━━\u001B[0m\u001B[37m\u001B[0m \u001B[1m268s\u001B[0m 491ms/step - directional_accuracy: 0.5101 - loss: 2.0473 - mse: 0.8284 - val_directional_accuracy: 0.5121 - val_loss: 1.8558 - val_mse: 1.0055 - learning_rate: 0.0010\n",
      "Epoch 14/200\n",
      "\u001B[1m546/546\u001B[0m \u001B[32m━━━━━━━━━━━━━━━━━━━━\u001B[0m\u001B[37m\u001B[0m \u001B[1m0s\u001B[0m 460ms/step - directional_accuracy: 0.5124 - loss: 2.0785 - mse: 0.8612\n",
      "Epoch 14: val_loss improved from 1.79819 to 1.75126, saving model to models/best_model.keras\n",
      "\u001B[1m546/546\u001B[0m \u001B[32m━━━━━━━━━━━━━━━━━━━━\u001B[0m\u001B[37m\u001B[0m \u001B[1m266s\u001B[0m 488ms/step - directional_accuracy: 0.5124 - loss: 2.0784 - mse: 0.8612 - val_directional_accuracy: 0.5146 - val_loss: 1.7513 - val_mse: 1.0053 - learning_rate: 0.0010\n",
      "Epoch 15/200\n",
      "\u001B[1m546/546\u001B[0m \u001B[32m━━━━━━━━━━━━━━━━━━━━\u001B[0m\u001B[37m\u001B[0m \u001B[1m0s\u001B[0m 468ms/step - directional_accuracy: 0.5171 - loss: 2.0586 - mse: 0.8243\n",
      "Epoch 15: val_loss did not improve from 1.75126\n",
      "\u001B[1m546/546\u001B[0m \u001B[32m━━━━━━━━━━━━━━━━━━━━\u001B[0m\u001B[37m\u001B[0m \u001B[1m271s\u001B[0m 496ms/step - directional_accuracy: 0.5171 - loss: 2.0586 - mse: 0.8243 - val_directional_accuracy: 0.5184 - val_loss: 1.7966 - val_mse: 1.0047 - learning_rate: 0.0010\n",
      "Epoch 16/200\n",
      "\u001B[1m546/546\u001B[0m \u001B[32m━━━━━━━━━━━━━━━━━━━━\u001B[0m\u001B[37m\u001B[0m \u001B[1m0s\u001B[0m 470ms/step - directional_accuracy: 0.5152 - loss: 2.0348 - mse: 0.8543\n",
      "Epoch 16: val_loss did not improve from 1.75126\n",
      "\u001B[1m546/546\u001B[0m \u001B[32m━━━━━━━━━━━━━━━━━━━━\u001B[0m\u001B[37m\u001B[0m \u001B[1m272s\u001B[0m 498ms/step - directional_accuracy: 0.5152 - loss: 2.0348 - mse: 0.8543 - val_directional_accuracy: 0.5112 - val_loss: 1.8247 - val_mse: 1.0050 - learning_rate: 0.0010\n",
      "Epoch 17/200\n",
      "\u001B[1m546/546\u001B[0m \u001B[32m━━━━━━━━━━━━━━━━━━━━\u001B[0m\u001B[37m\u001B[0m \u001B[1m0s\u001B[0m 473ms/step - directional_accuracy: 0.5118 - loss: 2.0504 - mse: 0.8228\n",
      "Epoch 17: val_loss did not improve from 1.75126\n",
      "\u001B[1m546/546\u001B[0m \u001B[32m━━━━━━━━━━━━━━━━━━━━\u001B[0m\u001B[37m\u001B[0m \u001B[1m274s\u001B[0m 501ms/step - directional_accuracy: 0.5118 - loss: 2.0503 - mse: 0.8228 - val_directional_accuracy: 0.5145 - val_loss: 1.7961 - val_mse: 1.0072 - learning_rate: 0.0010\n",
      "Epoch 18/200\n",
      "\u001B[1m546/546\u001B[0m \u001B[32m━━━━━━━━━━━━━━━━━━━━\u001B[0m\u001B[37m\u001B[0m \u001B[1m0s\u001B[0m 469ms/step - directional_accuracy: 0.5178 - loss: 2.0492 - mse: 0.8659\n",
      "Epoch 18: val_loss did not improve from 1.75126\n",
      "\u001B[1m546/546\u001B[0m \u001B[32m━━━━━━━━━━━━━━━━━━━━\u001B[0m\u001B[37m\u001B[0m \u001B[1m271s\u001B[0m 496ms/step - directional_accuracy: 0.5178 - loss: 2.0492 - mse: 0.8659 - val_directional_accuracy: 0.5049 - val_loss: 1.7794 - val_mse: 1.0053 - learning_rate: 0.0010\n",
      "Epoch 19/200\n",
      "\u001B[1m546/546\u001B[0m \u001B[32m━━━━━━━━━━━━━━━━━━━━\u001B[0m\u001B[37m\u001B[0m \u001B[1m0s\u001B[0m 517ms/step - directional_accuracy: 0.5181 - loss: 2.0359 - mse: 0.8188\n",
      "Epoch 19: ReduceLROnPlateau reducing learning rate to 0.0005000000237487257.\n",
      "\n",
      "Epoch 19: val_loss did not improve from 1.75126\n",
      "\u001B[1m546/546\u001B[0m \u001B[32m━━━━━━━━━━━━━━━━━━━━\u001B[0m\u001B[37m\u001B[0m \u001B[1m300s\u001B[0m 550ms/step - directional_accuracy: 0.5181 - loss: 2.0359 - mse: 0.8188 - val_directional_accuracy: 0.5150 - val_loss: 1.8547 - val_mse: 1.0060 - learning_rate: 0.0010\n",
      "Epoch 20/200\n",
      "\u001B[1m546/546\u001B[0m \u001B[32m━━━━━━━━━━━━━━━━━━━━\u001B[0m\u001B[37m\u001B[0m \u001B[1m0s\u001B[0m 568ms/step - directional_accuracy: 0.5207 - loss: 2.0201 - mse: 0.8539\n",
      "Epoch 20: val_loss did not improve from 1.75126\n",
      "\u001B[1m546/546\u001B[0m \u001B[32m━━━━━━━━━━━━━━━━━━━━\u001B[0m\u001B[37m\u001B[0m \u001B[1m327s\u001B[0m 600ms/step - directional_accuracy: 0.5207 - loss: 2.0201 - mse: 0.8539 - val_directional_accuracy: 0.5139 - val_loss: 1.8446 - val_mse: 1.0062 - learning_rate: 5.0000e-04\n",
      "Epoch 21/200\n",
      "\u001B[1m546/546\u001B[0m \u001B[32m━━━━━━━━━━━━━━━━━━━━\u001B[0m\u001B[37m\u001B[0m \u001B[1m0s\u001B[0m 511ms/step - directional_accuracy: 0.5191 - loss: 2.0224 - mse: 0.8252\n",
      "Epoch 21: val_loss did not improve from 1.75126\n",
      "\u001B[1m546/546\u001B[0m \u001B[32m━━━━━━━━━━━━━━━━━━━━\u001B[0m\u001B[37m\u001B[0m \u001B[1m296s\u001B[0m 542ms/step - directional_accuracy: 0.5191 - loss: 2.0224 - mse: 0.8252 - val_directional_accuracy: 0.5221 - val_loss: 1.8329 - val_mse: 1.0059 - learning_rate: 5.0000e-04\n",
      "Epoch 22/200\n",
      "\u001B[1m546/546\u001B[0m \u001B[32m━━━━━━━━━━━━━━━━━━━━\u001B[0m\u001B[37m\u001B[0m \u001B[1m0s\u001B[0m 504ms/step - directional_accuracy: 0.5210 - loss: 2.0292 - mse: 0.8229\n",
      "Epoch 22: val_loss did not improve from 1.75126\n",
      "\u001B[1m546/546\u001B[0m \u001B[32m━━━━━━━━━━━━━━━━━━━━\u001B[0m\u001B[37m\u001B[0m \u001B[1m291s\u001B[0m 533ms/step - directional_accuracy: 0.5210 - loss: 2.0292 - mse: 0.8229 - val_directional_accuracy: 0.5117 - val_loss: 1.8452 - val_mse: 1.0054 - learning_rate: 5.0000e-04\n",
      "Epoch 23/200\n",
      "\u001B[1m546/546\u001B[0m \u001B[32m━━━━━━━━━━━━━━━━━━━━\u001B[0m\u001B[37m\u001B[0m \u001B[1m0s\u001B[0m 493ms/step - directional_accuracy: 0.5201 - loss: 2.0159 - mse: 0.8264\n",
      "Epoch 23: val_loss did not improve from 1.75126\n",
      "\u001B[1m546/546\u001B[0m \u001B[32m━━━━━━━━━━━━━━━━━━━━\u001B[0m\u001B[37m\u001B[0m \u001B[1m285s\u001B[0m 523ms/step - directional_accuracy: 0.5201 - loss: 2.0159 - mse: 0.8265 - val_directional_accuracy: 0.5189 - val_loss: 1.8595 - val_mse: 1.0060 - learning_rate: 5.0000e-04\n",
      "Epoch 24/200\n",
      "\u001B[1m546/546\u001B[0m \u001B[32m━━━━━━━━━━━━━━━━━━━━\u001B[0m\u001B[37m\u001B[0m \u001B[1m0s\u001B[0m 524ms/step - directional_accuracy: 0.5198 - loss: 2.0166 - mse: 0.8323\n",
      "Epoch 24: ReduceLROnPlateau reducing learning rate to 0.0002500000118743628.\n",
      "\n",
      "Epoch 24: val_loss did not improve from 1.75126\n",
      "\u001B[1m546/546\u001B[0m \u001B[32m━━━━━━━━━━━━━━━━━━━━\u001B[0m\u001B[37m\u001B[0m \u001B[1m302s\u001B[0m 554ms/step - directional_accuracy: 0.5198 - loss: 2.0167 - mse: 0.8323 - val_directional_accuracy: 0.5142 - val_loss: 1.9385 - val_mse: 1.0050 - learning_rate: 5.0000e-04\n",
      "Training finished.\n"
     ]
    },
    {
     "data": {
      "text/plain": [
       "<keras.src.callbacks.history.History at 0x30b22fb30>"
      ]
     },
     "execution_count": 15,
     "metadata": {},
     "output_type": "execute_result"
    }
   ],
   "execution_count": 15
  },
  {
   "metadata": {
    "ExecuteTime": {
     "end_time": "2025-04-26T17:10:25.325876Z",
     "start_time": "2025-04-26T17:10:25.264272Z"
    }
   },
   "cell_type": "code",
   "source": "X_test, y_test = DataProcessor.make_sequences(df_test, columns_to_select=columns, window_size=288, forecast_horizon=1)",
   "id": "ae45ae60a4854fcf",
   "outputs": [],
   "execution_count": 16
  },
  {
   "metadata": {
    "ExecuteTime": {
     "end_time": "2025-04-26T17:10:41.001941Z",
     "start_time": "2025-04-26T17:10:29.705485Z"
    }
   },
   "cell_type": "code",
   "source": "pred = lstm_forecaster.predict(X_test)",
   "id": "d2a386660a27b71b",
   "outputs": [
    {
     "name": "stdout",
     "output_type": "stream",
     "text": [
      "\u001B[1m270/270\u001B[0m \u001B[32m━━━━━━━━━━━━━━━━━━━━\u001B[0m\u001B[37m\u001B[0m \u001B[1m11s\u001B[0m 39ms/step\n"
     ]
    }
   ],
   "execution_count": 17
  },
  {
   "metadata": {},
   "cell_type": "code",
   "outputs": [],
   "execution_count": null,
   "source": "",
   "id": "e96b02a561646b6b"
  }
 ],
 "metadata": {
  "kernelspec": {
   "display_name": "Python 3",
   "language": "python",
   "name": "python3"
  },
  "language_info": {
   "codemirror_mode": {
    "name": "ipython",
    "version": 2
   },
   "file_extension": ".py",
   "mimetype": "text/x-python",
   "name": "python",
   "nbconvert_exporter": "python",
   "pygments_lexer": "ipython2",
   "version": "2.7.6"
  }
 },
 "nbformat": 4,
 "nbformat_minor": 5
}
