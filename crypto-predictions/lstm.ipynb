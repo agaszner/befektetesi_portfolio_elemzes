{
 "cells": [
  {
   "cell_type": "code",
   "id": "initial_id",
   "metadata": {
    "collapsed": true,
    "ExecuteTime": {
     "end_time": "2025-04-25T13:36:29.394649Z",
     "start_time": "2025-04-25T13:36:22.720002Z"
    }
   },
   "source": [
    "from influxdb.commands import InfluxDBQueries, DataProcessor\n",
    "import warnings\n",
    "import pandas as pd\n",
    "import tensorflow as tf\n",
    "\n",
    "tf.config.set_visible_devices([], 'GPU')\n",
    "warnings.simplefilter(action='ignore', category=pd.errors.SettingWithCopyWarning)"
   ],
   "outputs": [],
   "execution_count": 1
  },
  {
   "metadata": {
    "ExecuteTime": {
     "end_time": "2025-04-25T13:36:38.294047Z",
     "start_time": "2025-04-25T13:36:29.496616Z"
    }
   },
   "cell_type": "code",
   "source": "df_train = InfluxDBQueries.get_data_from_influx(groupby_time='5m', pair='BTCUSDT', start=\"2024-01-01T01:00:00Z\",stop=\"2025-01-01T01:00:00Z\")",
   "id": "816ea5bc961ae930",
   "outputs": [],
   "execution_count": 2
  },
  {
   "metadata": {
    "ExecuteTime": {
     "end_time": "2025-04-25T13:36:39.238550Z",
     "start_time": "2025-04-25T13:36:38.309905Z"
    }
   },
   "cell_type": "code",
   "source": "df_val = InfluxDBQueries.get_data_from_influx(groupby_time='5m', pair='BTCUSDT', start=\"2025-01-01T01:00:00Z\", stop=\"2025-03-01T01:00:00Z\")",
   "id": "7483b23916debdf3",
   "outputs": [],
   "execution_count": 3
  },
  {
   "metadata": {
    "ExecuteTime": {
     "end_time": "2025-04-25T13:36:39.703168Z",
     "start_time": "2025-04-25T13:36:39.242862Z"
    }
   },
   "cell_type": "code",
   "source": "df_test = InfluxDBQueries.get_data_from_influx(groupby_time='5m', pair='BTCUSDT', start=\"2025-03-01T01:00:00Z\", stop=\"2025-04-01T01:00:00Z\")",
   "id": "8b45215573aff3a3",
   "outputs": [],
   "execution_count": 4
  },
  {
   "metadata": {
    "ExecuteTime": {
     "end_time": "2025-04-25T13:36:40.720088Z",
     "start_time": "2025-04-25T13:36:40.715045Z"
    }
   },
   "cell_type": "code",
   "source": "df_combined = pd.concat([df_train, df_test, df_val])",
   "id": "ca8c1a6b5d9b8744",
   "outputs": [],
   "execution_count": 5
  },
  {
   "metadata": {
    "ExecuteTime": {
     "end_time": "2025-04-25T13:37:08.644350Z",
     "start_time": "2025-04-25T13:36:40.880677Z"
    }
   },
   "cell_type": "code",
   "source": "df_combined, scaler, columns = DataProcessor.add_features(df_combined)",
   "id": "8af9c8ba986c3632",
   "outputs": [
    {
     "name": "stdout",
     "output_type": "stream",
     "text": [
      "Number of NaN values in each column:\n",
      "high                0\n",
      "low                 0\n",
      "close               0\n",
      "volume              0\n",
      "open                0\n",
      "return_1            1\n",
      "return_5            5\n",
      "rolling_mean_12    11\n",
      "rolling_std_12     11\n",
      "price_range         0\n",
      "typical_price       0\n",
      "vwap_20            19\n",
      "vol_mean_10         9\n",
      "vol_std_10          9\n",
      "ma_7                6\n",
      "ma_30              29\n",
      "rsi_14             14\n",
      "bb_mean_20         19\n",
      "bb_std_20          19\n",
      "bb_hband           19\n",
      "bb_lband           19\n",
      "macd                0\n",
      "macd_signal         0\n",
      "atr                23\n",
      "obv                 0\n",
      "dtype: int64\n",
      "DatetimeIndex(['2024-01-01 01:15:00+00:00', '2024-01-01 01:20:00+00:00',\n",
      "               '2024-01-01 01:25:00+00:00', '2024-01-01 01:30:00+00:00',\n",
      "               '2024-01-01 01:35:00+00:00', '2024-01-01 01:40:00+00:00',\n",
      "               '2024-01-01 01:45:00+00:00', '2024-01-01 01:50:00+00:00',\n",
      "               '2024-01-01 01:55:00+00:00', '2024-01-01 02:00:00+00:00',\n",
      "               ...\n",
      "               '2025-04-01 00:15:00+00:00', '2025-04-01 00:20:00+00:00',\n",
      "               '2025-04-01 00:25:00+00:00', '2025-04-01 00:30:00+00:00',\n",
      "               '2025-04-01 00:35:00+00:00', '2025-04-01 00:40:00+00:00',\n",
      "               '2025-04-01 00:45:00+00:00', '2025-04-01 00:50:00+00:00',\n",
      "               '2025-04-01 00:55:00+00:00', '2025-04-01 01:00:00+00:00'],\n",
      "              dtype='datetime64[ns, UTC]', name='time', length=131265, freq=None)\n",
      "DatetimeIndex(['2024-01-01 01:15:00+00:00', '2024-01-01 01:20:00+00:00',\n",
      "               '2024-01-01 01:25:00+00:00', '2024-01-01 01:30:00+00:00',\n",
      "               '2024-01-01 01:35:00+00:00', '2024-01-01 01:40:00+00:00',\n",
      "               '2024-01-01 01:45:00+00:00', '2024-01-01 01:50:00+00:00',\n",
      "               '2024-01-01 01:55:00+00:00', '2024-01-01 02:00:00+00:00',\n",
      "               ...\n",
      "               '2025-04-01 00:15:00+00:00', '2025-04-01 00:20:00+00:00',\n",
      "               '2025-04-01 00:25:00+00:00', '2025-04-01 00:30:00+00:00',\n",
      "               '2025-04-01 00:35:00+00:00', '2025-04-01 00:40:00+00:00',\n",
      "               '2025-04-01 00:45:00+00:00', '2025-04-01 00:50:00+00:00',\n",
      "               '2025-04-01 00:55:00+00:00', '2025-04-01 01:00:00+00:00'],\n",
      "              dtype='datetime64[ns, UTC]', name='time', length=131124, freq=None)\n",
      "DatetimeIndex(['2024-01-01 01:15:00+00:00', '2024-01-01 01:20:00+00:00',\n",
      "               '2024-01-01 01:25:00+00:00', '2024-01-01 01:30:00+00:00',\n",
      "               '2024-01-01 01:35:00+00:00', '2024-01-01 01:40:00+00:00',\n",
      "               '2024-01-01 01:45:00+00:00', '2024-01-01 01:50:00+00:00',\n",
      "               '2024-01-01 01:55:00+00:00', '2024-01-01 02:00:00+00:00',\n",
      "               ...\n",
      "               '2025-04-01 00:15:00+00:00', '2025-04-01 00:20:00+00:00',\n",
      "               '2025-04-01 00:25:00+00:00', '2025-04-01 00:30:00+00:00',\n",
      "               '2025-04-01 00:35:00+00:00', '2025-04-01 00:40:00+00:00',\n",
      "               '2025-04-01 00:45:00+00:00', '2025-04-01 00:50:00+00:00',\n",
      "               '2025-04-01 00:55:00+00:00', '2025-04-01 01:00:00+00:00'],\n",
      "              dtype='datetime64[ns, UTC]', name='time', length=131132, freq=None)\n",
      "DatetimeIndex(['2024-01-01 01:15:00+00:00', '2024-01-01 01:20:00+00:00',\n",
      "               '2024-01-01 01:25:00+00:00', '2024-01-01 01:30:00+00:00',\n",
      "               '2024-01-01 01:35:00+00:00', '2024-01-01 01:40:00+00:00',\n",
      "               '2024-01-01 01:45:00+00:00', '2024-01-01 01:50:00+00:00',\n",
      "               '2024-01-01 01:55:00+00:00', '2024-01-01 02:00:00+00:00',\n",
      "               ...\n",
      "               '2025-04-01 00:15:00+00:00', '2025-04-01 00:20:00+00:00',\n",
      "               '2025-04-01 00:25:00+00:00', '2025-04-01 00:30:00+00:00',\n",
      "               '2025-04-01 00:35:00+00:00', '2025-04-01 00:40:00+00:00',\n",
      "               '2025-04-01 00:45:00+00:00', '2025-04-01 00:50:00+00:00',\n",
      "               '2025-04-01 00:55:00+00:00', '2025-04-01 01:00:00+00:00'],\n",
      "              dtype='datetime64[ns, UTC]', name='time', length=131283, freq=None)\n",
      "131121\n",
      "131265\n",
      "Number of NaN values in each column:\n",
      "price              0\n",
      "beta               0\n",
      "market_return      0\n",
      "expected_return    0\n",
      "actual_return      0\n",
      "alpha              0\n",
      "risk_free_rate     0\n",
      "dtype: int64\n",
      "Number of NaN values in each column:\n",
      "high                 0\n",
      "low                  0\n",
      "close                0\n",
      "volume               0\n",
      "open                 0\n",
      "return_1             1\n",
      "return_5             5\n",
      "rolling_mean_12     11\n",
      "rolling_std_12      11\n",
      "price_range          0\n",
      "typical_price        0\n",
      "vwap_20             19\n",
      "vol_mean_10          9\n",
      "vol_std_10           9\n",
      "ma_7                 6\n",
      "ma_30               29\n",
      "rsi_14              14\n",
      "bb_mean_20          19\n",
      "bb_std_20           19\n",
      "bb_hband            19\n",
      "bb_lband            19\n",
      "macd                 0\n",
      "macd_signal          0\n",
      "atr                 23\n",
      "obv                  0\n",
      "price              433\n",
      "beta               433\n",
      "market_return      433\n",
      "expected_return    433\n",
      "actual_return      433\n",
      "alpha              433\n",
      "risk_free_rate     433\n",
      "dtype: int64\n"
     ]
    }
   ],
   "execution_count": 6
  },
  {
   "metadata": {
    "ExecuteTime": {
     "end_time": "2025-04-25T13:37:10.089018Z",
     "start_time": "2025-04-25T13:37:08.667337Z"
    }
   },
   "cell_type": "code",
   "source": [
    "df_train = df_combined.loc[df_combined.index.strftime('%Y-%m-%dT%H:%M:%SZ') < df_val.index[0].strftime('%Y-%m-%dT%H:%M:%SZ')]\n",
    "df_val = df_combined.loc[(df_combined.index.strftime('%Y-%m-%dT%H:%M:%SZ') >= df_val.index[0].strftime('%Y-%m-%dT%H:%M:%SZ')) &\n",
    "                         (df_combined.index.strftime('%Y-%m-%dT%H:%M:%SZ') < df_test.index[0].strftime('%Y-%m-%dT%H:%M:%SZ'))]\n",
    "df_test = df_combined.loc[df_combined.index.strftime('%Y-%m-%dT%H:%M:%SZ') >= df_test.index[0].strftime('%Y-%m-%dT%H:%M:%SZ')]"
   ],
   "id": "6d7a30e4e58d96b0",
   "outputs": [],
   "execution_count": 7
  },
  {
   "metadata": {
    "ExecuteTime": {
     "end_time": "2025-04-25T13:37:11.442635Z",
     "start_time": "2025-04-25T13:37:11.396275Z"
    }
   },
   "cell_type": "code",
   "source": [
    "df_train = df_train.dropna()\n",
    "df_test = df_test.dropna()\n",
    "df_val = df_val.dropna()"
   ],
   "id": "8cac6de7119d8971",
   "outputs": [],
   "execution_count": 8
  },
  {
   "metadata": {
    "ExecuteTime": {
     "end_time": "2025-04-25T13:37:18.822484Z",
     "start_time": "2025-04-25T13:37:11.557262Z"
    }
   },
   "cell_type": "code",
   "source": "X_train, y_train = DataProcessor.make_sequences(df_train, columns_to_select=columns, window_size=288, forecast_horizon=12)",
   "id": "1c92382d2f921a27",
   "outputs": [],
   "execution_count": 9
  },
  {
   "metadata": {
    "ExecuteTime": {
     "end_time": "2025-04-25T13:37:21.112679Z",
     "start_time": "2025-04-25T13:37:19.895271Z"
    }
   },
   "cell_type": "code",
   "source": "X_val, y_val = DataProcessor.make_sequences(df_val, columns_to_select=columns, window_size=288, forecast_horizon=12)",
   "id": "8af27aa4517f9117",
   "outputs": [],
   "execution_count": 10
  },
  {
   "metadata": {
    "ExecuteTime": {
     "end_time": "2025-04-25T13:37:21.551095Z",
     "start_time": "2025-04-25T13:37:21.522541Z"
    }
   },
   "cell_type": "code",
   "source": "from influxdb.commands import LSTMModel",
   "id": "c76c7d2ae004a101",
   "outputs": [],
   "execution_count": 11
  },
  {
   "metadata": {},
   "cell_type": "markdown",
   "source": [
    "Based on the previous cells in the notebook, I can see that `X_train.shape` would reveal the correct shape for the input. Looking at how the data is processed, I need to match the shape with the columns used in the LSTM model.\n",
    "\n"
   ],
   "id": "b78592204882ff2a"
  },
  {
   "metadata": {
    "ExecuteTime": {
     "end_time": "2025-04-25T13:37:24.732124Z",
     "start_time": "2025-04-25T13:37:21.902235Z"
    }
   },
   "cell_type": "code",
   "source": "lstm_forecaster = LSTMModel(input_shape=(288, len(columns)), output_steps=12, lstm_units=16)",
   "id": "d8de58fff948d11b",
   "outputs": [],
   "execution_count": 12
  },
  {
   "metadata": {
    "jupyter": {
     "is_executing": true
    },
    "ExecuteTime": {
     "start_time": "2025-04-25T13:37:24.776617Z"
    }
   },
   "cell_type": "code",
   "source": "lstm_forecaster.fit(X_train, y_train, X_val, y_val, 200, batch_size=128, patience=10)",
   "id": "b8c12b7a03ad283b",
   "outputs": [
    {
     "name": "stdout",
     "output_type": "stream",
     "text": [
      "Training started with EarlyStopping (patience=10)...\n",
      "Epoch 1/200\n",
      "\u001B[1m818/818\u001B[0m \u001B[32m━━━━━━━━━━━━━━━━━━━━\u001B[0m\u001B[37m\u001B[0m \u001B[1m135s\u001B[0m 160ms/step - directional_accuracy: 0.4990 - loss: 0.1131 - mse: 0.0524 - val_directional_accuracy: 0.5001 - val_loss: 0.0026 - val_mse: 1.8043e-05\n",
      "Epoch 2/200\n",
      "\u001B[1m818/818\u001B[0m \u001B[32m━━━━━━━━━━━━━━━━━━━━\u001B[0m\u001B[37m\u001B[0m \u001B[1m133s\u001B[0m 163ms/step - directional_accuracy: 0.5009 - loss: 0.0027 - mse: 2.1436e-05 - val_directional_accuracy: 0.4996 - val_loss: 0.0026 - val_mse: 1.8099e-05\n",
      "Epoch 3/200\n",
      "\u001B[1m818/818\u001B[0m \u001B[32m━━━━━━━━━━━━━━━━━━━━\u001B[0m\u001B[37m\u001B[0m \u001B[1m139s\u001B[0m 170ms/step - directional_accuracy: 0.4999 - loss: 0.0026 - mse: 1.7911e-05 - val_directional_accuracy: 0.4996 - val_loss: 0.0026 - val_mse: 1.7842e-05\n",
      "Epoch 4/200\n",
      "\u001B[1m496/818\u001B[0m \u001B[32m━━━━━━━━━━━━\u001B[0m\u001B[37m━━━━━━━━\u001B[0m \u001B[1m53s\u001B[0m 167ms/step - directional_accuracy: 0.5002 - loss: 0.0026 - mse: 1.7750e-05"
     ]
    }
   ],
   "execution_count": null
  },
  {
   "metadata": {},
   "cell_type": "code",
   "source": "X_test, y_test = DataProcessor.make_sequences(df_test, columns_to_select=columns, window_size=288, forecast_horizon=12)",
   "id": "ae45ae60a4854fcf",
   "outputs": [],
   "execution_count": null
  },
  {
   "metadata": {},
   "cell_type": "code",
   "source": "lstm_forecaster.model.evaluate(X_test, y_test)",
   "id": "fa1b8d2086095979",
   "outputs": [],
   "execution_count": null
  },
  {
   "metadata": {},
   "cell_type": "code",
   "source": "df_test_pred = df_test",
   "id": "27eaafd2986c5756",
   "outputs": [],
   "execution_count": null
  },
  {
   "metadata": {},
   "cell_type": "code",
   "source": "df_test_pred = df_test.iloc[:12]",
   "id": "2aa0f03dc2e819e7",
   "outputs": [],
   "execution_count": null
  },
  {
   "metadata": {},
   "cell_type": "code",
   "source": "lstm_forecaster.model.save('model.h5')",
   "id": "e330345526a85166",
   "outputs": [],
   "execution_count": null
  },
  {
   "metadata": {},
   "cell_type": "code",
   "source": "df_test_pred['close'] = pred[0]",
   "id": "19a78c6ed6fe07e8",
   "outputs": [],
   "execution_count": null
  },
  {
   "metadata": {},
   "cell_type": "code",
   "source": "df_test_pred[columns] = scaler.inverse_transform(df_test_pred[columns])",
   "id": "69f9a788654db418",
   "outputs": [],
   "execution_count": null
  },
  {
   "metadata": {},
   "cell_type": "code",
   "source": "df_test_pred",
   "id": "4c3b19972ffab426",
   "outputs": [],
   "execution_count": null
  },
  {
   "metadata": {},
   "cell_type": "code",
   "source": "df_test[columns] = scaler.inverse_transform(df_test[columns])",
   "id": "1da6f6ec381d1692",
   "outputs": [],
   "execution_count": null
  },
  {
   "metadata": {},
   "cell_type": "code",
   "source": "df_test",
   "id": "7e196c91fb50715d",
   "outputs": [],
   "execution_count": null
  },
  {
   "metadata": {},
   "cell_type": "code",
   "source": "import matplotlib.pyplot as plt",
   "id": "11957948e1beac4a",
   "outputs": [],
   "execution_count": null
  },
  {
   "metadata": {},
   "cell_type": "code",
   "source": [
    "plt.figure(figsize=(15, 5))\n",
    "plt.plot(df_test.iloc[:12]['close'], label='Actual')\n",
    "plt.plot(df_test_pred['close'], label='Predicted')\n",
    "plt.legend()"
   ],
   "id": "d22e0a9bc1ff9172",
   "outputs": [],
   "execution_count": null
  },
  {
   "metadata": {},
   "cell_type": "code",
   "source": "",
   "id": "9480a2bb9406a0b8",
   "outputs": [],
   "execution_count": null
  }
 ],
 "metadata": {
  "kernelspec": {
   "display_name": "Python 3",
   "language": "python",
   "name": "python3"
  },
  "language_info": {
   "codemirror_mode": {
    "name": "ipython",
    "version": 2
   },
   "file_extension": ".py",
   "mimetype": "text/x-python",
   "name": "python",
   "nbconvert_exporter": "python",
   "pygments_lexer": "ipython2",
   "version": "2.7.6"
  }
 },
 "nbformat": 4,
 "nbformat_minor": 5
}
