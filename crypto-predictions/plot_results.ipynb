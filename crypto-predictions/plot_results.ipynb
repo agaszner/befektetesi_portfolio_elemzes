{
 "cells": [
  {
   "cell_type": "code",
   "id": "initial_id",
   "metadata": {
    "collapsed": true,
    "ExecuteTime": {
     "end_time": "2025-05-13T18:38:40.978746Z",
     "start_time": "2025-05-13T18:38:34.342546Z"
    }
   },
   "source": [
    "import tensorflow as tf\n",
    "from sklearn.metrics import classification_report, roc_auc_score\n",
    "\n",
    "from influxdb.commands import InfluxDBQueries, DataProcessor\n",
    "import pandas as pd\n",
    "import pickle\n",
    "tf.config.set_visible_devices([], 'GPU')"
   ],
   "outputs": [],
   "execution_count": 1
  },
  {
   "metadata": {
    "ExecuteTime": {
     "end_time": "2025-05-13T18:38:41.107137Z",
     "start_time": "2025-05-13T18:38:41.104009Z"
    }
   },
   "cell_type": "code",
   "source": [
    "columns_5m = ['volume', 'return_1', 'return_5', 'return_mean_24', 'return_std_24', 'ma_diff', 'rsi_14', 'macd', 'macd_signal', 'macd_hist', 'stoch_k', 'stoch_d', 'obv', 'market_return', 'expected_return', 'actual_return']\n",
    "columns_1h = ['tb_base', 'tb_quote', 'close', 'quote_volume', 'return_1', 'return_5', 'return_mean_24', 'ma_diff', 'rsi_14', 'macd', 'macd_signal', 'macd_hist', 'stoch_k', 'stoch_d', 'obv', 'price', 'market_return', 'expected_return', 'actual_return', 'alpha']\n",
    "columns_1d = ['return_1', 'return_5', 'rsi_14', 'bb_lower', 'bb_width', 'obv', 'range_pct', 'actual_return']"
   ],
   "id": "372e71ac0c1aa385",
   "outputs": [],
   "execution_count": 2
  },
  {
   "metadata": {
    "ExecuteTime": {
     "end_time": "2025-05-13T18:38:41.294068Z",
     "start_time": "2025-05-13T18:38:41.128343Z"
    }
   },
   "cell_type": "code",
   "source": "model_5m = tf.keras.models.load_model('./models/cnn_lstm_5m.keras')",
   "id": "b9753240d44dd427",
   "outputs": [],
   "execution_count": 3
  },
  {
   "metadata": {
    "ExecuteTime": {
     "end_time": "2025-05-13T18:38:41.372888Z",
     "start_time": "2025-05-13T18:38:41.305370Z"
    }
   },
   "cell_type": "code",
   "source": "model_1h = tf.keras.models.load_model('./models/cnn_lstm_1h.keras')",
   "id": "7627a87254846a8b",
   "outputs": [],
   "execution_count": 4
  },
  {
   "metadata": {
    "ExecuteTime": {
     "end_time": "2025-05-13T18:38:41.468605Z",
     "start_time": "2025-05-13T18:38:41.380825Z"
    }
   },
   "cell_type": "code",
   "source": "model_1d = tf.keras.models.load_model('./models/cnn_lstm_1d.keras')",
   "id": "e570bbe6a8841917",
   "outputs": [],
   "execution_count": 5
  },
  {
   "metadata": {
    "ExecuteTime": {
     "end_time": "2025-05-13T18:38:41.479486Z",
     "start_time": "2025-05-13T18:38:41.474994Z"
    }
   },
   "cell_type": "code",
   "source": [
    "scaler_5m = pickle.load(open('./scalers/scaler5m.pkl', 'rb'))\n",
    "scaler_1h = pickle.load(open('./scalers/scaler1h.pkl', 'rb'))\n",
    "scaler_1d = pickle.load(open('./scalers/scaler1d.pkl', 'rb'))"
   ],
   "id": "14a0b878a78caaee",
   "outputs": [],
   "execution_count": 6
  },
  {
   "metadata": {
    "ExecuteTime": {
     "end_time": "2025-05-13T18:38:41.519979Z",
     "start_time": "2025-05-13T18:38:41.489131Z"
    }
   },
   "cell_type": "code",
   "source": "model_5m.summary()",
   "id": "ac174118ce78bd71",
   "outputs": [
    {
     "data": {
      "text/plain": [
       "\u001B[1mModel: \"sequential\"\u001B[0m\n"
      ],
      "text/html": [
       "<pre style=\"white-space:pre;overflow-x:auto;line-height:normal;font-family:Menlo,'DejaVu Sans Mono',consolas,'Courier New',monospace\"><span style=\"font-weight: bold\">Model: \"sequential\"</span>\n",
       "</pre>\n"
      ]
     },
     "metadata": {},
     "output_type": "display_data"
    },
    {
     "data": {
      "text/plain": [
       "┏━━━━━━━━━━━━━━━━━━━━━━━━━━━━━━━━━┳━━━━━━━━━━━━━━━━━━━━━━━━┳━━━━━━━━━━━━━━━┓\n",
       "┃\u001B[1m \u001B[0m\u001B[1mLayer (type)                   \u001B[0m\u001B[1m \u001B[0m┃\u001B[1m \u001B[0m\u001B[1mOutput Shape          \u001B[0m\u001B[1m \u001B[0m┃\u001B[1m \u001B[0m\u001B[1m      Param #\u001B[0m\u001B[1m \u001B[0m┃\n",
       "┡━━━━━━━━━━━━━━━━━━━━━━━━━━━━━━━━━╇━━━━━━━━━━━━━━━━━━━━━━━━╇━━━━━━━━━━━━━━━┩\n",
       "│ conv1d (\u001B[38;5;33mConv1D\u001B[0m)                 │ (\u001B[38;5;45mNone\u001B[0m, \u001B[38;5;34m288\u001B[0m, \u001B[38;5;34m64\u001B[0m)        │         \u001B[38;5;34m3,136\u001B[0m │\n",
       "├─────────────────────────────────┼────────────────────────┼───────────────┤\n",
       "│ batch_normalization             │ (\u001B[38;5;45mNone\u001B[0m, \u001B[38;5;34m288\u001B[0m, \u001B[38;5;34m64\u001B[0m)        │           \u001B[38;5;34m256\u001B[0m │\n",
       "│ (\u001B[38;5;33mBatchNormalization\u001B[0m)            │                        │               │\n",
       "├─────────────────────────────────┼────────────────────────┼───────────────┤\n",
       "│ max_pooling1d (\u001B[38;5;33mMaxPooling1D\u001B[0m)    │ (\u001B[38;5;45mNone\u001B[0m, \u001B[38;5;34m288\u001B[0m, \u001B[38;5;34m64\u001B[0m)        │             \u001B[38;5;34m0\u001B[0m │\n",
       "├─────────────────────────────────┼────────────────────────┼───────────────┤\n",
       "│ dropout (\u001B[38;5;33mDropout\u001B[0m)               │ (\u001B[38;5;45mNone\u001B[0m, \u001B[38;5;34m288\u001B[0m, \u001B[38;5;34m64\u001B[0m)        │             \u001B[38;5;34m0\u001B[0m │\n",
       "├─────────────────────────────────┼────────────────────────┼───────────────┤\n",
       "│ lstm (\u001B[38;5;33mLSTM\u001B[0m)                     │ (\u001B[38;5;45mNone\u001B[0m, \u001B[38;5;34m288\u001B[0m, \u001B[38;5;34m128\u001B[0m)       │        \u001B[38;5;34m98,816\u001B[0m │\n",
       "├─────────────────────────────────┼────────────────────────┼───────────────┤\n",
       "│ batch_normalization_1           │ (\u001B[38;5;45mNone\u001B[0m, \u001B[38;5;34m288\u001B[0m, \u001B[38;5;34m128\u001B[0m)       │           \u001B[38;5;34m512\u001B[0m │\n",
       "│ (\u001B[38;5;33mBatchNormalization\u001B[0m)            │                        │               │\n",
       "├─────────────────────────────────┼────────────────────────┼───────────────┤\n",
       "│ dropout_1 (\u001B[38;5;33mDropout\u001B[0m)             │ (\u001B[38;5;45mNone\u001B[0m, \u001B[38;5;34m288\u001B[0m, \u001B[38;5;34m128\u001B[0m)       │             \u001B[38;5;34m0\u001B[0m │\n",
       "├─────────────────────────────────┼────────────────────────┼───────────────┤\n",
       "│ lstm_1 (\u001B[38;5;33mLSTM\u001B[0m)                   │ (\u001B[38;5;45mNone\u001B[0m, \u001B[38;5;34m80\u001B[0m)             │        \u001B[38;5;34m66,880\u001B[0m │\n",
       "├─────────────────────────────────┼────────────────────────┼───────────────┤\n",
       "│ batch_normalization_2           │ (\u001B[38;5;45mNone\u001B[0m, \u001B[38;5;34m80\u001B[0m)             │           \u001B[38;5;34m320\u001B[0m │\n",
       "│ (\u001B[38;5;33mBatchNormalization\u001B[0m)            │                        │               │\n",
       "├─────────────────────────────────┼────────────────────────┼───────────────┤\n",
       "│ dropout_2 (\u001B[38;5;33mDropout\u001B[0m)             │ (\u001B[38;5;45mNone\u001B[0m, \u001B[38;5;34m80\u001B[0m)             │             \u001B[38;5;34m0\u001B[0m │\n",
       "├─────────────────────────────────┼────────────────────────┼───────────────┤\n",
       "│ dense (\u001B[38;5;33mDense\u001B[0m)                   │ (\u001B[38;5;45mNone\u001B[0m, \u001B[38;5;34m1\u001B[0m)              │            \u001B[38;5;34m81\u001B[0m │\n",
       "└─────────────────────────────────┴────────────────────────┴───────────────┘\n"
      ],
      "text/html": [
       "<pre style=\"white-space:pre;overflow-x:auto;line-height:normal;font-family:Menlo,'DejaVu Sans Mono',consolas,'Courier New',monospace\">┏━━━━━━━━━━━━━━━━━━━━━━━━━━━━━━━━━┳━━━━━━━━━━━━━━━━━━━━━━━━┳━━━━━━━━━━━━━━━┓\n",
       "┃<span style=\"font-weight: bold\"> Layer (type)                    </span>┃<span style=\"font-weight: bold\"> Output Shape           </span>┃<span style=\"font-weight: bold\">       Param # </span>┃\n",
       "┡━━━━━━━━━━━━━━━━━━━━━━━━━━━━━━━━━╇━━━━━━━━━━━━━━━━━━━━━━━━╇━━━━━━━━━━━━━━━┩\n",
       "│ conv1d (<span style=\"color: #0087ff; text-decoration-color: #0087ff\">Conv1D</span>)                 │ (<span style=\"color: #00d7ff; text-decoration-color: #00d7ff\">None</span>, <span style=\"color: #00af00; text-decoration-color: #00af00\">288</span>, <span style=\"color: #00af00; text-decoration-color: #00af00\">64</span>)        │         <span style=\"color: #00af00; text-decoration-color: #00af00\">3,136</span> │\n",
       "├─────────────────────────────────┼────────────────────────┼───────────────┤\n",
       "│ batch_normalization             │ (<span style=\"color: #00d7ff; text-decoration-color: #00d7ff\">None</span>, <span style=\"color: #00af00; text-decoration-color: #00af00\">288</span>, <span style=\"color: #00af00; text-decoration-color: #00af00\">64</span>)        │           <span style=\"color: #00af00; text-decoration-color: #00af00\">256</span> │\n",
       "│ (<span style=\"color: #0087ff; text-decoration-color: #0087ff\">BatchNormalization</span>)            │                        │               │\n",
       "├─────────────────────────────────┼────────────────────────┼───────────────┤\n",
       "│ max_pooling1d (<span style=\"color: #0087ff; text-decoration-color: #0087ff\">MaxPooling1D</span>)    │ (<span style=\"color: #00d7ff; text-decoration-color: #00d7ff\">None</span>, <span style=\"color: #00af00; text-decoration-color: #00af00\">288</span>, <span style=\"color: #00af00; text-decoration-color: #00af00\">64</span>)        │             <span style=\"color: #00af00; text-decoration-color: #00af00\">0</span> │\n",
       "├─────────────────────────────────┼────────────────────────┼───────────────┤\n",
       "│ dropout (<span style=\"color: #0087ff; text-decoration-color: #0087ff\">Dropout</span>)               │ (<span style=\"color: #00d7ff; text-decoration-color: #00d7ff\">None</span>, <span style=\"color: #00af00; text-decoration-color: #00af00\">288</span>, <span style=\"color: #00af00; text-decoration-color: #00af00\">64</span>)        │             <span style=\"color: #00af00; text-decoration-color: #00af00\">0</span> │\n",
       "├─────────────────────────────────┼────────────────────────┼───────────────┤\n",
       "│ lstm (<span style=\"color: #0087ff; text-decoration-color: #0087ff\">LSTM</span>)                     │ (<span style=\"color: #00d7ff; text-decoration-color: #00d7ff\">None</span>, <span style=\"color: #00af00; text-decoration-color: #00af00\">288</span>, <span style=\"color: #00af00; text-decoration-color: #00af00\">128</span>)       │        <span style=\"color: #00af00; text-decoration-color: #00af00\">98,816</span> │\n",
       "├─────────────────────────────────┼────────────────────────┼───────────────┤\n",
       "│ batch_normalization_1           │ (<span style=\"color: #00d7ff; text-decoration-color: #00d7ff\">None</span>, <span style=\"color: #00af00; text-decoration-color: #00af00\">288</span>, <span style=\"color: #00af00; text-decoration-color: #00af00\">128</span>)       │           <span style=\"color: #00af00; text-decoration-color: #00af00\">512</span> │\n",
       "│ (<span style=\"color: #0087ff; text-decoration-color: #0087ff\">BatchNormalization</span>)            │                        │               │\n",
       "├─────────────────────────────────┼────────────────────────┼───────────────┤\n",
       "│ dropout_1 (<span style=\"color: #0087ff; text-decoration-color: #0087ff\">Dropout</span>)             │ (<span style=\"color: #00d7ff; text-decoration-color: #00d7ff\">None</span>, <span style=\"color: #00af00; text-decoration-color: #00af00\">288</span>, <span style=\"color: #00af00; text-decoration-color: #00af00\">128</span>)       │             <span style=\"color: #00af00; text-decoration-color: #00af00\">0</span> │\n",
       "├─────────────────────────────────┼────────────────────────┼───────────────┤\n",
       "│ lstm_1 (<span style=\"color: #0087ff; text-decoration-color: #0087ff\">LSTM</span>)                   │ (<span style=\"color: #00d7ff; text-decoration-color: #00d7ff\">None</span>, <span style=\"color: #00af00; text-decoration-color: #00af00\">80</span>)             │        <span style=\"color: #00af00; text-decoration-color: #00af00\">66,880</span> │\n",
       "├─────────────────────────────────┼────────────────────────┼───────────────┤\n",
       "│ batch_normalization_2           │ (<span style=\"color: #00d7ff; text-decoration-color: #00d7ff\">None</span>, <span style=\"color: #00af00; text-decoration-color: #00af00\">80</span>)             │           <span style=\"color: #00af00; text-decoration-color: #00af00\">320</span> │\n",
       "│ (<span style=\"color: #0087ff; text-decoration-color: #0087ff\">BatchNormalization</span>)            │                        │               │\n",
       "├─────────────────────────────────┼────────────────────────┼───────────────┤\n",
       "│ dropout_2 (<span style=\"color: #0087ff; text-decoration-color: #0087ff\">Dropout</span>)             │ (<span style=\"color: #00d7ff; text-decoration-color: #00d7ff\">None</span>, <span style=\"color: #00af00; text-decoration-color: #00af00\">80</span>)             │             <span style=\"color: #00af00; text-decoration-color: #00af00\">0</span> │\n",
       "├─────────────────────────────────┼────────────────────────┼───────────────┤\n",
       "│ dense (<span style=\"color: #0087ff; text-decoration-color: #0087ff\">Dense</span>)                   │ (<span style=\"color: #00d7ff; text-decoration-color: #00d7ff\">None</span>, <span style=\"color: #00af00; text-decoration-color: #00af00\">1</span>)              │            <span style=\"color: #00af00; text-decoration-color: #00af00\">81</span> │\n",
       "└─────────────────────────────────┴────────────────────────┴───────────────┘\n",
       "</pre>\n"
      ]
     },
     "metadata": {},
     "output_type": "display_data"
    },
    {
     "data": {
      "text/plain": [
       "\u001B[1m Total params: \u001B[0m\u001B[38;5;34m508,917\u001B[0m (1.94 MB)\n"
      ],
      "text/html": [
       "<pre style=\"white-space:pre;overflow-x:auto;line-height:normal;font-family:Menlo,'DejaVu Sans Mono',consolas,'Courier New',monospace\"><span style=\"font-weight: bold\"> Total params: </span><span style=\"color: #00af00; text-decoration-color: #00af00\">508,917</span> (1.94 MB)\n",
       "</pre>\n"
      ]
     },
     "metadata": {},
     "output_type": "display_data"
    },
    {
     "data": {
      "text/plain": [
       "\u001B[1m Trainable params: \u001B[0m\u001B[38;5;34m169,457\u001B[0m (661.94 KB)\n"
      ],
      "text/html": [
       "<pre style=\"white-space:pre;overflow-x:auto;line-height:normal;font-family:Menlo,'DejaVu Sans Mono',consolas,'Courier New',monospace\"><span style=\"font-weight: bold\"> Trainable params: </span><span style=\"color: #00af00; text-decoration-color: #00af00\">169,457</span> (661.94 KB)\n",
       "</pre>\n"
      ]
     },
     "metadata": {},
     "output_type": "display_data"
    },
    {
     "data": {
      "text/plain": [
       "\u001B[1m Non-trainable params: \u001B[0m\u001B[38;5;34m544\u001B[0m (2.12 KB)\n"
      ],
      "text/html": [
       "<pre style=\"white-space:pre;overflow-x:auto;line-height:normal;font-family:Menlo,'DejaVu Sans Mono',consolas,'Courier New',monospace\"><span style=\"font-weight: bold\"> Non-trainable params: </span><span style=\"color: #00af00; text-decoration-color: #00af00\">544</span> (2.12 KB)\n",
       "</pre>\n"
      ]
     },
     "metadata": {},
     "output_type": "display_data"
    },
    {
     "data": {
      "text/plain": [
       "\u001B[1m Optimizer params: \u001B[0m\u001B[38;5;34m338,916\u001B[0m (1.29 MB)\n"
      ],
      "text/html": [
       "<pre style=\"white-space:pre;overflow-x:auto;line-height:normal;font-family:Menlo,'DejaVu Sans Mono',consolas,'Courier New',monospace\"><span style=\"font-weight: bold\"> Optimizer params: </span><span style=\"color: #00af00; text-decoration-color: #00af00\">338,916</span> (1.29 MB)\n",
       "</pre>\n"
      ]
     },
     "metadata": {},
     "output_type": "display_data"
    }
   ],
   "execution_count": 7
  },
  {
   "metadata": {
    "ExecuteTime": {
     "end_time": "2025-05-13T18:39:15.102454Z",
     "start_time": "2025-05-13T18:38:41.620173Z"
    }
   },
   "cell_type": "code",
   "source": [
    "df_train = InfluxDBQueries.get_data_from_influx(groupby_time='5m', pair='BTCUSDT', start=\"2021-01-01T01:00:00Z\",\n",
    "                                                stop=\"2025-01-01T01:00:00Z\")\n",
    "df_val = InfluxDBQueries.get_data_from_influx(groupby_time='5m', pair='BTCUSDT', start=\"2025-01-01T01:00:00Z\",\n",
    "                                              stop=\"2025-03-01T01:00:00Z\")\n",
    "df_test = InfluxDBQueries.get_data_from_influx(groupby_time='5m', pair='BTCUSDT', start=\"2025-03-01T01:00:00Z\",\n",
    "                                               stop=\"2025-04-20T01:00:00Z\")\n",
    "df_combined = pd.concat([df_train, df_test, df_val])"
   ],
   "id": "d6c5ea99a99fcf97",
   "outputs": [],
   "execution_count": 8
  },
  {
   "metadata": {
    "ExecuteTime": {
     "end_time": "2025-05-13T18:42:22.300542Z",
     "start_time": "2025-05-13T18:39:15.132412Z"
    }
   },
   "cell_type": "code",
   "source": "df_combined, scaler, columns, sclaer_y = DataProcessor.add_features(df_combined, classification=True, group_time='5m', scaler=scaler_5m, boruta_columns=columns_5m, target_shift=1)",
   "id": "93dc1e201d030b55",
   "outputs": [
    {
     "name": "stdout",
     "output_type": "stream",
     "text": [
      "Index(['low', 'trades', 'tb_quote', 'volume', 'high', 'close', 'quote_volume',\n",
      "       'tb_base', 'open', 'return_1', 'return_5', 'close_ma_24',\n",
      "       'close_std_24', 'return_mean_24', 'return_std_24', 'range_24',\n",
      "       'vol_mean_24', 'vol_std_24', 'sma_fast', 'sma_slow', 'ma_diff',\n",
      "       'rsi_14', 'macd', 'macd_signal', 'macd_hist', 'stoch_k', 'stoch_d',\n",
      "       'tr', 'atr_14', 'bb_mid', 'bb_std', 'bb_upper', 'bb_lower', 'bb_width',\n",
      "       'vwap', 'obv', 'range_cur', 'range_pct', 'close_moving_avg', 'price',\n",
      "       'beta', 'market_return', 'expected_return', 'actual_return', 'alpha',\n",
      "       'risk_free_rate', 'target'],\n",
      "      dtype='object')\n"
     ]
    },
    {
     "name": "stderr",
     "output_type": "stream",
     "text": [
      "/Users/gaszneradam/Documents/BME/6_felev/onlab/befektetesi_portfolio_elemzes/influxdb/commands/data_processors.py:149: FutureWarning: Setting an item of incompatible dtype is deprecated and will raise in a future error of pandas. Value '[-0.54393087 -0.41505305 -0.38558512 ...  0.09397885  0.36256307\n",
      "  0.06193691]' has dtype incompatible with int64, please explicitly cast to a compatible dtype first.\n",
      "  df.loc[:, scaler.feature_names_in_] = scaler.transform(df.loc[:, scaler.feature_names_in_])\n"
     ]
    }
   ],
   "execution_count": 9
  },
  {
   "metadata": {
    "ExecuteTime": {
     "end_time": "2025-05-13T18:42:22.999961Z",
     "start_time": "2025-05-13T18:42:22.809947Z"
    }
   },
   "cell_type": "code",
   "source": "df_combined.dropna(inplace=True)",
   "id": "47422e59ed67f05b",
   "outputs": [],
   "execution_count": 10
  },
  {
   "metadata": {
    "ExecuteTime": {
     "end_time": "2025-05-13T18:42:24.299435Z",
     "start_time": "2025-05-13T18:42:23.025341Z"
    }
   },
   "cell_type": "code",
   "source": [
    "df_test = df_combined.loc[\n",
    "    df_combined.index.strftime('%Y-%m-%dT%H:%M:%SZ') >= df_test.index[0].strftime('%Y-%m-%dT%H:%M:%SZ')]\n",
    "df_test = df_test.dropna()"
   ],
   "id": "eddc26f2b7d84c0a",
   "outputs": [],
   "execution_count": 11
  },
  {
   "metadata": {
    "ExecuteTime": {
     "end_time": "2025-05-13T18:42:24.437003Z",
     "start_time": "2025-05-13T18:42:24.418963Z"
    }
   },
   "cell_type": "code",
   "source": "df_test",
   "id": "ca0118dfd4f99d1b",
   "outputs": [
    {
     "data": {
      "text/plain": [
       "                                low    trades  tb_quote    volume      high  \\\n",
       "time                                                                          \n",
       "2025-03-01 01:05:00+00:00  1.038438  0.312326 -0.178802 -0.370860  1.036671   \n",
       "2025-03-01 01:10:00+00:00  1.040102  0.100902 -0.409932 -0.466843  1.040262   \n",
       "2025-03-01 01:15:00+00:00  1.042541 -0.097563 -0.322853 -0.481778  1.038941   \n",
       "2025-03-01 01:20:00+00:00  1.044518 -0.219162 -0.430906 -0.478728  1.040163   \n",
       "2025-03-01 01:25:00+00:00  1.044695 -0.100048 -0.357394 -0.509815  1.042414   \n",
       "...                             ...       ...       ...       ...       ...   \n",
       "2025-04-20 00:40:00+00:00  1.093479 -0.406177 -0.526005 -0.596442  1.088200   \n",
       "2025-04-20 00:45:00+00:00  1.091586 -0.419491 -0.556019 -0.642655  1.086462   \n",
       "2025-04-20 00:50:00+00:00  1.090538 -0.408751 -0.492754 -0.594170  1.085732   \n",
       "2025-04-20 00:55:00+00:00  1.091050 -0.511445 -0.574140 -0.661506  1.087125   \n",
       "2025-04-20 01:00:00+00:00  1.093281 -0.541801 -0.550083 -0.650475  1.087801   \n",
       "\n",
       "                              close  quote_volume   tb_base      open  \\\n",
       "time                                                                    \n",
       "2025-03-01 01:05:00+00:00  1.040089     -0.209969 -0.338705  1.035034   \n",
       "2025-03-01 01:10:00+00:00  1.038866     -0.340823 -0.509062  1.040100   \n",
       "2025-03-01 01:15:00+00:00  1.040840     -0.361140 -0.445012  1.038877   \n",
       "2025-03-01 01:20:00+00:00  1.043667     -0.356809 -0.524601  1.040851   \n",
       "2025-03-01 01:25:00+00:00  1.043267     -0.399305 -0.470551  1.043679   \n",
       "...                             ...           ...       ...       ...   \n",
       "2025-04-20 00:40:00+00:00  1.090070     -0.515721 -0.595658  1.090978   \n",
       "2025-04-20 00:45:00+00:00  1.088127     -0.579837 -0.617397  1.090081   \n",
       "2025-04-20 00:50:00+00:00  1.087973     -0.512701 -0.571445  1.088139   \n",
       "2025-04-20 00:55:00+00:00  1.090734     -0.605947 -0.630558  1.087984   \n",
       "2025-04-20 01:00:00+00:00  1.090291     -0.590624 -0.613123  1.090746   \n",
       "\n",
       "                            return_1  ...  range_pct  close_moving_avg  \\\n",
       "time                                  ...                                \n",
       "2025-03-01 01:05:00+00:00 -69.256041  ...  -0.132298          1.395547   \n",
       "2025-03-01 01:10:00+00:00  -0.220976  ...   0.179698          1.325516   \n",
       "2025-03-01 01:15:00+00:00   0.345120  ...  -0.426867          1.255983   \n",
       "2025-03-01 01:20:00+00:00   0.495984  ...  -0.548145          1.186267   \n",
       "2025-03-01 01:25:00+00:00  -0.075266  ...  -0.213614          1.114502   \n",
       "...                              ...  ...        ...               ...   \n",
       "2025-04-20 00:40:00+00:00  -0.160922  ...  -0.682571          1.091403   \n",
       "2025-04-20 00:45:00+00:00  -0.343680  ...  -0.658570          1.090817   \n",
       "2025-04-20 00:50:00+00:00  -0.031429  ...  -0.608290          1.090202   \n",
       "2025-04-20 00:55:00+00:00   0.477919  ...  -0.468046          1.089869   \n",
       "2025-04-20 01:00:00+00:00  -0.081923  ...  -0.714716          1.089773   \n",
       "\n",
       "                              price      beta  market_return  expected_return  \\\n",
       "time                                                                            \n",
       "2025-03-01 01:05:00+00:00  1.040089  0.816691      -0.153433        -0.196460   \n",
       "2025-03-01 01:10:00+00:00  1.038866  0.815620      -0.101794        -0.133186   \n",
       "2025-03-01 01:15:00+00:00  1.040840  0.815602      -0.098127        -0.128694   \n",
       "2025-03-01 01:20:00+00:00  1.043667  0.817085       0.093418         0.105990   \n",
       "2025-03-01 01:25:00+00:00  1.043267  0.825591       0.281548         0.337257   \n",
       "...                             ...       ...            ...              ...   \n",
       "2025-04-20 00:40:00+00:00  1.090070 -0.610011       0.518788         0.414918   \n",
       "2025-04-20 00:45:00+00:00  1.088127 -0.614672       0.481717         0.382164   \n",
       "2025-04-20 00:50:00+00:00  1.087973 -0.615441       0.485258         0.385119   \n",
       "2025-04-20 00:55:00+00:00  1.090734 -0.608858       0.506518         0.404460   \n",
       "2025-04-20 01:00:00+00:00  1.090291 -0.624249       0.483809         0.382633   \n",
       "\n",
       "                           actual_return     alpha  risk_free_rate  target  \n",
       "time                                                                        \n",
       "2025-03-01 01:05:00+00:00      -0.205859 -0.094793             0.0       1  \n",
       "2025-03-01 01:10:00+00:00      -0.148240 -0.084542             0.0       1  \n",
       "2025-03-01 01:15:00+00:00      -0.143248 -0.081709             0.0       1  \n",
       "2025-03-01 01:20:00+00:00      -0.060785 -0.350215             0.0       1  \n",
       "2025-03-01 01:25:00+00:00       0.075910 -0.485346             0.0       0  \n",
       "...                                  ...       ...             ...     ...  \n",
       "2025-04-20 00:40:00+00:00       0.266732 -0.192258             0.0       1  \n",
       "2025-04-20 00:45:00+00:00       0.237659 -0.195804             0.0       1  \n",
       "2025-04-20 00:50:00+00:00       0.245615 -0.183027             0.0       1  \n",
       "2025-04-20 00:55:00+00:00       0.264654 -0.176561             0.0       0  \n",
       "2025-04-20 01:00:00+00:00       0.265190 -0.132427             0.0       1  \n",
       "\n",
       "[14400 rows x 47 columns]"
      ],
      "text/html": [
       "<div>\n",
       "<style scoped>\n",
       "    .dataframe tbody tr th:only-of-type {\n",
       "        vertical-align: middle;\n",
       "    }\n",
       "\n",
       "    .dataframe tbody tr th {\n",
       "        vertical-align: top;\n",
       "    }\n",
       "\n",
       "    .dataframe thead th {\n",
       "        text-align: right;\n",
       "    }\n",
       "</style>\n",
       "<table border=\"1\" class=\"dataframe\">\n",
       "  <thead>\n",
       "    <tr style=\"text-align: right;\">\n",
       "      <th></th>\n",
       "      <th>low</th>\n",
       "      <th>trades</th>\n",
       "      <th>tb_quote</th>\n",
       "      <th>volume</th>\n",
       "      <th>high</th>\n",
       "      <th>close</th>\n",
       "      <th>quote_volume</th>\n",
       "      <th>tb_base</th>\n",
       "      <th>open</th>\n",
       "      <th>return_1</th>\n",
       "      <th>...</th>\n",
       "      <th>range_pct</th>\n",
       "      <th>close_moving_avg</th>\n",
       "      <th>price</th>\n",
       "      <th>beta</th>\n",
       "      <th>market_return</th>\n",
       "      <th>expected_return</th>\n",
       "      <th>actual_return</th>\n",
       "      <th>alpha</th>\n",
       "      <th>risk_free_rate</th>\n",
       "      <th>target</th>\n",
       "    </tr>\n",
       "    <tr>\n",
       "      <th>time</th>\n",
       "      <th></th>\n",
       "      <th></th>\n",
       "      <th></th>\n",
       "      <th></th>\n",
       "      <th></th>\n",
       "      <th></th>\n",
       "      <th></th>\n",
       "      <th></th>\n",
       "      <th></th>\n",
       "      <th></th>\n",
       "      <th></th>\n",
       "      <th></th>\n",
       "      <th></th>\n",
       "      <th></th>\n",
       "      <th></th>\n",
       "      <th></th>\n",
       "      <th></th>\n",
       "      <th></th>\n",
       "      <th></th>\n",
       "      <th></th>\n",
       "      <th></th>\n",
       "    </tr>\n",
       "  </thead>\n",
       "  <tbody>\n",
       "    <tr>\n",
       "      <th>2025-03-01 01:05:00+00:00</th>\n",
       "      <td>1.038438</td>\n",
       "      <td>0.312326</td>\n",
       "      <td>-0.178802</td>\n",
       "      <td>-0.370860</td>\n",
       "      <td>1.036671</td>\n",
       "      <td>1.040089</td>\n",
       "      <td>-0.209969</td>\n",
       "      <td>-0.338705</td>\n",
       "      <td>1.035034</td>\n",
       "      <td>-69.256041</td>\n",
       "      <td>...</td>\n",
       "      <td>-0.132298</td>\n",
       "      <td>1.395547</td>\n",
       "      <td>1.040089</td>\n",
       "      <td>0.816691</td>\n",
       "      <td>-0.153433</td>\n",
       "      <td>-0.196460</td>\n",
       "      <td>-0.205859</td>\n",
       "      <td>-0.094793</td>\n",
       "      <td>0.0</td>\n",
       "      <td>1</td>\n",
       "    </tr>\n",
       "    <tr>\n",
       "      <th>2025-03-01 01:10:00+00:00</th>\n",
       "      <td>1.040102</td>\n",
       "      <td>0.100902</td>\n",
       "      <td>-0.409932</td>\n",
       "      <td>-0.466843</td>\n",
       "      <td>1.040262</td>\n",
       "      <td>1.038866</td>\n",
       "      <td>-0.340823</td>\n",
       "      <td>-0.509062</td>\n",
       "      <td>1.040100</td>\n",
       "      <td>-0.220976</td>\n",
       "      <td>...</td>\n",
       "      <td>0.179698</td>\n",
       "      <td>1.325516</td>\n",
       "      <td>1.038866</td>\n",
       "      <td>0.815620</td>\n",
       "      <td>-0.101794</td>\n",
       "      <td>-0.133186</td>\n",
       "      <td>-0.148240</td>\n",
       "      <td>-0.084542</td>\n",
       "      <td>0.0</td>\n",
       "      <td>1</td>\n",
       "    </tr>\n",
       "    <tr>\n",
       "      <th>2025-03-01 01:15:00+00:00</th>\n",
       "      <td>1.042541</td>\n",
       "      <td>-0.097563</td>\n",
       "      <td>-0.322853</td>\n",
       "      <td>-0.481778</td>\n",
       "      <td>1.038941</td>\n",
       "      <td>1.040840</td>\n",
       "      <td>-0.361140</td>\n",
       "      <td>-0.445012</td>\n",
       "      <td>1.038877</td>\n",
       "      <td>0.345120</td>\n",
       "      <td>...</td>\n",
       "      <td>-0.426867</td>\n",
       "      <td>1.255983</td>\n",
       "      <td>1.040840</td>\n",
       "      <td>0.815602</td>\n",
       "      <td>-0.098127</td>\n",
       "      <td>-0.128694</td>\n",
       "      <td>-0.143248</td>\n",
       "      <td>-0.081709</td>\n",
       "      <td>0.0</td>\n",
       "      <td>1</td>\n",
       "    </tr>\n",
       "    <tr>\n",
       "      <th>2025-03-01 01:20:00+00:00</th>\n",
       "      <td>1.044518</td>\n",
       "      <td>-0.219162</td>\n",
       "      <td>-0.430906</td>\n",
       "      <td>-0.478728</td>\n",
       "      <td>1.040163</td>\n",
       "      <td>1.043667</td>\n",
       "      <td>-0.356809</td>\n",
       "      <td>-0.524601</td>\n",
       "      <td>1.040851</td>\n",
       "      <td>0.495984</td>\n",
       "      <td>...</td>\n",
       "      <td>-0.548145</td>\n",
       "      <td>1.186267</td>\n",
       "      <td>1.043667</td>\n",
       "      <td>0.817085</td>\n",
       "      <td>0.093418</td>\n",
       "      <td>0.105990</td>\n",
       "      <td>-0.060785</td>\n",
       "      <td>-0.350215</td>\n",
       "      <td>0.0</td>\n",
       "      <td>1</td>\n",
       "    </tr>\n",
       "    <tr>\n",
       "      <th>2025-03-01 01:25:00+00:00</th>\n",
       "      <td>1.044695</td>\n",
       "      <td>-0.100048</td>\n",
       "      <td>-0.357394</td>\n",
       "      <td>-0.509815</td>\n",
       "      <td>1.042414</td>\n",
       "      <td>1.043267</td>\n",
       "      <td>-0.399305</td>\n",
       "      <td>-0.470551</td>\n",
       "      <td>1.043679</td>\n",
       "      <td>-0.075266</td>\n",
       "      <td>...</td>\n",
       "      <td>-0.213614</td>\n",
       "      <td>1.114502</td>\n",
       "      <td>1.043267</td>\n",
       "      <td>0.825591</td>\n",
       "      <td>0.281548</td>\n",
       "      <td>0.337257</td>\n",
       "      <td>0.075910</td>\n",
       "      <td>-0.485346</td>\n",
       "      <td>0.0</td>\n",
       "      <td>0</td>\n",
       "    </tr>\n",
       "    <tr>\n",
       "      <th>...</th>\n",
       "      <td>...</td>\n",
       "      <td>...</td>\n",
       "      <td>...</td>\n",
       "      <td>...</td>\n",
       "      <td>...</td>\n",
       "      <td>...</td>\n",
       "      <td>...</td>\n",
       "      <td>...</td>\n",
       "      <td>...</td>\n",
       "      <td>...</td>\n",
       "      <td>...</td>\n",
       "      <td>...</td>\n",
       "      <td>...</td>\n",
       "      <td>...</td>\n",
       "      <td>...</td>\n",
       "      <td>...</td>\n",
       "      <td>...</td>\n",
       "      <td>...</td>\n",
       "      <td>...</td>\n",
       "      <td>...</td>\n",
       "      <td>...</td>\n",
       "    </tr>\n",
       "    <tr>\n",
       "      <th>2025-04-20 00:40:00+00:00</th>\n",
       "      <td>1.093479</td>\n",
       "      <td>-0.406177</td>\n",
       "      <td>-0.526005</td>\n",
       "      <td>-0.596442</td>\n",
       "      <td>1.088200</td>\n",
       "      <td>1.090070</td>\n",
       "      <td>-0.515721</td>\n",
       "      <td>-0.595658</td>\n",
       "      <td>1.090978</td>\n",
       "      <td>-0.160922</td>\n",
       "      <td>...</td>\n",
       "      <td>-0.682571</td>\n",
       "      <td>1.091403</td>\n",
       "      <td>1.090070</td>\n",
       "      <td>-0.610011</td>\n",
       "      <td>0.518788</td>\n",
       "      <td>0.414918</td>\n",
       "      <td>0.266732</td>\n",
       "      <td>-0.192258</td>\n",
       "      <td>0.0</td>\n",
       "      <td>1</td>\n",
       "    </tr>\n",
       "    <tr>\n",
       "      <th>2025-04-20 00:45:00+00:00</th>\n",
       "      <td>1.091586</td>\n",
       "      <td>-0.419491</td>\n",
       "      <td>-0.556019</td>\n",
       "      <td>-0.642655</td>\n",
       "      <td>1.086462</td>\n",
       "      <td>1.088127</td>\n",
       "      <td>-0.579837</td>\n",
       "      <td>-0.617397</td>\n",
       "      <td>1.090081</td>\n",
       "      <td>-0.343680</td>\n",
       "      <td>...</td>\n",
       "      <td>-0.658570</td>\n",
       "      <td>1.090817</td>\n",
       "      <td>1.088127</td>\n",
       "      <td>-0.614672</td>\n",
       "      <td>0.481717</td>\n",
       "      <td>0.382164</td>\n",
       "      <td>0.237659</td>\n",
       "      <td>-0.195804</td>\n",
       "      <td>0.0</td>\n",
       "      <td>1</td>\n",
       "    </tr>\n",
       "    <tr>\n",
       "      <th>2025-04-20 00:50:00+00:00</th>\n",
       "      <td>1.090538</td>\n",
       "      <td>-0.408751</td>\n",
       "      <td>-0.492754</td>\n",
       "      <td>-0.594170</td>\n",
       "      <td>1.085732</td>\n",
       "      <td>1.087973</td>\n",
       "      <td>-0.512701</td>\n",
       "      <td>-0.571445</td>\n",
       "      <td>1.088139</td>\n",
       "      <td>-0.031429</td>\n",
       "      <td>...</td>\n",
       "      <td>-0.608290</td>\n",
       "      <td>1.090202</td>\n",
       "      <td>1.087973</td>\n",
       "      <td>-0.615441</td>\n",
       "      <td>0.485258</td>\n",
       "      <td>0.385119</td>\n",
       "      <td>0.245615</td>\n",
       "      <td>-0.183027</td>\n",
       "      <td>0.0</td>\n",
       "      <td>1</td>\n",
       "    </tr>\n",
       "    <tr>\n",
       "      <th>2025-04-20 00:55:00+00:00</th>\n",
       "      <td>1.091050</td>\n",
       "      <td>-0.511445</td>\n",
       "      <td>-0.574140</td>\n",
       "      <td>-0.661506</td>\n",
       "      <td>1.087125</td>\n",
       "      <td>1.090734</td>\n",
       "      <td>-0.605947</td>\n",
       "      <td>-0.630558</td>\n",
       "      <td>1.087984</td>\n",
       "      <td>0.477919</td>\n",
       "      <td>...</td>\n",
       "      <td>-0.468046</td>\n",
       "      <td>1.089869</td>\n",
       "      <td>1.090734</td>\n",
       "      <td>-0.608858</td>\n",
       "      <td>0.506518</td>\n",
       "      <td>0.404460</td>\n",
       "      <td>0.264654</td>\n",
       "      <td>-0.176561</td>\n",
       "      <td>0.0</td>\n",
       "      <td>0</td>\n",
       "    </tr>\n",
       "    <tr>\n",
       "      <th>2025-04-20 01:00:00+00:00</th>\n",
       "      <td>1.093281</td>\n",
       "      <td>-0.541801</td>\n",
       "      <td>-0.550083</td>\n",
       "      <td>-0.650475</td>\n",
       "      <td>1.087801</td>\n",
       "      <td>1.090291</td>\n",
       "      <td>-0.590624</td>\n",
       "      <td>-0.613123</td>\n",
       "      <td>1.090746</td>\n",
       "      <td>-0.081923</td>\n",
       "      <td>...</td>\n",
       "      <td>-0.714716</td>\n",
       "      <td>1.089773</td>\n",
       "      <td>1.090291</td>\n",
       "      <td>-0.624249</td>\n",
       "      <td>0.483809</td>\n",
       "      <td>0.382633</td>\n",
       "      <td>0.265190</td>\n",
       "      <td>-0.132427</td>\n",
       "      <td>0.0</td>\n",
       "      <td>1</td>\n",
       "    </tr>\n",
       "  </tbody>\n",
       "</table>\n",
       "<p>14400 rows × 47 columns</p>\n",
       "</div>"
      ]
     },
     "execution_count": 12,
     "metadata": {},
     "output_type": "execute_result"
    }
   ],
   "execution_count": 12
  },
  {
   "metadata": {
    "ExecuteTime": {
     "end_time": "2025-05-13T18:42:24.705918Z",
     "start_time": "2025-05-13T18:42:24.556128Z"
    }
   },
   "cell_type": "code",
   "source": "X_test, y_test = DataProcessor.make_sequences(df_test, columns_to_select=columns_5m, window_size=288, forecast_horizon=1, classification=True)",
   "id": "932b6b7876e6f5a6",
   "outputs": [],
   "execution_count": 13
  },
  {
   "metadata": {
    "ExecuteTime": {
     "end_time": "2025-05-13T18:43:01.671149Z",
     "start_time": "2025-05-13T18:42:24.840712Z"
    }
   },
   "cell_type": "code",
   "source": "pred = model_5m.predict(X_test)",
   "id": "4c504506cd9d041e",
   "outputs": [
    {
     "name": "stdout",
     "output_type": "stream",
     "text": [
      "\u001B[1m441/441\u001B[0m \u001B[32m━━━━━━━━━━━━━━━━━━━━\u001B[0m\u001B[37m\u001B[0m \u001B[1m36s\u001B[0m 81ms/step\n"
     ]
    }
   ],
   "execution_count": 14
  },
  {
   "metadata": {
    "ExecuteTime": {
     "end_time": "2025-05-13T18:43:01.799354Z",
     "start_time": "2025-05-13T18:43:01.797677Z"
    }
   },
   "cell_type": "code",
   "source": "pred_adjusted = (pred > 0.5).astype(int)",
   "id": "86471b34eeda0633",
   "outputs": [],
   "execution_count": 15
  },
  {
   "metadata": {
    "ExecuteTime": {
     "end_time": "2025-05-13T18:43:01.849992Z",
     "start_time": "2025-05-13T18:43:01.840915Z"
    }
   },
   "cell_type": "code",
   "source": "roc_auc_score(y_test, pred)",
   "id": "64aabcbe9ee2ca5f",
   "outputs": [
    {
     "data": {
      "text/plain": [
       "0.7522098493387344"
      ]
     },
     "execution_count": 16,
     "metadata": {},
     "output_type": "execute_result"
    }
   ],
   "execution_count": 16
  },
  {
   "metadata": {
    "ExecuteTime": {
     "end_time": "2025-05-13T18:43:02.180242Z",
     "start_time": "2025-05-13T18:43:02.159328Z"
    }
   },
   "cell_type": "code",
   "source": "print(classification_report(y_test, pred_adjusted))",
   "id": "c18ccc77e6845412",
   "outputs": [
    {
     "name": "stdout",
     "output_type": "stream",
     "text": [
      "              precision    recall  f1-score   support\n",
      "\n",
      "           0       0.72      0.54      0.62      7034\n",
      "           1       0.64      0.79      0.71      7078\n",
      "\n",
      "    accuracy                           0.67     14112\n",
      "   macro avg       0.68      0.67      0.66     14112\n",
      "weighted avg       0.68      0.67      0.66     14112\n",
      "\n"
     ]
    }
   ],
   "execution_count": 17
  },
  {
   "metadata": {
    "ExecuteTime": {
     "end_time": "2025-05-13T18:43:02.386028Z",
     "start_time": "2025-05-13T18:43:02.379832Z"
    }
   },
   "cell_type": "code",
   "source": "df_test.loc[:, scaler_5m.feature_names_in_] = scaler_5m.inverse_transform(df_test.loc[:, scaler_5m.feature_names_in_])",
   "id": "74b55bb12a7e0e4",
   "outputs": [],
   "execution_count": 18
  },
  {
   "metadata": {
    "ExecuteTime": {
     "end_time": "2025-05-13T18:43:02.636558Z",
     "start_time": "2025-05-13T18:43:02.616920Z"
    }
   },
   "cell_type": "code",
   "source": "df_test",
   "id": "bd5b5c145788a1e3",
   "outputs": [
    {
     "data": {
      "text/plain": [
       "                                low   trades      tb_quote    volume  \\\n",
       "time                                                                   \n",
       "2025-03-01 01:05:00+00:00  83851.86  12110.0  2.448594e+06  56.56409   \n",
       "2025-03-01 01:10:00+00:00  83891.26   9728.0  1.218921e+06  40.50522   \n",
       "2025-03-01 01:15:00+00:00  83949.00   7492.0  1.682206e+06  38.00655   \n",
       "2025-03-01 01:20:00+00:00  83995.79   6122.0  1.107337e+06  38.51680   \n",
       "2025-03-01 01:25:00+00:00  84000.00   7464.0  1.498437e+06  33.31571   \n",
       "...                             ...      ...           ...       ...   \n",
       "2025-04-20 00:40:00+00:00  85154.96   4015.0  6.013841e+05  18.82227   \n",
       "2025-04-20 00:45:00+00:00  85110.16   3865.0  4.417035e+05  11.09032   \n",
       "2025-04-20 00:50:00+00:00  85085.35   3986.0  7.782873e+05  19.20245   \n",
       "2025-04-20 00:55:00+00:00  85097.45   2829.0  3.452931e+05   7.93646   \n",
       "2025-04-20 01:00:00+00:00  85150.28   2487.0  4.732815e+05   9.78212   \n",
       "\n",
       "                               high     close  quote_volume   tb_base  \\\n",
       "time                                                                    \n",
       "2025-03-01 01:05:00+00:00  83981.14  83978.00  4.746645e+06  29.17820   \n",
       "2025-03-01 01:10:00+00:00  84066.35  83949.01  3.401375e+06  14.51406   \n",
       "2025-03-01 01:15:00+00:00  84034.99  83995.80  3.192504e+06  20.02740   \n",
       "2025-03-01 01:20:00+00:00  84064.00  84062.82  3.237024e+06  13.17650   \n",
       "2025-03-01 01:25:00+00:00  84117.43  84053.33  2.800134e+06  17.82907   \n",
       "...                             ...       ...           ...       ...   \n",
       "2025-04-20 00:40:00+00:00  85204.02  85162.77  1.603294e+06   7.05990   \n",
       "2025-04-20 00:45:00+00:00  85162.77  85116.71  9.441376e+05   5.18868   \n",
       "2025-04-20 00:50:00+00:00  85145.45  85113.05  1.634345e+06   9.14414   \n",
       "2025-04-20 00:55:00+00:00  85178.51  85178.51  6.757055e+05   4.05575   \n",
       "2025-04-20 01:00:00+00:00  85194.55  85167.99  8.332381e+05   5.55655   \n",
       "\n",
       "                               open  return_1  ...  range_pct  \\\n",
       "time                                           ...              \n",
       "2025-03-01 01:05:00+00:00  83857.91 -0.110413  ...   0.001539   \n",
       "2025-03-01 01:10:00+00:00  83978.00 -0.000345  ...   0.002086   \n",
       "2025-03-01 01:15:00+00:00  83949.01  0.000557  ...   0.001024   \n",
       "2025-03-01 01:20:00+00:00  83995.80  0.000798  ...   0.000811   \n",
       "2025-03-01 01:25:00+00:00  84062.83 -0.000113  ...   0.001397   \n",
       "...                             ...       ...  ...        ...   \n",
       "2025-04-20 00:40:00+00:00  85184.01 -0.000249  ...   0.000576   \n",
       "2025-04-20 00:45:00+00:00  85162.76 -0.000541  ...   0.000618   \n",
       "2025-04-20 00:50:00+00:00  85116.72 -0.000043  ...   0.000706   \n",
       "2025-04-20 00:55:00+00:00  85113.05  0.000769  ...   0.000952   \n",
       "2025-04-20 01:00:00+00:00  85178.51 -0.000124  ...   0.000520   \n",
       "\n",
       "                           close_moving_avg     price      beta  \\\n",
       "time                                                              \n",
       "2025-03-01 01:05:00+00:00      92401.858333  83978.00  0.871422   \n",
       "2025-03-01 01:10:00+00:00      90741.855000  83949.01  0.871230   \n",
       "2025-03-01 01:15:00+00:00      89093.653333  83995.80  0.871227   \n",
       "2025-03-01 01:20:00+00:00      87441.128333  84062.82  0.871492   \n",
       "2025-03-01 01:25:00+00:00      85740.016667  84053.33  0.873015   \n",
       "...                                     ...       ...       ...   \n",
       "2025-04-20 00:40:00+00:00      85192.476667  85162.77  0.615970   \n",
       "2025-04-20 00:45:00+00:00      85178.595000  85116.71  0.615135   \n",
       "2025-04-20 00:50:00+00:00      85164.013333  85113.05  0.614997   \n",
       "2025-04-20 00:55:00+00:00      85156.110000  85178.51  0.616176   \n",
       "2025-04-20 01:00:00+00:00      85153.841667  85167.99  0.613420   \n",
       "\n",
       "                           market_return  expected_return  actual_return  \\\n",
       "time                                                                       \n",
       "2025-03-01 01:05:00+00:00      -0.000008        -0.000007      -0.000011   \n",
       "2025-03-01 01:10:00+00:00      -0.000003        -0.000002      -0.000006   \n",
       "2025-03-01 01:15:00+00:00      -0.000002        -0.000002      -0.000005   \n",
       "2025-03-01 01:20:00+00:00       0.000017         0.000015       0.000002   \n",
       "2025-03-01 01:25:00+00:00       0.000037         0.000032       0.000014   \n",
       "...                                  ...              ...            ...   \n",
       "2025-04-20 00:40:00+00:00       0.000061         0.000038       0.000030   \n",
       "2025-04-20 00:45:00+00:00       0.000057         0.000035       0.000028   \n",
       "2025-04-20 00:50:00+00:00       0.000058         0.000036       0.000028   \n",
       "2025-04-20 00:55:00+00:00       0.000060         0.000037       0.000030   \n",
       "2025-04-20 01:00:00+00:00       0.000057         0.000035       0.000030   \n",
       "\n",
       "                              alpha  risk_free_rate  target  \n",
       "time                                                         \n",
       "2025-03-01 01:05:00+00:00 -0.000004    4.072808e-07       1  \n",
       "2025-03-01 01:10:00+00:00 -0.000004    4.072808e-07       1  \n",
       "2025-03-01 01:15:00+00:00 -0.000003    4.072808e-07       1  \n",
       "2025-03-01 01:20:00+00:00 -0.000013    4.072808e-07       1  \n",
       "2025-03-01 01:25:00+00:00 -0.000018    4.072808e-07       0  \n",
       "...                             ...             ...     ...  \n",
       "2025-04-20 00:40:00+00:00 -0.000008    4.072808e-07       1  \n",
       "2025-04-20 00:45:00+00:00 -0.000008    4.072808e-07       1  \n",
       "2025-04-20 00:50:00+00:00 -0.000007    4.072808e-07       1  \n",
       "2025-04-20 00:55:00+00:00 -0.000007    4.072808e-07       0  \n",
       "2025-04-20 01:00:00+00:00 -0.000005    4.072808e-07       1  \n",
       "\n",
       "[14400 rows x 47 columns]"
      ],
      "text/html": [
       "<div>\n",
       "<style scoped>\n",
       "    .dataframe tbody tr th:only-of-type {\n",
       "        vertical-align: middle;\n",
       "    }\n",
       "\n",
       "    .dataframe tbody tr th {\n",
       "        vertical-align: top;\n",
       "    }\n",
       "\n",
       "    .dataframe thead th {\n",
       "        text-align: right;\n",
       "    }\n",
       "</style>\n",
       "<table border=\"1\" class=\"dataframe\">\n",
       "  <thead>\n",
       "    <tr style=\"text-align: right;\">\n",
       "      <th></th>\n",
       "      <th>low</th>\n",
       "      <th>trades</th>\n",
       "      <th>tb_quote</th>\n",
       "      <th>volume</th>\n",
       "      <th>high</th>\n",
       "      <th>close</th>\n",
       "      <th>quote_volume</th>\n",
       "      <th>tb_base</th>\n",
       "      <th>open</th>\n",
       "      <th>return_1</th>\n",
       "      <th>...</th>\n",
       "      <th>range_pct</th>\n",
       "      <th>close_moving_avg</th>\n",
       "      <th>price</th>\n",
       "      <th>beta</th>\n",
       "      <th>market_return</th>\n",
       "      <th>expected_return</th>\n",
       "      <th>actual_return</th>\n",
       "      <th>alpha</th>\n",
       "      <th>risk_free_rate</th>\n",
       "      <th>target</th>\n",
       "    </tr>\n",
       "    <tr>\n",
       "      <th>time</th>\n",
       "      <th></th>\n",
       "      <th></th>\n",
       "      <th></th>\n",
       "      <th></th>\n",
       "      <th></th>\n",
       "      <th></th>\n",
       "      <th></th>\n",
       "      <th></th>\n",
       "      <th></th>\n",
       "      <th></th>\n",
       "      <th></th>\n",
       "      <th></th>\n",
       "      <th></th>\n",
       "      <th></th>\n",
       "      <th></th>\n",
       "      <th></th>\n",
       "      <th></th>\n",
       "      <th></th>\n",
       "      <th></th>\n",
       "      <th></th>\n",
       "      <th></th>\n",
       "    </tr>\n",
       "  </thead>\n",
       "  <tbody>\n",
       "    <tr>\n",
       "      <th>2025-03-01 01:05:00+00:00</th>\n",
       "      <td>83851.86</td>\n",
       "      <td>12110.0</td>\n",
       "      <td>2.448594e+06</td>\n",
       "      <td>56.56409</td>\n",
       "      <td>83981.14</td>\n",
       "      <td>83978.00</td>\n",
       "      <td>4.746645e+06</td>\n",
       "      <td>29.17820</td>\n",
       "      <td>83857.91</td>\n",
       "      <td>-0.110413</td>\n",
       "      <td>...</td>\n",
       "      <td>0.001539</td>\n",
       "      <td>92401.858333</td>\n",
       "      <td>83978.00</td>\n",
       "      <td>0.871422</td>\n",
       "      <td>-0.000008</td>\n",
       "      <td>-0.000007</td>\n",
       "      <td>-0.000011</td>\n",
       "      <td>-0.000004</td>\n",
       "      <td>4.072808e-07</td>\n",
       "      <td>1</td>\n",
       "    </tr>\n",
       "    <tr>\n",
       "      <th>2025-03-01 01:10:00+00:00</th>\n",
       "      <td>83891.26</td>\n",
       "      <td>9728.0</td>\n",
       "      <td>1.218921e+06</td>\n",
       "      <td>40.50522</td>\n",
       "      <td>84066.35</td>\n",
       "      <td>83949.01</td>\n",
       "      <td>3.401375e+06</td>\n",
       "      <td>14.51406</td>\n",
       "      <td>83978.00</td>\n",
       "      <td>-0.000345</td>\n",
       "      <td>...</td>\n",
       "      <td>0.002086</td>\n",
       "      <td>90741.855000</td>\n",
       "      <td>83949.01</td>\n",
       "      <td>0.871230</td>\n",
       "      <td>-0.000003</td>\n",
       "      <td>-0.000002</td>\n",
       "      <td>-0.000006</td>\n",
       "      <td>-0.000004</td>\n",
       "      <td>4.072808e-07</td>\n",
       "      <td>1</td>\n",
       "    </tr>\n",
       "    <tr>\n",
       "      <th>2025-03-01 01:15:00+00:00</th>\n",
       "      <td>83949.00</td>\n",
       "      <td>7492.0</td>\n",
       "      <td>1.682206e+06</td>\n",
       "      <td>38.00655</td>\n",
       "      <td>84034.99</td>\n",
       "      <td>83995.80</td>\n",
       "      <td>3.192504e+06</td>\n",
       "      <td>20.02740</td>\n",
       "      <td>83949.01</td>\n",
       "      <td>0.000557</td>\n",
       "      <td>...</td>\n",
       "      <td>0.001024</td>\n",
       "      <td>89093.653333</td>\n",
       "      <td>83995.80</td>\n",
       "      <td>0.871227</td>\n",
       "      <td>-0.000002</td>\n",
       "      <td>-0.000002</td>\n",
       "      <td>-0.000005</td>\n",
       "      <td>-0.000003</td>\n",
       "      <td>4.072808e-07</td>\n",
       "      <td>1</td>\n",
       "    </tr>\n",
       "    <tr>\n",
       "      <th>2025-03-01 01:20:00+00:00</th>\n",
       "      <td>83995.79</td>\n",
       "      <td>6122.0</td>\n",
       "      <td>1.107337e+06</td>\n",
       "      <td>38.51680</td>\n",
       "      <td>84064.00</td>\n",
       "      <td>84062.82</td>\n",
       "      <td>3.237024e+06</td>\n",
       "      <td>13.17650</td>\n",
       "      <td>83995.80</td>\n",
       "      <td>0.000798</td>\n",
       "      <td>...</td>\n",
       "      <td>0.000811</td>\n",
       "      <td>87441.128333</td>\n",
       "      <td>84062.82</td>\n",
       "      <td>0.871492</td>\n",
       "      <td>0.000017</td>\n",
       "      <td>0.000015</td>\n",
       "      <td>0.000002</td>\n",
       "      <td>-0.000013</td>\n",
       "      <td>4.072808e-07</td>\n",
       "      <td>1</td>\n",
       "    </tr>\n",
       "    <tr>\n",
       "      <th>2025-03-01 01:25:00+00:00</th>\n",
       "      <td>84000.00</td>\n",
       "      <td>7464.0</td>\n",
       "      <td>1.498437e+06</td>\n",
       "      <td>33.31571</td>\n",
       "      <td>84117.43</td>\n",
       "      <td>84053.33</td>\n",
       "      <td>2.800134e+06</td>\n",
       "      <td>17.82907</td>\n",
       "      <td>84062.83</td>\n",
       "      <td>-0.000113</td>\n",
       "      <td>...</td>\n",
       "      <td>0.001397</td>\n",
       "      <td>85740.016667</td>\n",
       "      <td>84053.33</td>\n",
       "      <td>0.873015</td>\n",
       "      <td>0.000037</td>\n",
       "      <td>0.000032</td>\n",
       "      <td>0.000014</td>\n",
       "      <td>-0.000018</td>\n",
       "      <td>4.072808e-07</td>\n",
       "      <td>0</td>\n",
       "    </tr>\n",
       "    <tr>\n",
       "      <th>...</th>\n",
       "      <td>...</td>\n",
       "      <td>...</td>\n",
       "      <td>...</td>\n",
       "      <td>...</td>\n",
       "      <td>...</td>\n",
       "      <td>...</td>\n",
       "      <td>...</td>\n",
       "      <td>...</td>\n",
       "      <td>...</td>\n",
       "      <td>...</td>\n",
       "      <td>...</td>\n",
       "      <td>...</td>\n",
       "      <td>...</td>\n",
       "      <td>...</td>\n",
       "      <td>...</td>\n",
       "      <td>...</td>\n",
       "      <td>...</td>\n",
       "      <td>...</td>\n",
       "      <td>...</td>\n",
       "      <td>...</td>\n",
       "      <td>...</td>\n",
       "    </tr>\n",
       "    <tr>\n",
       "      <th>2025-04-20 00:40:00+00:00</th>\n",
       "      <td>85154.96</td>\n",
       "      <td>4015.0</td>\n",
       "      <td>6.013841e+05</td>\n",
       "      <td>18.82227</td>\n",
       "      <td>85204.02</td>\n",
       "      <td>85162.77</td>\n",
       "      <td>1.603294e+06</td>\n",
       "      <td>7.05990</td>\n",
       "      <td>85184.01</td>\n",
       "      <td>-0.000249</td>\n",
       "      <td>...</td>\n",
       "      <td>0.000576</td>\n",
       "      <td>85192.476667</td>\n",
       "      <td>85162.77</td>\n",
       "      <td>0.615970</td>\n",
       "      <td>0.000061</td>\n",
       "      <td>0.000038</td>\n",
       "      <td>0.000030</td>\n",
       "      <td>-0.000008</td>\n",
       "      <td>4.072808e-07</td>\n",
       "      <td>1</td>\n",
       "    </tr>\n",
       "    <tr>\n",
       "      <th>2025-04-20 00:45:00+00:00</th>\n",
       "      <td>85110.16</td>\n",
       "      <td>3865.0</td>\n",
       "      <td>4.417035e+05</td>\n",
       "      <td>11.09032</td>\n",
       "      <td>85162.77</td>\n",
       "      <td>85116.71</td>\n",
       "      <td>9.441376e+05</td>\n",
       "      <td>5.18868</td>\n",
       "      <td>85162.76</td>\n",
       "      <td>-0.000541</td>\n",
       "      <td>...</td>\n",
       "      <td>0.000618</td>\n",
       "      <td>85178.595000</td>\n",
       "      <td>85116.71</td>\n",
       "      <td>0.615135</td>\n",
       "      <td>0.000057</td>\n",
       "      <td>0.000035</td>\n",
       "      <td>0.000028</td>\n",
       "      <td>-0.000008</td>\n",
       "      <td>4.072808e-07</td>\n",
       "      <td>1</td>\n",
       "    </tr>\n",
       "    <tr>\n",
       "      <th>2025-04-20 00:50:00+00:00</th>\n",
       "      <td>85085.35</td>\n",
       "      <td>3986.0</td>\n",
       "      <td>7.782873e+05</td>\n",
       "      <td>19.20245</td>\n",
       "      <td>85145.45</td>\n",
       "      <td>85113.05</td>\n",
       "      <td>1.634345e+06</td>\n",
       "      <td>9.14414</td>\n",
       "      <td>85116.72</td>\n",
       "      <td>-0.000043</td>\n",
       "      <td>...</td>\n",
       "      <td>0.000706</td>\n",
       "      <td>85164.013333</td>\n",
       "      <td>85113.05</td>\n",
       "      <td>0.614997</td>\n",
       "      <td>0.000058</td>\n",
       "      <td>0.000036</td>\n",
       "      <td>0.000028</td>\n",
       "      <td>-0.000007</td>\n",
       "      <td>4.072808e-07</td>\n",
       "      <td>1</td>\n",
       "    </tr>\n",
       "    <tr>\n",
       "      <th>2025-04-20 00:55:00+00:00</th>\n",
       "      <td>85097.45</td>\n",
       "      <td>2829.0</td>\n",
       "      <td>3.452931e+05</td>\n",
       "      <td>7.93646</td>\n",
       "      <td>85178.51</td>\n",
       "      <td>85178.51</td>\n",
       "      <td>6.757055e+05</td>\n",
       "      <td>4.05575</td>\n",
       "      <td>85113.05</td>\n",
       "      <td>0.000769</td>\n",
       "      <td>...</td>\n",
       "      <td>0.000952</td>\n",
       "      <td>85156.110000</td>\n",
       "      <td>85178.51</td>\n",
       "      <td>0.616176</td>\n",
       "      <td>0.000060</td>\n",
       "      <td>0.000037</td>\n",
       "      <td>0.000030</td>\n",
       "      <td>-0.000007</td>\n",
       "      <td>4.072808e-07</td>\n",
       "      <td>0</td>\n",
       "    </tr>\n",
       "    <tr>\n",
       "      <th>2025-04-20 01:00:00+00:00</th>\n",
       "      <td>85150.28</td>\n",
       "      <td>2487.0</td>\n",
       "      <td>4.732815e+05</td>\n",
       "      <td>9.78212</td>\n",
       "      <td>85194.55</td>\n",
       "      <td>85167.99</td>\n",
       "      <td>8.332381e+05</td>\n",
       "      <td>5.55655</td>\n",
       "      <td>85178.51</td>\n",
       "      <td>-0.000124</td>\n",
       "      <td>...</td>\n",
       "      <td>0.000520</td>\n",
       "      <td>85153.841667</td>\n",
       "      <td>85167.99</td>\n",
       "      <td>0.613420</td>\n",
       "      <td>0.000057</td>\n",
       "      <td>0.000035</td>\n",
       "      <td>0.000030</td>\n",
       "      <td>-0.000005</td>\n",
       "      <td>4.072808e-07</td>\n",
       "      <td>1</td>\n",
       "    </tr>\n",
       "  </tbody>\n",
       "</table>\n",
       "<p>14400 rows × 47 columns</p>\n",
       "</div>"
      ]
     },
     "execution_count": 19,
     "metadata": {},
     "output_type": "execute_result"
    }
   ],
   "execution_count": 19
  },
  {
   "metadata": {
    "ExecuteTime": {
     "end_time": "2025-05-13T18:43:02.923554Z",
     "start_time": "2025-05-13T18:43:02.921232Z"
    }
   },
   "cell_type": "code",
   "source": "len(y_test)",
   "id": "35623e3554963caf",
   "outputs": [
    {
     "data": {
      "text/plain": [
       "14112"
      ]
     },
     "execution_count": 20,
     "metadata": {},
     "output_type": "execute_result"
    }
   ],
   "execution_count": 20
  },
  {
   "metadata": {
    "ExecuteTime": {
     "end_time": "2025-05-13T18:43:03.170884Z",
     "start_time": "2025-05-13T18:43:03.168696Z"
    }
   },
   "cell_type": "code",
   "source": "len(df_test)",
   "id": "1ca512378c3fe31",
   "outputs": [
    {
     "data": {
      "text/plain": [
       "14400"
      ]
     },
     "execution_count": 21,
     "metadata": {},
     "output_type": "execute_result"
    }
   ],
   "execution_count": 21
  },
  {
   "metadata": {
    "ExecuteTime": {
     "end_time": "2025-05-13T18:43:03.981813Z",
     "start_time": "2025-05-13T18:43:03.980051Z"
    }
   },
   "cell_type": "code",
   "source": "df_test.reset_index(inplace=True)",
   "id": "e7f8358dd30b27b7",
   "outputs": [],
   "execution_count": 22
  },
  {
   "metadata": {
    "ExecuteTime": {
     "end_time": "2025-05-13T18:43:04.264335Z",
     "start_time": "2025-05-13T18:43:04.261212Z"
    }
   },
   "cell_type": "code",
   "source": "pred_adjusted = pred_adjusted.flatten()",
   "id": "86874bde89d4d285",
   "outputs": [],
   "execution_count": 23
  },
  {
   "metadata": {
    "ExecuteTime": {
     "end_time": "2025-05-13T18:52:16.243998Z",
     "start_time": "2025-05-13T18:52:15.825532Z"
    }
   },
   "cell_type": "code",
   "source": [
    "import matplotlib.pyplot as plt\n",
    "import numpy as np\n",
    "\n",
    "plt.figure(figsize=(20, 8))\n",
    "\n",
    "# Időpontok kiválasztása a megfelelő tartományból\n",
    "time_range = df_test['time'].iloc[388:488]\n",
    "price_range = df_test['close_moving_avg'].iloc[388:488]\n",
    "target_values = df_test['target'].iloc[388:488].values\n",
    "\n",
    "# Árfolyam ábrázolása a predikciók alapján színezve\n",
    "for i in range(100, 200):\n",
    "    color = 'green' if pred_adjusted[i] == 1 else 'red'\n",
    "    plt.plot(df_test['time'].iloc[i-1+288:i+1+288], df_test['close_moving_avg'].iloc[i-1+288:i+1+288], color=color)\n",
    "\n",
    "# Target értékek jelzése nyilakkal\n",
    "for i in range(99):\n",
    "    if target_values[i] == 1:  # Ha a target érték 1, felfelé nyíl\n",
    "        plt.annotate('↑',\n",
    "                     xy=(time_range.iloc[i], price_range.iloc[i]),\n",
    "                     xytext=(0, 10),\n",
    "                     textcoords='offset points',\n",
    "                     ha='center',\n",
    "                     fontsize=12,\n",
    "                     color='green',\n",
    "                     weight='bold')\n",
    "    else:  # Ha a target érték 0, lefelé nyíl\n",
    "        plt.annotate('↓',\n",
    "                     xy=(time_range.iloc[i], price_range.iloc[i]),\n",
    "                     xytext=(0, -20),\n",
    "                     textcoords='offset points',\n",
    "                     ha='center',\n",
    "                     fontsize=12,\n",
    "                     color='red',\n",
    "                     weight='bold')\n",
    "\n",
    "# Jelmagyarázat hozzáadása\n",
    "\n",
    "plt.title('BTC árfolyama színezve a modell predikciói alapján (nyilak: tényleges értékek)')\n",
    "plt.xlabel('Dátum')\n",
    "plt.ylabel('Árfolyam (USD)')\n",
    "plt.grid(True)\n",
    "plt.tight_layout()\n",
    "plt.show()"
   ],
   "id": "1e9126671ae86e50",
   "outputs": [
    {
     "data": {
      "text/plain": [
       "<Figure size 2000x800 with 1 Axes>"
      ],
      "image/png": "[encoded data removed]"
     },
     "metadata": {},
     "output_type": "display_data"
    }
   ],
   "execution_count": 35
  },
  {
   "metadata": {
    "ExecuteTime": {
     "end_time": "2025-05-13T18:43:05.041979Z",
     "start_time": "2025-05-13T18:43:04.898973Z"
    }
   },
   "cell_type": "code",
   "source": [
    "import matplotlib.pyplot as plt\n",
    "\n",
    "plt.figure(figsize=(20, 6))\n",
    "\n",
    "# Feltételezzük, hogy pred_adjusted már flattenelve van, és df_test sorban illeszkedik\n",
    "for i in range(1, 100):\n",
    "    color = 'green' if df_test['target'].iloc[i+288] == 1 else 'red'\n",
    "    plt.plot(df_test['time'].iloc[i-1+288:i+1+288], df_test['close_moving_avg'].iloc[i-1+288:i+1+288], color=color)\n",
    "\n",
    "plt.title('BTC árfolyama színezve a valós értékek alapján')\n",
    "plt.xlabel('Dátum')\n",
    "plt.ylabel('Árfolyam (USD)')\n",
    "plt.grid(True)\n",
    "plt.show()\n"
   ],
   "id": "b99dfc544cd156cf",
   "outputs": [
    {
     "data": {
      "text/plain": [
       "<Figure size 2000x600 with 1 Axes>"
      ],
      "image/png": "[encoded data removed]"
     },
     "metadata": {},
     "output_type": "display_data"
    }
   ],
   "execution_count": 25
  }
 ],
 "metadata": {
  "kernelspec": {
   "display_name": "Python 3",
   "language": "python",
   "name": "python3"
  },
  "language_info": {
   "codemirror_mode": {
    "name": "ipython",
    "version": 2
   },
   "file_extension": ".py",
   "mimetype": "text/x-python",
   "name": "python",
   "nbconvert_exporter": "python",
   "pygments_lexer": "ipython2",
   "version": "2.7.6"
  }
 },
 "nbformat": 4,
 "nbformat_minor": 5
}
