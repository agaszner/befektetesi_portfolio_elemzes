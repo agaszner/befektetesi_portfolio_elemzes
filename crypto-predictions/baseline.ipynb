{
 "cells": [
  {
   "cell_type": "code",
   "id": "initial_id",
   "metadata": {
    "collapsed": true,
    "ExecuteTime": {
     "end_time": "2025-04-22T21:04:19.011340Z",
     "start_time": "2025-04-22T21:04:17.167348Z"
    }
   },
   "source": [
    "from influxdb.commands import InfluxDBQueries\n",
    "import warnings\n",
    "import pandas as pd\n",
    "\n",
    "warnings.simplefilter(action='ignore', category=pd.errors.SettingWithCopyWarning)"
   ],
   "outputs": [
    {
     "ename": "ImportError",
     "evalue": "cannot import name 'CAPMAnalysis' from partially initialized module 'influxdb.commands' (most likely due to a circular import) (/Users/gaszneradam/Documents/BME/6_felev/onlab/befektetesi_portfolio_elemzes/influxdb/commands/__init__.py)",
     "output_type": "error",
     "traceback": [
      "\u001B[0;31m---------------------------------------------------------------------------\u001B[0m",
      "\u001B[0;31mImportError\u001B[0m                               Traceback (most recent call last)",
      "Cell \u001B[0;32mIn[1], line 1\u001B[0m\n\u001B[0;32m----> 1\u001B[0m \u001B[38;5;28;01mfrom\u001B[39;00m \u001B[38;5;21;01minfluxdb\u001B[39;00m\u001B[38;5;21;01m.\u001B[39;00m\u001B[38;5;21;01mcommands\u001B[39;00m \u001B[38;5;28;01mimport\u001B[39;00m InfluxDBQueries\n\u001B[1;32m      2\u001B[0m \u001B[38;5;28;01mimport\u001B[39;00m \u001B[38;5;21;01mwarnings\u001B[39;00m\n\u001B[1;32m      3\u001B[0m \u001B[38;5;28;01mimport\u001B[39;00m \u001B[38;5;21;01mpandas\u001B[39;00m \u001B[38;5;28;01mas\u001B[39;00m \u001B[38;5;21;01mpd\u001B[39;00m\n",
      "File \u001B[0;32m~/Documents/BME/6_felev/onlab/befektetesi_portfolio_elemzes/influxdb/__init__.py:2\u001B[0m\n\u001B[1;32m      1\u001B[0m \u001B[38;5;66;03m# InfluxDB package\u001B[39;00m\n\u001B[0;32m----> 2\u001B[0m \u001B[38;5;28;01mfrom\u001B[39;00m \u001B[38;5;21;01m.\u001B[39;00m\u001B[38;5;21;01mcommands\u001B[39;00m\u001B[38;5;21;01m.\u001B[39;00m\u001B[38;5;21;01minflux_db_queries\u001B[39;00m \u001B[38;5;28;01mimport\u001B[39;00m InfluxDBQueries\n\u001B[1;32m      3\u001B[0m \u001B[38;5;28;01mfrom\u001B[39;00m \u001B[38;5;21;01m.\u001B[39;00m\u001B[38;5;21;01mcommands\u001B[39;00m\u001B[38;5;21;01m.\u001B[39;00m\u001B[38;5;21;01mupload_to_influx\u001B[39;00m \u001B[38;5;28;01mimport\u001B[39;00m UploadToInflux\n\u001B[1;32m      4\u001B[0m \u001B[38;5;28;01mfrom\u001B[39;00m \u001B[38;5;21;01m.\u001B[39;00m \u001B[38;5;28;01mimport\u001B[39;00m client\n",
      "File \u001B[0;32m~/Documents/BME/6_felev/onlab/befektetesi_portfolio_elemzes/influxdb/commands/__init__.py:3\u001B[0m\n\u001B[1;32m      1\u001B[0m \u001B[38;5;28;01mfrom\u001B[39;00m \u001B[38;5;21;01m.\u001B[39;00m\u001B[38;5;21;01minflux_db_queries\u001B[39;00m \u001B[38;5;28;01mimport\u001B[39;00m InfluxDBQueries\n\u001B[1;32m      2\u001B[0m \u001B[38;5;28;01mfrom\u001B[39;00m \u001B[38;5;21;01m.\u001B[39;00m\u001B[38;5;21;01mupload_to_influx\u001B[39;00m \u001B[38;5;28;01mimport\u001B[39;00m UploadToInflux\n\u001B[0;32m----> 3\u001B[0m \u001B[38;5;28;01mfrom\u001B[39;00m \u001B[38;5;21;01m.\u001B[39;00m\u001B[38;5;21;01mdata_processors\u001B[39;00m \u001B[38;5;28;01mimport\u001B[39;00m DataProcessor\n\u001B[1;32m      4\u001B[0m \u001B[38;5;28;01mfrom\u001B[39;00m \u001B[38;5;21;01m.\u001B[39;00m\u001B[38;5;21;01mmodels\u001B[39;00m \u001B[38;5;28;01mimport\u001B[39;00m LSTMModel\n\u001B[1;32m      5\u001B[0m \u001B[38;5;28;01mfrom\u001B[39;00m \u001B[38;5;21;01m.\u001B[39;00m\u001B[38;5;21;01mcapm_analysis\u001B[39;00m \u001B[38;5;28;01mimport\u001B[39;00m CAPMAnalysis\n",
      "File \u001B[0;32m~/Documents/BME/6_felev/onlab/befektetesi_portfolio_elemzes/influxdb/commands/data_processors.py:4\u001B[0m\n\u001B[1;32m      2\u001B[0m \u001B[38;5;28;01mimport\u001B[39;00m \u001B[38;5;21;01mnumpy\u001B[39;00m \u001B[38;5;28;01mas\u001B[39;00m \u001B[38;5;21;01mnp\u001B[39;00m\n\u001B[1;32m      3\u001B[0m \u001B[38;5;28;01mfrom\u001B[39;00m \u001B[38;5;21;01msklearn\u001B[39;00m\u001B[38;5;21;01m.\u001B[39;00m\u001B[38;5;21;01mpreprocessing\u001B[39;00m \u001B[38;5;28;01mimport\u001B[39;00m StandardScaler\n\u001B[0;32m----> 4\u001B[0m \u001B[38;5;28;01mfrom\u001B[39;00m \u001B[38;5;21;01minfluxdb\u001B[39;00m\u001B[38;5;21;01m.\u001B[39;00m\u001B[38;5;21;01mcommands\u001B[39;00m \u001B[38;5;28;01mimport\u001B[39;00m CAPMAnalysis\n\u001B[1;32m      7\u001B[0m \u001B[38;5;28;01mclass\u001B[39;00m \u001B[38;5;21;01mDataProcessor\u001B[39;00m():\n\u001B[1;32m      9\u001B[0m     \u001B[38;5;129m@classmethod\u001B[39m\n\u001B[1;32m     10\u001B[0m     \u001B[38;5;28;01mdef\u001B[39;00m \u001B[38;5;21mmake_sequences\u001B[39m(\u001B[38;5;28mcls\u001B[39m, df, columns_to_select, window_size\u001B[38;5;241m=\u001B[39m\u001B[38;5;241m288\u001B[39m, forecast_horizon\u001B[38;5;241m=\u001B[39m\u001B[38;5;241m12\u001B[39m, return_absolute_prices\u001B[38;5;241m=\u001B[39m\u001B[38;5;28;01mFalse\u001B[39;00m):\n",
      "\u001B[0;31mImportError\u001B[0m: cannot import name 'CAPMAnalysis' from partially initialized module 'influxdb.commands' (most likely due to a circular import) (/Users/gaszneradam/Documents/BME/6_felev/onlab/befektetesi_portfolio_elemzes/influxdb/commands/__init__.py)"
     ]
    }
   ],
   "execution_count": 1
  },
  {
   "cell_type": "code",
   "id": "9416407fdec9fdee",
   "metadata": {
    "ExecuteTime": {
     "end_time": "2025-04-13T17:02:26.988516Z",
     "start_time": "2025-04-13T16:58:16.936640Z"
    }
   },
   "source": "df_train = InfluxDBQueries.get_data_from_influx(groupby_time='5m', pair='BTCUSDT', start=\"2022-01-01T01:00:00Z\", stop=\"2023-01-01T01:00:00Z\")",
   "outputs": [],
   "execution_count": 2
  },
  {
   "metadata": {
    "ExecuteTime": {
     "end_time": "2025-04-13T17:02:27.234760Z",
     "start_time": "2025-04-13T17:02:27.227355Z"
    }
   },
   "cell_type": "code",
   "source": "df_train",
   "id": "8f7fef271721c387",
   "outputs": [
    {
     "data": {
      "text/plain": [
       "                                low     close     volume      open      high\n",
       "time                                                                        \n",
       "2022-01-01 01:05:00+00:00  46574.06  46582.68   78.29231  46656.14  46661.64\n",
       "2022-01-01 01:10:00+00:00  46579.90  46675.00   74.96125  46582.67  46678.13\n",
       "2022-01-01 01:15:00+00:00  46674.99  46766.99   65.66259  46675.00  46767.24\n",
       "2022-01-01 01:20:00+00:00  46752.17  46876.81   83.41304  46766.99  46900.00\n",
       "2022-01-01 01:25:00+00:00  46799.00  46846.03   54.86916  46876.82  46949.99\n",
       "...                             ...       ...        ...       ...       ...\n",
       "2023-01-01 00:40:00+00:00  16508.39  16524.04  350.25779  16527.27  16530.09\n",
       "2023-01-01 00:45:00+00:00  16512.70  16515.43  176.75702  16524.83  16525.25\n",
       "2023-01-01 00:50:00+00:00  16515.43  16529.16  179.03511  16515.91  16535.66\n",
       "2023-01-01 00:55:00+00:00  16526.36  16531.84  106.63514  16529.69  16533.79\n",
       "2023-01-01 01:00:00+00:00  16528.94  16529.67  101.90815  16531.84  16536.84\n",
       "\n",
       "[105120 rows x 5 columns]"
      ],
      "text/html": [
       "<div>\n",
       "<style scoped>\n",
       "    .dataframe tbody tr th:only-of-type {\n",
       "        vertical-align: middle;\n",
       "    }\n",
       "\n",
       "    .dataframe tbody tr th {\n",
       "        vertical-align: top;\n",
       "    }\n",
       "\n",
       "    .dataframe thead th {\n",
       "        text-align: right;\n",
       "    }\n",
       "</style>\n",
       "<table border=\"1\" class=\"dataframe\">\n",
       "  <thead>\n",
       "    <tr style=\"text-align: right;\">\n",
       "      <th></th>\n",
       "      <th>low</th>\n",
       "      <th>close</th>\n",
       "      <th>volume</th>\n",
       "      <th>open</th>\n",
       "      <th>high</th>\n",
       "    </tr>\n",
       "    <tr>\n",
       "      <th>time</th>\n",
       "      <th></th>\n",
       "      <th></th>\n",
       "      <th></th>\n",
       "      <th></th>\n",
       "      <th></th>\n",
       "    </tr>\n",
       "  </thead>\n",
       "  <tbody>\n",
       "    <tr>\n",
       "      <th>2022-01-01 01:05:00+00:00</th>\n",
       "      <td>46574.06</td>\n",
       "      <td>46582.68</td>\n",
       "      <td>78.29231</td>\n",
       "      <td>46656.14</td>\n",
       "      <td>46661.64</td>\n",
       "    </tr>\n",
       "    <tr>\n",
       "      <th>2022-01-01 01:10:00+00:00</th>\n",
       "      <td>46579.90</td>\n",
       "      <td>46675.00</td>\n",
       "      <td>74.96125</td>\n",
       "      <td>46582.67</td>\n",
       "      <td>46678.13</td>\n",
       "    </tr>\n",
       "    <tr>\n",
       "      <th>2022-01-01 01:15:00+00:00</th>\n",
       "      <td>46674.99</td>\n",
       "      <td>46766.99</td>\n",
       "      <td>65.66259</td>\n",
       "      <td>46675.00</td>\n",
       "      <td>46767.24</td>\n",
       "    </tr>\n",
       "    <tr>\n",
       "      <th>2022-01-01 01:20:00+00:00</th>\n",
       "      <td>46752.17</td>\n",
       "      <td>46876.81</td>\n",
       "      <td>83.41304</td>\n",
       "      <td>46766.99</td>\n",
       "      <td>46900.00</td>\n",
       "    </tr>\n",
       "    <tr>\n",
       "      <th>2022-01-01 01:25:00+00:00</th>\n",
       "      <td>46799.00</td>\n",
       "      <td>46846.03</td>\n",
       "      <td>54.86916</td>\n",
       "      <td>46876.82</td>\n",
       "      <td>46949.99</td>\n",
       "    </tr>\n",
       "    <tr>\n",
       "      <th>...</th>\n",
       "      <td>...</td>\n",
       "      <td>...</td>\n",
       "      <td>...</td>\n",
       "      <td>...</td>\n",
       "      <td>...</td>\n",
       "    </tr>\n",
       "    <tr>\n",
       "      <th>2023-01-01 00:40:00+00:00</th>\n",
       "      <td>16508.39</td>\n",
       "      <td>16524.04</td>\n",
       "      <td>350.25779</td>\n",
       "      <td>16527.27</td>\n",
       "      <td>16530.09</td>\n",
       "    </tr>\n",
       "    <tr>\n",
       "      <th>2023-01-01 00:45:00+00:00</th>\n",
       "      <td>16512.70</td>\n",
       "      <td>16515.43</td>\n",
       "      <td>176.75702</td>\n",
       "      <td>16524.83</td>\n",
       "      <td>16525.25</td>\n",
       "    </tr>\n",
       "    <tr>\n",
       "      <th>2023-01-01 00:50:00+00:00</th>\n",
       "      <td>16515.43</td>\n",
       "      <td>16529.16</td>\n",
       "      <td>179.03511</td>\n",
       "      <td>16515.91</td>\n",
       "      <td>16535.66</td>\n",
       "    </tr>\n",
       "    <tr>\n",
       "      <th>2023-01-01 00:55:00+00:00</th>\n",
       "      <td>16526.36</td>\n",
       "      <td>16531.84</td>\n",
       "      <td>106.63514</td>\n",
       "      <td>16529.69</td>\n",
       "      <td>16533.79</td>\n",
       "    </tr>\n",
       "    <tr>\n",
       "      <th>2023-01-01 01:00:00+00:00</th>\n",
       "      <td>16528.94</td>\n",
       "      <td>16529.67</td>\n",
       "      <td>101.90815</td>\n",
       "      <td>16531.84</td>\n",
       "      <td>16536.84</td>\n",
       "    </tr>\n",
       "  </tbody>\n",
       "</table>\n",
       "<p>105120 rows × 5 columns</p>\n",
       "</div>"
      ]
     },
     "execution_count": 3,
     "metadata": {},
     "output_type": "execute_result"
    }
   ],
   "execution_count": 3
  },
  {
   "metadata": {
    "ExecuteTime": {
     "end_time": "2025-04-13T17:02:27.359267Z",
     "start_time": "2025-04-13T17:02:27.354073Z"
    }
   },
   "cell_type": "code",
   "source": "df_train['target'] = df_train['close'].shift(-12) - df_train['close']",
   "id": "f7b8df9ddd657dea",
   "outputs": [],
   "execution_count": 4
  },
  {
   "metadata": {
    "ExecuteTime": {
     "end_time": "2025-04-13T17:02:28.001676Z",
     "start_time": "2025-04-13T17:02:27.507931Z"
    }
   },
   "cell_type": "code",
   "source": "df_train['target'].hist()",
   "id": "996c4ff9aa38a216",
   "outputs": [
    {
     "data": {
      "text/plain": [
       "<Axes: >"
      ]
     },
     "execution_count": 5,
     "metadata": {},
     "output_type": "execute_result"
    },
    {
     "data": {
      "text/plain": [
       "<Figure size 640x480 with 1 Axes>"
      ],
      "image/png": "[encoded data removed]"
     },
     "metadata": {},
     "output_type": "display_data"
    }
   ],
   "execution_count": 5
  },
  {
   "metadata": {
    "ExecuteTime": {
     "end_time": "2025-04-13T17:02:28.022569Z",
     "start_time": "2025-04-13T17:02:28.014383Z"
    }
   },
   "cell_type": "code",
   "source": [
    "df_train['ema_50'] = df_train['close'].ewm(span=50).mean()\n",
    "df_train['ema_125'] = df_train['close'].ewm(span=125).mean()\n",
    "df_train['ema_250'] = df_train['close'].ewm(span=250).mean()"
   ],
   "id": "8744ef17d0b3ea6f",
   "outputs": [],
   "execution_count": 6
  },
  {
   "metadata": {
    "ExecuteTime": {
     "end_time": "2025-04-13T17:02:28.037276Z",
     "start_time": "2025-04-13T17:02:28.028982Z"
    }
   },
   "cell_type": "code",
   "source": "df_train['volatility_24h'] = df_train['close'].rolling(window=288).std()",
   "id": "2f0a443172909f71",
   "outputs": [],
   "execution_count": 7
  },
  {
   "metadata": {
    "ExecuteTime": {
     "end_time": "2025-04-13T17:02:28.058318Z",
     "start_time": "2025-04-13T17:02:28.048814Z"
    }
   },
   "cell_type": "code",
   "source": "import ta",
   "id": "94d3877a0570f30d",
   "outputs": [],
   "execution_count": 8
  },
  {
   "metadata": {
    "ExecuteTime": {
     "end_time": "2025-04-13T17:02:28.074267Z",
     "start_time": "2025-04-13T17:02:28.067694Z"
    }
   },
   "cell_type": "code",
   "source": [
    "macd = ta.trend.MACD(close=df_train['close'])\n",
    "df_train['macd'] = macd.macd()\n",
    "df_train['macd_signal'] = macd.macd_signal()\n",
    "df_train['macd_diff'] = macd.macd_diff()"
   ],
   "id": "7e361773694fdf9",
   "outputs": [],
   "execution_count": 9
  },
  {
   "metadata": {
    "ExecuteTime": {
     "end_time": "2025-04-13T17:02:28.084525Z",
     "start_time": "2025-04-13T17:02:28.081429Z"
    }
   },
   "cell_type": "code",
   "source": "df_train['momentum_6h'] = df_train['close'] - df_train['close'].shift(72)",
   "id": "e81939513a6465f",
   "outputs": [],
   "execution_count": 10
  },
  {
   "metadata": {
    "ExecuteTime": {
     "end_time": "2025-04-13T17:02:29.030983Z",
     "start_time": "2025-04-13T17:02:28.091309Z"
    }
   },
   "cell_type": "code",
   "source": "from sklearn.ensemble import RandomForestRegressor",
   "id": "bc37fa1764b6b803",
   "outputs": [],
   "execution_count": 11
  },
  {
   "metadata": {
    "ExecuteTime": {
     "end_time": "2025-04-13T17:02:29.039525Z",
     "start_time": "2025-04-13T17:02:29.037971Z"
    }
   },
   "cell_type": "code",
   "source": "rf = RandomForestRegressor(n_estimators=500, random_state=42)",
   "id": "23f9dd8961bfb3e2",
   "outputs": [],
   "execution_count": 12
  },
  {
   "metadata": {
    "ExecuteTime": {
     "end_time": "2025-04-13T17:02:29.047534Z",
     "start_time": "2025-04-13T17:02:29.045908Z"
    }
   },
   "cell_type": "code",
   "source": "input_vals = ['ema_50' , 'ema_125', 'ema_250', 'volatility_24h', 'macd', 'macd_signal', 'macd_diff', 'momentum_6h']",
   "id": "851a4f7cf3be9856",
   "outputs": [],
   "execution_count": 13
  },
  {
   "metadata": {
    "ExecuteTime": {
     "end_time": "2025-04-13T17:02:29.064209Z",
     "start_time": "2025-04-13T17:02:29.053428Z"
    }
   },
   "cell_type": "code",
   "source": "df_train = df_train.dropna()",
   "id": "ffbe07bad081929e",
   "outputs": [],
   "execution_count": 14
  },
  {
   "metadata": {
    "ExecuteTime": {
     "end_time": "2025-04-13T17:22:22.129755Z",
     "start_time": "2025-04-13T17:02:29.081317Z"
    }
   },
   "cell_type": "code",
   "source": "rf.fit(df_train[input_vals], df_train['target'])",
   "id": "f49516b371a510ab",
   "outputs": [
    {
     "data": {
      "text/plain": [
       "RandomForestRegressor(n_estimators=500, random_state=42)"
      ],
      "text/html": [
       "<style>#sk-container-id-1 {\n",
       "  /* Definition of color scheme common for light and dark mode */\n",
       "  --sklearn-color-text: #000;\n",
       "  --sklearn-color-text-muted: #666;\n",
       "  --sklearn-color-line: gray;\n",
       "  /* Definition of color scheme for unfitted estimators */\n",
       "  --sklearn-color-unfitted-level-0: #fff5e6;\n",
       "  --sklearn-color-unfitted-level-1: #f6e4d2;\n",
       "  --sklearn-color-unfitted-level-2: #ffe0b3;\n",
       "  --sklearn-color-unfitted-level-3: chocolate;\n",
       "  /* Definition of color scheme for fitted estimators */\n",
       "  --sklearn-color-fitted-level-0: #f0f8ff;\n",
       "  --sklearn-color-fitted-level-1: #d4ebff;\n",
       "  --sklearn-color-fitted-level-2: #b3dbfd;\n",
       "  --sklearn-color-fitted-level-3: cornflowerblue;\n",
       "\n",
       "  /* Specific color for light theme */\n",
       "  --sklearn-color-text-on-default-background: var(--sg-text-color, var(--theme-code-foreground, var(--jp-content-font-color1, black)));\n",
       "  --sklearn-color-background: var(--sg-background-color, var(--theme-background, var(--jp-layout-color0, white)));\n",
       "  --sklearn-color-border-box: var(--sg-text-color, var(--theme-code-foreground, var(--jp-content-font-color1, black)));\n",
       "  --sklearn-color-icon: #696969;\n",
       "\n",
       "  @media (prefers-color-scheme: dark) {\n",
       "    /* Redefinition of color scheme for dark theme */\n",
       "    --sklearn-color-text-on-default-background: var(--sg-text-color, var(--theme-code-foreground, var(--jp-content-font-color1, white)));\n",
       "    --sklearn-color-background: var(--sg-background-color, var(--theme-background, var(--jp-layout-color0, #111)));\n",
       "    --sklearn-color-border-box: var(--sg-text-color, var(--theme-code-foreground, var(--jp-content-font-color1, white)));\n",
       "    --sklearn-color-icon: #878787;\n",
       "  }\n",
       "}\n",
       "\n",
       "#sk-container-id-1 {\n",
       "  color: var(--sklearn-color-text);\n",
       "}\n",
       "\n",
       "#sk-container-id-1 pre {\n",
       "  padding: 0;\n",
       "}\n",
       "\n",
       "#sk-container-id-1 input.sk-hidden--visually {\n",
       "  border: 0;\n",
       "  clip: rect(1px 1px 1px 1px);\n",
       "  clip: rect(1px, 1px, 1px, 1px);\n",
       "  height: 1px;\n",
       "  margin: -1px;\n",
       "  overflow: hidden;\n",
       "  padding: 0;\n",
       "  position: absolute;\n",
       "  width: 1px;\n",
       "}\n",
       "\n",
       "#sk-container-id-1 div.sk-dashed-wrapped {\n",
       "  border: 1px dashed var(--sklearn-color-line);\n",
       "  margin: 0 0.4em 0.5em 0.4em;\n",
       "  box-sizing: border-box;\n",
       "  padding-bottom: 0.4em;\n",
       "  background-color: var(--sklearn-color-background);\n",
       "}\n",
       "\n",
       "#sk-container-id-1 div.sk-container {\n",
       "  /* jupyter's `normalize.less` sets `[hidden] { display: none; }`\n",
       "     but bootstrap.min.css set `[hidden] { display: none !important; }`\n",
       "     so we also need the `!important` here to be able to override the\n",
       "     default hidden behavior on the sphinx rendered scikit-learn.org.\n",
       "     See: https://github.com/scikit-learn/scikit-learn/issues/21755 */\n",
       "  display: inline-block !important;\n",
       "  position: relative;\n",
       "}\n",
       "\n",
       "#sk-container-id-1 div.sk-text-repr-fallback {\n",
       "  display: none;\n",
       "}\n",
       "\n",
       "div.sk-parallel-item,\n",
       "div.sk-serial,\n",
       "div.sk-item {\n",
       "  /* draw centered vertical line to link estimators */\n",
       "  background-image: linear-gradient(var(--sklearn-color-text-on-default-background), var(--sklearn-color-text-on-default-background));\n",
       "  background-size: 2px 100%;\n",
       "  background-repeat: no-repeat;\n",
       "  background-position: center center;\n",
       "}\n",
       "\n",
       "/* Parallel-specific style estimator block */\n",
       "\n",
       "#sk-container-id-1 div.sk-parallel-item::after {\n",
       "  content: \"\";\n",
       "  width: 100%;\n",
       "  border-bottom: 2px solid var(--sklearn-color-text-on-default-background);\n",
       "  flex-grow: 1;\n",
       "}\n",
       "\n",
       "#sk-container-id-1 div.sk-parallel {\n",
       "  display: flex;\n",
       "  align-items: stretch;\n",
       "  justify-content: center;\n",
       "  background-color: var(--sklearn-color-background);\n",
       "  position: relative;\n",
       "}\n",
       "\n",
       "#sk-container-id-1 div.sk-parallel-item {\n",
       "  display: flex;\n",
       "  flex-direction: column;\n",
       "}\n",
       "\n",
       "#sk-container-id-1 div.sk-parallel-item:first-child::after {\n",
       "  align-self: flex-end;\n",
       "  width: 50%;\n",
       "}\n",
       "\n",
       "#sk-container-id-1 div.sk-parallel-item:last-child::after {\n",
       "  align-self: flex-start;\n",
       "  width: 50%;\n",
       "}\n",
       "\n",
       "#sk-container-id-1 div.sk-parallel-item:only-child::after {\n",
       "  width: 0;\n",
       "}\n",
       "\n",
       "/* Serial-specific style estimator block */\n",
       "\n",
       "#sk-container-id-1 div.sk-serial {\n",
       "  display: flex;\n",
       "  flex-direction: column;\n",
       "  align-items: center;\n",
       "  background-color: var(--sklearn-color-background);\n",
       "  padding-right: 1em;\n",
       "  padding-left: 1em;\n",
       "}\n",
       "\n",
       "\n",
       "/* Toggleable style: style used for estimator/Pipeline/ColumnTransformer box that is\n",
       "clickable and can be expanded/collapsed.\n",
       "- Pipeline and ColumnTransformer use this feature and define the default style\n",
       "- Estimators will overwrite some part of the style using the `sk-estimator` class\n",
       "*/\n",
       "\n",
       "/* Pipeline and ColumnTransformer style (default) */\n",
       "\n",
       "#sk-container-id-1 div.sk-toggleable {\n",
       "  /* Default theme specific background. It is overwritten whether we have a\n",
       "  specific estimator or a Pipeline/ColumnTransformer */\n",
       "  background-color: var(--sklearn-color-background);\n",
       "}\n",
       "\n",
       "/* Toggleable label */\n",
       "#sk-container-id-1 label.sk-toggleable__label {\n",
       "  cursor: pointer;\n",
       "  display: flex;\n",
       "  width: 100%;\n",
       "  margin-bottom: 0;\n",
       "  padding: 0.5em;\n",
       "  box-sizing: border-box;\n",
       "  text-align: center;\n",
       "  align-items: start;\n",
       "  justify-content: space-between;\n",
       "  gap: 0.5em;\n",
       "}\n",
       "\n",
       "#sk-container-id-1 label.sk-toggleable__label .caption {\n",
       "  font-size: 0.6rem;\n",
       "  font-weight: lighter;\n",
       "  color: var(--sklearn-color-text-muted);\n",
       "}\n",
       "\n",
       "#sk-container-id-1 label.sk-toggleable__label-arrow:before {\n",
       "  /* Arrow on the left of the label */\n",
       "  content: \"▸\";\n",
       "  float: left;\n",
       "  margin-right: 0.25em;\n",
       "  color: var(--sklearn-color-icon);\n",
       "}\n",
       "\n",
       "#sk-container-id-1 label.sk-toggleable__label-arrow:hover:before {\n",
       "  color: var(--sklearn-color-text);\n",
       "}\n",
       "\n",
       "/* Toggleable content - dropdown */\n",
       "\n",
       "#sk-container-id-1 div.sk-toggleable__content {\n",
       "  max-height: 0;\n",
       "  max-width: 0;\n",
       "  overflow: hidden;\n",
       "  text-align: left;\n",
       "  /* unfitted */\n",
       "  background-color: var(--sklearn-color-unfitted-level-0);\n",
       "}\n",
       "\n",
       "#sk-container-id-1 div.sk-toggleable__content.fitted {\n",
       "  /* fitted */\n",
       "  background-color: var(--sklearn-color-fitted-level-0);\n",
       "}\n",
       "\n",
       "#sk-container-id-1 div.sk-toggleable__content pre {\n",
       "  margin: 0.2em;\n",
       "  border-radius: 0.25em;\n",
       "  color: var(--sklearn-color-text);\n",
       "  /* unfitted */\n",
       "  background-color: var(--sklearn-color-unfitted-level-0);\n",
       "}\n",
       "\n",
       "#sk-container-id-1 div.sk-toggleable__content.fitted pre {\n",
       "  /* unfitted */\n",
       "  background-color: var(--sklearn-color-fitted-level-0);\n",
       "}\n",
       "\n",
       "#sk-container-id-1 input.sk-toggleable__control:checked~div.sk-toggleable__content {\n",
       "  /* Expand drop-down */\n",
       "  max-height: 200px;\n",
       "  max-width: 100%;\n",
       "  overflow: auto;\n",
       "}\n",
       "\n",
       "#sk-container-id-1 input.sk-toggleable__control:checked~label.sk-toggleable__label-arrow:before {\n",
       "  content: \"▾\";\n",
       "}\n",
       "\n",
       "/* Pipeline/ColumnTransformer-specific style */\n",
       "\n",
       "#sk-container-id-1 div.sk-label input.sk-toggleable__control:checked~label.sk-toggleable__label {\n",
       "  color: var(--sklearn-color-text);\n",
       "  background-color: var(--sklearn-color-unfitted-level-2);\n",
       "}\n",
       "\n",
       "#sk-container-id-1 div.sk-label.fitted input.sk-toggleable__control:checked~label.sk-toggleable__label {\n",
       "  background-color: var(--sklearn-color-fitted-level-2);\n",
       "}\n",
       "\n",
       "/* Estimator-specific style */\n",
       "\n",
       "/* Colorize estimator box */\n",
       "#sk-container-id-1 div.sk-estimator input.sk-toggleable__control:checked~label.sk-toggleable__label {\n",
       "  /* unfitted */\n",
       "  background-color: var(--sklearn-color-unfitted-level-2);\n",
       "}\n",
       "\n",
       "#sk-container-id-1 div.sk-estimator.fitted input.sk-toggleable__control:checked~label.sk-toggleable__label {\n",
       "  /* fitted */\n",
       "  background-color: var(--sklearn-color-fitted-level-2);\n",
       "}\n",
       "\n",
       "#sk-container-id-1 div.sk-label label.sk-toggleable__label,\n",
       "#sk-container-id-1 div.sk-label label {\n",
       "  /* The background is the default theme color */\n",
       "  color: var(--sklearn-color-text-on-default-background);\n",
       "}\n",
       "\n",
       "/* On hover, darken the color of the background */\n",
       "#sk-container-id-1 div.sk-label:hover label.sk-toggleable__label {\n",
       "  color: var(--sklearn-color-text);\n",
       "  background-color: var(--sklearn-color-unfitted-level-2);\n",
       "}\n",
       "\n",
       "/* Label box, darken color on hover, fitted */\n",
       "#sk-container-id-1 div.sk-label.fitted:hover label.sk-toggleable__label.fitted {\n",
       "  color: var(--sklearn-color-text);\n",
       "  background-color: var(--sklearn-color-fitted-level-2);\n",
       "}\n",
       "\n",
       "/* Estimator label */\n",
       "\n",
       "#sk-container-id-1 div.sk-label label {\n",
       "  font-family: monospace;\n",
       "  font-weight: bold;\n",
       "  display: inline-block;\n",
       "  line-height: 1.2em;\n",
       "}\n",
       "\n",
       "#sk-container-id-1 div.sk-label-container {\n",
       "  text-align: center;\n",
       "}\n",
       "\n",
       "/* Estimator-specific */\n",
       "#sk-container-id-1 div.sk-estimator {\n",
       "  font-family: monospace;\n",
       "  border: 1px dotted var(--sklearn-color-border-box);\n",
       "  border-radius: 0.25em;\n",
       "  box-sizing: border-box;\n",
       "  margin-bottom: 0.5em;\n",
       "  /* unfitted */\n",
       "  background-color: var(--sklearn-color-unfitted-level-0);\n",
       "}\n",
       "\n",
       "#sk-container-id-1 div.sk-estimator.fitted {\n",
       "  /* fitted */\n",
       "  background-color: var(--sklearn-color-fitted-level-0);\n",
       "}\n",
       "\n",
       "/* on hover */\n",
       "#sk-container-id-1 div.sk-estimator:hover {\n",
       "  /* unfitted */\n",
       "  background-color: var(--sklearn-color-unfitted-level-2);\n",
       "}\n",
       "\n",
       "#sk-container-id-1 div.sk-estimator.fitted:hover {\n",
       "  /* fitted */\n",
       "  background-color: var(--sklearn-color-fitted-level-2);\n",
       "}\n",
       "\n",
       "/* Specification for estimator info (e.g. \"i\" and \"?\") */\n",
       "\n",
       "/* Common style for \"i\" and \"?\" */\n",
       "\n",
       ".sk-estimator-doc-link,\n",
       "a:link.sk-estimator-doc-link,\n",
       "a:visited.sk-estimator-doc-link {\n",
       "  float: right;\n",
       "  font-size: smaller;\n",
       "  line-height: 1em;\n",
       "  font-family: monospace;\n",
       "  background-color: var(--sklearn-color-background);\n",
       "  border-radius: 1em;\n",
       "  height: 1em;\n",
       "  width: 1em;\n",
       "  text-decoration: none !important;\n",
       "  margin-left: 0.5em;\n",
       "  text-align: center;\n",
       "  /* unfitted */\n",
       "  border: var(--sklearn-color-unfitted-level-1) 1pt solid;\n",
       "  color: var(--sklearn-color-unfitted-level-1);\n",
       "}\n",
       "\n",
       ".sk-estimator-doc-link.fitted,\n",
       "a:link.sk-estimator-doc-link.fitted,\n",
       "a:visited.sk-estimator-doc-link.fitted {\n",
       "  /* fitted */\n",
       "  border: var(--sklearn-color-fitted-level-1) 1pt solid;\n",
       "  color: var(--sklearn-color-fitted-level-1);\n",
       "}\n",
       "\n",
       "/* On hover */\n",
       "div.sk-estimator:hover .sk-estimator-doc-link:hover,\n",
       ".sk-estimator-doc-link:hover,\n",
       "div.sk-label-container:hover .sk-estimator-doc-link:hover,\n",
       ".sk-estimator-doc-link:hover {\n",
       "  /* unfitted */\n",
       "  background-color: var(--sklearn-color-unfitted-level-3);\n",
       "  color: var(--sklearn-color-background);\n",
       "  text-decoration: none;\n",
       "}\n",
       "\n",
       "div.sk-estimator.fitted:hover .sk-estimator-doc-link.fitted:hover,\n",
       ".sk-estimator-doc-link.fitted:hover,\n",
       "div.sk-label-container:hover .sk-estimator-doc-link.fitted:hover,\n",
       ".sk-estimator-doc-link.fitted:hover {\n",
       "  /* fitted */\n",
       "  background-color: var(--sklearn-color-fitted-level-3);\n",
       "  color: var(--sklearn-color-background);\n",
       "  text-decoration: none;\n",
       "}\n",
       "\n",
       "/* Span, style for the box shown on hovering the info icon */\n",
       ".sk-estimator-doc-link span {\n",
       "  display: none;\n",
       "  z-index: 9999;\n",
       "  position: relative;\n",
       "  font-weight: normal;\n",
       "  right: .2ex;\n",
       "  padding: .5ex;\n",
       "  margin: .5ex;\n",
       "  width: min-content;\n",
       "  min-width: 20ex;\n",
       "  max-width: 50ex;\n",
       "  color: var(--sklearn-color-text);\n",
       "  box-shadow: 2pt 2pt 4pt #999;\n",
       "  /* unfitted */\n",
       "  background: var(--sklearn-color-unfitted-level-0);\n",
       "  border: .5pt solid var(--sklearn-color-unfitted-level-3);\n",
       "}\n",
       "\n",
       ".sk-estimator-doc-link.fitted span {\n",
       "  /* fitted */\n",
       "  background: var(--sklearn-color-fitted-level-0);\n",
       "  border: var(--sklearn-color-fitted-level-3);\n",
       "}\n",
       "\n",
       ".sk-estimator-doc-link:hover span {\n",
       "  display: block;\n",
       "}\n",
       "\n",
       "/* \"?\"-specific style due to the `<a>` HTML tag */\n",
       "\n",
       "#sk-container-id-1 a.estimator_doc_link {\n",
       "  float: right;\n",
       "  font-size: 1rem;\n",
       "  line-height: 1em;\n",
       "  font-family: monospace;\n",
       "  background-color: var(--sklearn-color-background);\n",
       "  border-radius: 1rem;\n",
       "  height: 1rem;\n",
       "  width: 1rem;\n",
       "  text-decoration: none;\n",
       "  /* unfitted */\n",
       "  color: var(--sklearn-color-unfitted-level-1);\n",
       "  border: var(--sklearn-color-unfitted-level-1) 1pt solid;\n",
       "}\n",
       "\n",
       "#sk-container-id-1 a.estimator_doc_link.fitted {\n",
       "  /* fitted */\n",
       "  border: var(--sklearn-color-fitted-level-1) 1pt solid;\n",
       "  color: var(--sklearn-color-fitted-level-1);\n",
       "}\n",
       "\n",
       "/* On hover */\n",
       "#sk-container-id-1 a.estimator_doc_link:hover {\n",
       "  /* unfitted */\n",
       "  background-color: var(--sklearn-color-unfitted-level-3);\n",
       "  color: var(--sklearn-color-background);\n",
       "  text-decoration: none;\n",
       "}\n",
       "\n",
       "#sk-container-id-1 a.estimator_doc_link.fitted:hover {\n",
       "  /* fitted */\n",
       "  background-color: var(--sklearn-color-fitted-level-3);\n",
       "}\n",
       "</style><div id=\"sk-container-id-1\" class=\"sk-top-container\"><div class=\"sk-text-repr-fallback\"><pre>RandomForestRegressor(n_estimators=500, random_state=42)</pre><b>In a Jupyter environment, please rerun this cell to show the HTML representation or trust the notebook. <br />On GitHub, the HTML representation is unable to render, please try loading this page with nbviewer.org.</b></div><div class=\"sk-container\" hidden><div class=\"sk-item\"><div class=\"sk-estimator fitted sk-toggleable\"><input class=\"sk-toggleable__control sk-hidden--visually\" id=\"sk-estimator-id-1\" type=\"checkbox\" checked><label for=\"sk-estimator-id-1\" class=\"sk-toggleable__label fitted sk-toggleable__label-arrow\"><div><div>RandomForestRegressor</div></div><div><a class=\"sk-estimator-doc-link fitted\" rel=\"noreferrer\" target=\"_blank\" href=\"https://scikit-learn.org/1.6/modules/generated/sklearn.ensemble.RandomForestRegressor.html\">?<span>Documentation for RandomForestRegressor</span></a><span class=\"sk-estimator-doc-link fitted\">i<span>Fitted</span></span></div></label><div class=\"sk-toggleable__content fitted\"><pre>RandomForestRegressor(n_estimators=500, random_state=42)</pre></div> </div></div></div></div>"
      ]
     },
     "execution_count": 15,
     "metadata": {},
     "output_type": "execute_result"
    }
   ],
   "execution_count": 15
  },
  {
   "metadata": {
    "ExecuteTime": {
     "end_time": "2025-04-13T17:22:53.472786Z",
     "start_time": "2025-04-13T17:22:22.297431Z"
    }
   },
   "cell_type": "code",
   "source": "df_test = InfluxDBQueries.get_data_from_influx(groupby_time='5m', pair='BTCUSDT', start=\"2023-01-01T01:00:00Z\", stop=\"2023-03-01T01:00:00Z\")",
   "id": "50e4e554b1cadf60",
   "outputs": [],
   "execution_count": 16
  },
  {
   "metadata": {
    "ExecuteTime": {
     "end_time": "2025-04-13T17:22:53.520030Z",
     "start_time": "2025-04-13T17:22:53.503040Z"
    }
   },
   "cell_type": "code",
   "source": "df_test",
   "id": "fef33e14a2a6862",
   "outputs": [
    {
     "data": {
      "text/plain": [
       "                               high       low     close      volume      open\n",
       "time                                                                         \n",
       "2023-01-01 01:05:00+00:00  16537.66  16525.78  16531.02   243.11353  16529.59\n",
       "2023-01-01 01:10:00+00:00  16540.47  16530.31  16539.20   152.21301  16530.39\n",
       "2023-01-01 01:15:00+00:00  16541.80  16535.40  16538.21   159.35521  16539.20\n",
       "2023-01-01 01:20:00+00:00  16540.82  16534.00  16538.59    87.71309  16537.68\n",
       "2023-01-01 01:25:00+00:00  16539.95  16530.76  16536.22   160.88183  16539.04\n",
       "...                             ...       ...       ...         ...       ...\n",
       "2023-03-01 00:40:00+00:00  23207.10  23178.28  23186.96   406.02806  23199.21\n",
       "2023-03-01 00:45:00+00:00  23194.86  23140.50  23145.49   505.40035  23186.96\n",
       "2023-03-01 00:50:00+00:00  23149.35  23088.00  23091.08   695.57913  23146.08\n",
       "2023-03-01 00:55:00+00:00  23097.92  23023.00  23027.84  1123.40258  23091.08\n",
       "2023-03-01 01:00:00+00:00  23114.69  23020.03  23101.00   890.63868  23028.77\n",
       "\n",
       "[16992 rows x 5 columns]"
      ],
      "text/html": [
       "<div>\n",
       "<style scoped>\n",
       "    .dataframe tbody tr th:only-of-type {\n",
       "        vertical-align: middle;\n",
       "    }\n",
       "\n",
       "    .dataframe tbody tr th {\n",
       "        vertical-align: top;\n",
       "    }\n",
       "\n",
       "    .dataframe thead th {\n",
       "        text-align: right;\n",
       "    }\n",
       "</style>\n",
       "<table border=\"1\" class=\"dataframe\">\n",
       "  <thead>\n",
       "    <tr style=\"text-align: right;\">\n",
       "      <th></th>\n",
       "      <th>high</th>\n",
       "      <th>low</th>\n",
       "      <th>close</th>\n",
       "      <th>volume</th>\n",
       "      <th>open</th>\n",
       "    </tr>\n",
       "    <tr>\n",
       "      <th>time</th>\n",
       "      <th></th>\n",
       "      <th></th>\n",
       "      <th></th>\n",
       "      <th></th>\n",
       "      <th></th>\n",
       "    </tr>\n",
       "  </thead>\n",
       "  <tbody>\n",
       "    <tr>\n",
       "      <th>2023-01-01 01:05:00+00:00</th>\n",
       "      <td>16537.66</td>\n",
       "      <td>16525.78</td>\n",
       "      <td>16531.02</td>\n",
       "      <td>243.11353</td>\n",
       "      <td>16529.59</td>\n",
       "    </tr>\n",
       "    <tr>\n",
       "      <th>2023-01-01 01:10:00+00:00</th>\n",
       "      <td>16540.47</td>\n",
       "      <td>16530.31</td>\n",
       "      <td>16539.20</td>\n",
       "      <td>152.21301</td>\n",
       "      <td>16530.39</td>\n",
       "    </tr>\n",
       "    <tr>\n",
       "      <th>2023-01-01 01:15:00+00:00</th>\n",
       "      <td>16541.80</td>\n",
       "      <td>16535.40</td>\n",
       "      <td>16538.21</td>\n",
       "      <td>159.35521</td>\n",
       "      <td>16539.20</td>\n",
       "    </tr>\n",
       "    <tr>\n",
       "      <th>2023-01-01 01:20:00+00:00</th>\n",
       "      <td>16540.82</td>\n",
       "      <td>16534.00</td>\n",
       "      <td>16538.59</td>\n",
       "      <td>87.71309</td>\n",
       "      <td>16537.68</td>\n",
       "    </tr>\n",
       "    <tr>\n",
       "      <th>2023-01-01 01:25:00+00:00</th>\n",
       "      <td>16539.95</td>\n",
       "      <td>16530.76</td>\n",
       "      <td>16536.22</td>\n",
       "      <td>160.88183</td>\n",
       "      <td>16539.04</td>\n",
       "    </tr>\n",
       "    <tr>\n",
       "      <th>...</th>\n",
       "      <td>...</td>\n",
       "      <td>...</td>\n",
       "      <td>...</td>\n",
       "      <td>...</td>\n",
       "      <td>...</td>\n",
       "    </tr>\n",
       "    <tr>\n",
       "      <th>2023-03-01 00:40:00+00:00</th>\n",
       "      <td>23207.10</td>\n",
       "      <td>23178.28</td>\n",
       "      <td>23186.96</td>\n",
       "      <td>406.02806</td>\n",
       "      <td>23199.21</td>\n",
       "    </tr>\n",
       "    <tr>\n",
       "      <th>2023-03-01 00:45:00+00:00</th>\n",
       "      <td>23194.86</td>\n",
       "      <td>23140.50</td>\n",
       "      <td>23145.49</td>\n",
       "      <td>505.40035</td>\n",
       "      <td>23186.96</td>\n",
       "    </tr>\n",
       "    <tr>\n",
       "      <th>2023-03-01 00:50:00+00:00</th>\n",
       "      <td>23149.35</td>\n",
       "      <td>23088.00</td>\n",
       "      <td>23091.08</td>\n",
       "      <td>695.57913</td>\n",
       "      <td>23146.08</td>\n",
       "    </tr>\n",
       "    <tr>\n",
       "      <th>2023-03-01 00:55:00+00:00</th>\n",
       "      <td>23097.92</td>\n",
       "      <td>23023.00</td>\n",
       "      <td>23027.84</td>\n",
       "      <td>1123.40258</td>\n",
       "      <td>23091.08</td>\n",
       "    </tr>\n",
       "    <tr>\n",
       "      <th>2023-03-01 01:00:00+00:00</th>\n",
       "      <td>23114.69</td>\n",
       "      <td>23020.03</td>\n",
       "      <td>23101.00</td>\n",
       "      <td>890.63868</td>\n",
       "      <td>23028.77</td>\n",
       "    </tr>\n",
       "  </tbody>\n",
       "</table>\n",
       "<p>16992 rows × 5 columns</p>\n",
       "</div>"
      ]
     },
     "execution_count": 17,
     "metadata": {},
     "output_type": "execute_result"
    }
   ],
   "execution_count": 17
  },
  {
   "metadata": {
    "ExecuteTime": {
     "end_time": "2025-04-13T17:22:53.575872Z",
     "start_time": "2025-04-13T17:22:53.568936Z"
    }
   },
   "cell_type": "code",
   "source": "df_test['target'] = df_test['close'].shift(-12) - df_test['close']",
   "id": "2b30c470055997ff",
   "outputs": [],
   "execution_count": 18
  },
  {
   "metadata": {
    "ExecuteTime": {
     "end_time": "2025-04-13T17:22:53.655355Z",
     "start_time": "2025-04-13T17:22:53.645559Z"
    }
   },
   "cell_type": "code",
   "source": [
    "df_test['ema_50'] = df_test['close'].ewm(span=50).mean()\n",
    "df_test['ema_125'] = df_test['close'].ewm(span=125).mean()\n",
    "df_test['ema_250'] = df_test['close'].ewm(span=250).mean()\n",
    "df_test['volatility_24h'] = df_test['close'].rolling(window=288).std()\n",
    "macd = ta.trend.MACD(close=df_test['close'])\n",
    "df_test['macd'] = macd.macd()\n",
    "df_test['macd_signal'] = macd.macd_signal()\n",
    "df_test['macd_diff'] = macd.macd_diff()\n",
    "df_test['momentum_6h'] = df_test['close'] - df_test['close'].shift(72)"
   ],
   "id": "e5be066b1b4fe32c",
   "outputs": [],
   "execution_count": 19
  },
  {
   "metadata": {
    "ExecuteTime": {
     "end_time": "2025-04-13T17:22:53.730590Z",
     "start_time": "2025-04-13T17:22:53.726770Z"
    }
   },
   "cell_type": "code",
   "source": "df_test = df_test.dropna()",
   "id": "9f24dbf948255cfb",
   "outputs": [],
   "execution_count": 20
  },
  {
   "metadata": {
    "ExecuteTime": {
     "end_time": "2025-04-13T17:23:06.580645Z",
     "start_time": "2025-04-13T17:22:53.764817Z"
    }
   },
   "cell_type": "code",
   "source": "df_test['pred'] = rf.predict(df_test[input_vals])",
   "id": "4fa800f7a3936b09",
   "outputs": [],
   "execution_count": 21
  },
  {
   "metadata": {
    "ExecuteTime": {
     "end_time": "2025-04-13T17:23:06.621684Z",
     "start_time": "2025-04-13T17:23:06.608176Z"
    }
   },
   "cell_type": "code",
   "source": "from sklearn.metrics import root_mean_squared_error",
   "id": "d537bb879df208c5",
   "outputs": [],
   "execution_count": 22
  },
  {
   "metadata": {
    "ExecuteTime": {
     "end_time": "2025-04-13T17:23:06.691288Z",
     "start_time": "2025-04-13T17:23:06.685156Z"
    }
   },
   "cell_type": "code",
   "source": "root_mean_squared_error(df_test['target'], df_test['pred'])",
   "id": "4490c2c97f8aaae3",
   "outputs": [
    {
     "data": {
      "text/plain": [
       "127.1360186948066"
      ]
     },
     "execution_count": 23,
     "metadata": {},
     "output_type": "execute_result"
    }
   ],
   "execution_count": 23
  },
  {
   "metadata": {
    "ExecuteTime": {
     "end_time": "2025-04-13T17:23:06.787122Z",
     "start_time": "2025-04-13T17:23:06.769641Z"
    }
   },
   "cell_type": "code",
   "source": [
    "df_test['pred_direction'] = df_test['pred'].apply(lambda x: 1 if x > 0 else -1)\n",
    "df_test['target_direction'] = df_test['target'].apply(lambda x: 1 if x > 0 else -1)"
   ],
   "id": "12e1bef576e2343f",
   "outputs": [],
   "execution_count": 24
  },
  {
   "metadata": {
    "ExecuteTime": {
     "end_time": "2025-04-13T17:23:06.825300Z",
     "start_time": "2025-04-13T17:23:06.822990Z"
    }
   },
   "cell_type": "code",
   "source": "from sklearn.metrics import classification_report",
   "id": "b070116c6a2e1d2",
   "outputs": [],
   "execution_count": 25
  },
  {
   "metadata": {
    "ExecuteTime": {
     "end_time": "2025-04-13T17:23:06.874780Z",
     "start_time": "2025-04-13T17:23:06.846170Z"
    }
   },
   "cell_type": "code",
   "source": "print(classification_report(df_test['target_direction'], df_test['pred_direction']))",
   "id": "6d91946ee2a4b121",
   "outputs": [
    {
     "name": "stdout",
     "output_type": "stream",
     "text": [
      "              precision    recall  f1-score   support\n",
      "\n",
      "          -1       0.50      0.43      0.46      8021\n",
      "           1       0.53      0.60      0.56      8672\n",
      "\n",
      "    accuracy                           0.52     16693\n",
      "   macro avg       0.51      0.51      0.51     16693\n",
      "weighted avg       0.52      0.52      0.51     16693\n",
      "\n"
     ]
    }
   ],
   "execution_count": 26
  },
  {
   "metadata": {
    "ExecuteTime": {
     "end_time": "2025-04-13T17:23:06.925478Z",
     "start_time": "2025-04-13T17:23:06.919568Z"
    }
   },
   "cell_type": "code",
   "source": "df_test['pred_value'] = df_test['pred'].shift(12) + df_test['close'].shift(12)",
   "id": "85d192c46a1258d4",
   "outputs": [],
   "execution_count": 27
  },
  {
   "metadata": {
    "ExecuteTime": {
     "end_time": "2025-04-13T17:23:06.947741Z",
     "start_time": "2025-04-13T17:23:06.942726Z"
    }
   },
   "cell_type": "code",
   "source": "df_test['pred_value'].dropna(inplace=True)",
   "id": "163bf7550828c816",
   "outputs": [],
   "execution_count": 28
  },
  {
   "metadata": {
    "ExecuteTime": {
     "end_time": "2025-04-13T17:23:06.983626Z",
     "start_time": "2025-04-13T17:23:06.981933Z"
    }
   },
   "cell_type": "code",
   "source": "import matplotlib.pyplot as plt",
   "id": "576805ef3aafaf0d",
   "outputs": [],
   "execution_count": 29
  },
  {
   "metadata": {
    "ExecuteTime": {
     "end_time": "2025-04-13T17:23:08.466972Z",
     "start_time": "2025-04-13T17:23:07.012984Z"
    }
   },
   "cell_type": "code",
   "source": [
    "plt.figure(figsize=(14, 7))\n",
    "plt.plot(df_test['close'], label='Close Price')\n",
    "plt.plot(df_test['pred_value'], label='Predicted Price', linestyle='--')\n",
    "plt.title('Predicted vs Actual Price')\n",
    "plt.legend()\n",
    "plt.show()"
   ],
   "id": "f4501be7cde796cf",
   "outputs": [
    {
     "data": {
      "text/plain": [
       "<Figure size 1400x700 with 1 Axes>"
      ],
      "image/png": "[encoded data removed]"
     },
     "metadata": {},
     "output_type": "display_data"
    }
   ],
   "execution_count": 30
  },
  {
   "metadata": {
    "ExecuteTime": {
     "end_time": "2025-04-13T17:23:08.479582Z",
     "start_time": "2025-04-13T17:23:08.477429Z"
    }
   },
   "cell_type": "code",
   "source": "",
   "id": "2e1730898fc85bb2",
   "outputs": [],
   "execution_count": null
  }
 ],
 "metadata": {
  "kernelspec": {
   "display_name": "Python 3",
   "language": "python",
   "name": "python3"
  },
  "language_info": {
   "codemirror_mode": {
    "name": "ipython",
    "version": 3
   },
   "file_extension": ".py",
   "mimetype": "text/x-python",
   "name": "python",
   "nbconvert_exporter": "python",
   "pygments_lexer": "ipython3",
   "version": "3.12.4"
  }
 },
 "nbformat": 4,
 "nbformat_minor": 5
}
